{
 "cells": [
  {
   "cell_type": "markdown",
   "metadata": {},
   "source": [
    "# Experiment Report"
   ]
  },
  {
   "cell_type": "code",
   "execution_count": 84,
   "metadata": {},
   "outputs": [],
   "source": [
    "import os\n",
    "import numpy as np\n",
    "np.warnings.filterwarnings('ignore')\n",
    "\n",
    "import pandas as pd\n",
    "import matplotlib.pyplot as plt\n",
    "import matplotlib\n",
    "from matplotlib.ticker import FormatStrFormatter\n",
    "\n",
    "import seaborn as sns\n",
    "import json\n",
    "%matplotlib inline\n",
    "\n",
    "# statistics\n",
    "from scipy import stats\n",
    "from itertools import product, combinations"
   ]
  },
  {
   "cell_type": "code",
   "execution_count": 85,
   "metadata": {},
   "outputs": [],
   "source": [
    "results = {}"
   ]
  },
  {
   "cell_type": "code",
   "execution_count": 86,
   "metadata": {},
   "outputs": [],
   "source": [
    "root = \"/Users/lucasosouza/Documents/dissertacao/\"\n",
    "root_results = \"results/\"\n",
    "results_paths = [\"focus_sharing_tile_coding/\"]\n",
    "for results_path in results_paths:\n",
    "    experiments = [f for f in os.listdir(root+root_results+results_path) if f[-4:] == 'json']\n",
    "    for exp in experiments:\n",
    "        exp_name = exp[:-5]\n",
    "        with open( root+root_results+results_path+exp, 'r') as f:\n",
    "            data = json.load(f)\n",
    "            if exp_name in results:\n",
    "                for metric, values in data.items():\n",
    "                    results[exp_name][metric].extend(values)\n",
    "            else:\n",
    "                results[exp_name] = data                "
   ]
  },
  {
   "cell_type": "code",
   "execution_count": 87,
   "metadata": {},
   "outputs": [
    {
     "name": "stdout",
     "output_type": "stream",
     "text": [
      "dqn_focus_sharing_tiles5 100\n",
      "dqn_focus_sharing_tiles40 100\n",
      "dqn_focus_sharing_tiles20 100\n",
      "dqn_focus_sharing_tiles1 100\n",
      "dqn_focus_sharing_tiles10 100\n"
     ]
    }
   ],
   "source": [
    "# checking count of samples\n",
    "for exp_name, data in results.items():\n",
    "    print(exp_name, len(data['average_rewards']))\n",
    "    "
   ]
  },
  {
   "cell_type": "code",
   "execution_count": 88,
   "metadata": {},
   "outputs": [],
   "source": [
    "# # randomly sample 250 out of these?\n",
    "# for exp_name, data in results.items():\n",
    "#     samples = np.random.choice(len(data['average_rewards']), 250)\n",
    "#     for metric, values in data.items():\n",
    "#         results[exp_name][metric] = np.array(values)[samples]\n",
    "\n",
    "# for exp_name, data in results.items():\n",
    "#     print(exp_name, len(data['average_rewards']))\n"
   ]
  },
  {
   "cell_type": "code",
   "execution_count": 89,
   "metadata": {},
   "outputs": [],
   "source": [
    "experiments = results.keys()"
   ]
  },
  {
   "cell_type": "code",
   "execution_count": 90,
   "metadata": {},
   "outputs": [],
   "source": [
    "episode_count = {}\n",
    "for exp_name in experiments:\n",
    "    episode_count[exp_name] = results[exp_name]['episodes_to_complete']"
   ]
  },
  {
   "cell_type": "code",
   "execution_count": 91,
   "metadata": {},
   "outputs": [
    {
     "name": "stdout",
     "output_type": "stream",
     "text": [
      "dqn_focus_sharing_tiles5: 1\n",
      "dqn_focus_sharing_tiles40: 2\n",
      "dqn_focus_sharing_tiles20: 0\n",
      "dqn_focus_sharing_tiles1: 1\n",
      "dqn_focus_sharing_tiles10: 0\n"
     ]
    }
   ],
   "source": [
    "for key, data in episode_count.items():\n",
    "    print(\"{}: {}\".format(key, sorted(data).count(1000)))"
   ]
  },
  {
   "cell_type": "code",
   "execution_count": 92,
   "metadata": {},
   "outputs": [],
   "source": [
    "# episode_count"
   ]
  },
  {
   "cell_type": "code",
   "execution_count": 99,
   "metadata": {},
   "outputs": [
    {
     "name": "stdout",
     "output_type": "stream",
     "text": [
      "means\n",
      "dqn_focus_sharing_tiles5 150.97\n",
      "dqn_focus_sharing_tiles40 170.03\n",
      "dqn_focus_sharing_tiles20 151.32\n",
      "dqn_focus_sharing_tiles1 157.19\n",
      "dqn_focus_sharing_tiles10 151.7\n",
      "\n",
      "deviations\n",
      "dqn_focus_sharing_tiles5 115.10738073642366\n",
      "dqn_focus_sharing_tiles40 150.56284103323767\n",
      "dqn_focus_sharing_tiles20 120.00515655587472\n",
      "dqn_focus_sharing_tiles1 130.36722709331514\n",
      "dqn_focus_sharing_tiles10 81.32262907702874\n"
     ]
    }
   ],
   "source": [
    "print(\"means\")\n",
    "for k,v in episode_count.items():\n",
    "    print(k, np.mean(v))\n",
    "\n",
    "print(\"\\ndeviations\")\n",
    "for k,v in episode_count.items():\n",
    "    print(k, np.std(v))\n"
   ]
  },
  {
   "cell_type": "markdown",
   "metadata": {},
   "source": [
    "Use violin plots to show improvements. Violin plots (or regular box plots) will not only show how the average changes, but also the 25 and 75% medians and the overall dispersion of the data. This should show a better picture of how increasing the number of agents affect sharing."
   ]
  },
  {
   "cell_type": "code",
   "execution_count": 100,
   "metadata": {},
   "outputs": [],
   "source": [
    "steps_count = {}\n",
    "for exp_name in experiments:\n",
    "    steps_count[exp_name] = results[exp_name]['average_steps']"
   ]
  },
  {
   "cell_type": "code",
   "execution_count": 101,
   "metadata": {},
   "outputs": [
    {
     "name": "stdout",
     "output_type": "stream",
     "text": [
      "means\n",
      "66.35986099103737\n",
      "70.6251901660732\n",
      "65.18745339362061\n",
      "73.79543786367189\n",
      "70.37618563462026\n",
      "\n",
      "deviations\n",
      "27.209207529964814\n",
      "28.587889044735338\n",
      "26.176835591669075\n",
      "29.404950601045577\n",
      "27.46792278762922\n"
     ]
    }
   ],
   "source": [
    "## NUM STEPS\n",
    "print(\"means\")\n",
    "for k,v in steps_count.items():\n",
    "    print(np.mean(v))\n",
    "\n",
    "print(\"\\ndeviations\")\n",
    "for k,v in steps_count.items():\n",
    "    print(np.std(v))\n",
    "\n",
    "    "
   ]
  },
  {
   "cell_type": "code",
   "execution_count": 102,
   "metadata": {},
   "outputs": [],
   "source": [
    "rewards_count = {}\n",
    "for exp_name in experiments:\n",
    "    rewards_count[exp_name] = results[exp_name]['average_rewards']"
   ]
  },
  {
   "cell_type": "code",
   "execution_count": 103,
   "metadata": {},
   "outputs": [
    {
     "name": "stdout",
     "output_type": "stream",
     "text": [
      "means\n",
      "66.35986099103737\n",
      "70.6251901660732\n",
      "65.18745339362061\n",
      "73.79543786367189\n",
      "70.37618563462026\n",
      "\n",
      "deviations\n",
      "27.209207529964814\n",
      "28.587889044735338\n",
      "26.176835591669075\n",
      "29.404950601045577\n",
      "27.46792278762922\n"
     ]
    }
   ],
   "source": [
    "## NUM STEPS\n",
    "print(\"means\")\n",
    "for k,v in rewards_count.items():\n",
    "    print(np.mean(v))\n",
    "\n",
    "print(\"\\ndeviations\")\n",
    "for k,v in rewards_count.items():\n",
    "    print(np.std(v))\n",
    "\n",
    "    "
   ]
  },
  {
   "cell_type": "code",
   "execution_count": 104,
   "metadata": {},
   "outputs": [
    {
     "data": {
      "text/plain": [
       "dict_keys(['dqn_focus_sharing_tiles5', 'dqn_focus_sharing_tiles40', 'dqn_focus_sharing_tiles20', 'dqn_focus_sharing_tiles1', 'dqn_focus_sharing_tiles10'])"
      ]
     },
     "execution_count": 104,
     "metadata": {},
     "output_type": "execute_result"
    }
   ],
   "source": [
    "experiments"
   ]
  },
  {
   "cell_type": "code",
   "execution_count": 105,
   "metadata": {},
   "outputs": [],
   "source": [
    "X = []\n",
    "Y = []\n",
    "for key, data in episode_count.items():\n",
    "    int_key = int(key.replace('dqn_focus_sharing_tiles', ''))\n",
    "    X.extend([int_key] * len(data))\n",
    "    Y.extend(data)"
   ]
  },
  {
   "cell_type": "code",
   "execution_count": 107,
   "metadata": {},
   "outputs": [
    {
     "data": {
      "image/png": "[encoded data removed]",
      "text/plain": [
       "<Figure size 1008x504 with 1 Axes>"
      ]
     },
     "metadata": {},
     "output_type": "display_data"
    }
   ],
   "source": [
    "\n",
    "matplotlib.rc('xtick', labelsize=14)\n",
    "matplotlib.rc('ytick', labelsize=14)\n",
    "plt.rcParams.update({'font.size': 14})\n",
    "plt.rcParams.update({\"axes.grid\": True, 'axes.grid.axis': 'y', \"grid.linewidth\": 0.25})\n",
    "plt.figure(figsize=(14,7))\n",
    "sns.boxplot(x=X, y=Y)\n",
    "plt.ylim((50,300))\n",
    "plt.ylabel(\"Number of episodes to complete task\", labelpad=10)\n",
    "plt.xlabel(\"Number of tiles\", labelpad=9)\n",
    "plt.savefig('multiagentComparison.png', dpi=200, bbox_inches='tight')"
   ]
  },
  {
   "cell_type": "code",
   "execution_count": 109,
   "metadata": {},
   "outputs": [
    {
     "data": {
      "text/html": [
       "<div>\n",
       "<style scoped>\n",
       "    .dataframe tbody tr th:only-of-type {\n",
       "        vertical-align: middle;\n",
       "    }\n",
       "\n",
       "    .dataframe tbody tr th {\n",
       "        vertical-align: top;\n",
       "    }\n",
       "\n",
       "    .dataframe thead th {\n",
       "        text-align: right;\n",
       "    }\n",
       "</style>\n",
       "<table border=\"1\" class=\"dataframe\">\n",
       "  <thead>\n",
       "    <tr style=\"text-align: left;\">\n",
       "      <th></th>\n",
       "      <th>1</th>\n",
       "      <th>5</th>\n",
       "      <th>10</th>\n",
       "      <th>20</th>\n",
       "      <th>40</th>\n",
       "    </tr>\n",
       "  </thead>\n",
       "  <tbody>\n",
       "    <tr>\n",
       "      <th>25% Q</th>\n",
       "      <td>93</td>\n",
       "      <td>98</td>\n",
       "      <td>104</td>\n",
       "      <td>99</td>\n",
       "      <td>101</td>\n",
       "    </tr>\n",
       "    <tr>\n",
       "      <th>50% Q</th>\n",
       "      <td>115</td>\n",
       "      <td>120</td>\n",
       "      <td>123</td>\n",
       "      <td>114</td>\n",
       "      <td>123</td>\n",
       "    </tr>\n",
       "    <tr>\n",
       "      <th>75% Q</th>\n",
       "      <td>153</td>\n",
       "      <td>154</td>\n",
       "      <td>154</td>\n",
       "      <td>140</td>\n",
       "      <td>159</td>\n",
       "    </tr>\n",
       "  </tbody>\n",
       "</table>\n",
       "</div>"
      ],
      "text/plain": [
       "       1    5    10   20   40 \n",
       "25% Q   93   98  104   99  101\n",
       "50% Q  115  120  123  114  123\n",
       "75% Q  153  154  154  140  159"
      ]
     },
     "execution_count": 109,
     "metadata": {},
     "output_type": "execute_result"
    }
   ],
   "source": [
    "pd.set_option(\"display.colheader_justify\",\"left\")\n",
    "df = pd.DataFrame(columns=['25% Q', '50% Q', '75% Q'], index=[int(k.replace('dqn_focus_sharing_tiles', '')) for k in episode_count.keys()])\n",
    "for key,data in episode_count.items():\n",
    "    int_key = int(key.replace('dqn_focus_sharing_tiles', ''))    \n",
    "    df.loc[int_key]['25% Q'] = np.quantile(data, 0.25)\n",
    "    df.loc[int_key]['50% Q'] = np.quantile(data, 0.50)\n",
    "    df.loc[int_key]['75% Q'] = np.quantile(data, 0.75)\n",
    "    \n",
    "# df = df.astype(pd.to_numeric)\n",
    "df = df.astype(np.int32)\n",
    "# df = df.round(decimals=1)\n",
    "# df.style.set_properties(**{'text-align': 'center'})\n",
    "df = df.sort_index()\n",
    "df = df.transpose()\n",
    "df.head(10)\n"
   ]
  },
  {
   "cell_type": "code",
   "execution_count": 110,
   "metadata": {},
   "outputs": [],
   "source": [
    "# print(df.to_latex())"
   ]
  },
  {
   "cell_type": "code",
   "execution_count": 148,
   "metadata": {},
   "outputs": [],
   "source": [
    "experiments_labels = {\n",
    "    'dqn_focus_sharing_tiles1': '1',\n",
    "    'dqn_focus_sharing_tiles5': '5', \n",
    "    'dqn_focus_sharing_tiles10': '11', \n",
    "    'dqn_focus_sharing_tiles20': '21', \n",
    "    'dqn_focus_sharing_tiles40': '41'\n",
    "}"
   ]
  },
  {
   "cell_type": "code",
   "execution_count": 149,
   "metadata": {},
   "outputs": [
    {
     "data": {
      "text/plain": [
       "dict_keys(['dqn_focus_sharing_tiles1', 'dqn_focus_sharing_tiles5', 'dqn_focus_sharing_tiles10', 'dqn_focus_sharing_tiles20', 'dqn_focus_sharing_tiles40'])"
      ]
     },
     "execution_count": 149,
     "metadata": {},
     "output_type": "execute_result"
    }
   ],
   "source": [
    "experiments_labels.keys()"
   ]
  },
  {
   "cell_type": "code",
   "execution_count": 150,
   "metadata": {},
   "outputs": [],
   "source": [
    "# format plots\n",
    "import matplotlib\n",
    "matplotlib.rc('xtick', labelsize=14)\n",
    "matplotlib.rc('ytick', labelsize=14)\n",
    "plt.rcParams.update({'font.size': 14})\n",
    "plt.rcParams.update({\"axes.grid\": True, \"grid.linewidth\": 0.75})\n",
    "\n",
    "def plot_single(results, selected_experiments, colors):\n",
    "    plt.figure(figsize=(12,6))\n",
    "    # plt.xticks(np.arange(0,300000,50000))\n",
    "    plt.grid(axis='y')\n",
    "    for exp_id in selected_experiments:\n",
    "        print(exp_id)\n",
    "        # exp_label = experiments[exp_name]\n",
    "        sns.kdeplot(results[exp_id], label=experiments_labels[exp_id])\n",
    "        \n",
    "    plt.legend()\n",
    "    plt.xlabel(\"Number of episodes required to complete task\", labelpad=9)\n",
    "    plt.ylabel(\"Frequency\", labelpad=10)\n",
    "    plt.xlim((0,400))\n",
    "    # plt.ylim(0, 0.06)\n",
    "        \n"
   ]
  },
  {
   "cell_type": "code",
   "execution_count": 151,
   "metadata": {},
   "outputs": [
    {
     "name": "stdout",
     "output_type": "stream",
     "text": [
      "dqn_focus_sharing_tiles1\n",
      "dqn_focus_sharing_tiles5\n",
      "dqn_focus_sharing_tiles10\n",
      "dqn_focus_sharing_tiles20\n",
      "dqn_focus_sharing_tiles40\n"
     ]
    },
    {
     "data": {
      "image/png": "[encoded data removed]",
      "text/plain": [
       "<Figure size 864x432 with 1 Axes>"
      ]
     },
     "metadata": {},
     "output_type": "display_data"
    }
   ],
   "source": [
    "plot_single(episode_count, experiments_labels.keys(), ['#003FFF', '#03ED3A'])\n",
    "plt.savefig('tilecoding.png', dpi=200, bbox_inches='tight')"
   ]
  },
  {
   "cell_type": "raw",
   "metadata": {},
   "source": [
    "only changes deviation, the curves are more concentrated. it will good to talk about tile coding, add a little more robustness to the experiment\n",
    "\n",
    "what else do I want? probably plot another table here\n",
    "should help"
   ]
  },
  {
   "cell_type": "code",
   "execution_count": 145,
   "metadata": {},
   "outputs": [],
   "source": [
    "experiments_ranges = {\n",
    "    '1':'-',\n",
    "    '5':'${0.05 cdot x text{ for } x in [-2..2]}$' , \n",
    "    '11':'${0.02 cdot x text{ for } x in [-5..5]}$' , \n",
    "    '22':'${0.01 cdot x text{ for } x in [-10..10]}$', \n",
    "    '41':'${0.01 cdot x text{ for } x in [-20..20]}$' \n",
    "}"
   ]
  },
  {
   "cell_type": "raw",
   "metadata": {},
   "source": [
    "tile offset\n",
    "\n",
    "'-'\n",
    "'[-2..2] * 0.05' \n",
    "'[-5..5] * 0.02' \n",
    "'[-10..10] * 0.01' \n",
    "'[-20..20] * 0.01' \n",
    "\n",
    "\n",
    "\n",
    "\n",
    "[0.10]\n",
    "[0.02, 0.05]\n"
   ]
  },
  {
   "cell_type": "code",
   "execution_count": 146,
   "metadata": {},
   "outputs": [
    {
     "data": {
      "text/html": [
       "<div>\n",
       "<style scoped>\n",
       "    .dataframe tbody tr th:only-of-type {\n",
       "        vertical-align: middle;\n",
       "    }\n",
       "\n",
       "    .dataframe tbody tr th {\n",
       "        vertical-align: top;\n",
       "    }\n",
       "\n",
       "    .dataframe thead th {\n",
       "        text-align: right;\n",
       "    }\n",
       "</style>\n",
       "<table border=\"1\" class=\"dataframe\">\n",
       "  <thead>\n",
       "    <tr style=\"text-align: left;\">\n",
       "      <th></th>\n",
       "      <th>Tile Offsets</th>\n",
       "      <th>ETC Mean</th>\n",
       "      <th>ETC Deviation</th>\n",
       "    </tr>\n",
       "  </thead>\n",
       "  <tbody>\n",
       "    <tr>\n",
       "      <th>1</th>\n",
       "      <td>-</td>\n",
       "      <td>157.19</td>\n",
       "      <td>130.37</td>\n",
       "    </tr>\n",
       "    <tr>\n",
       "      <th>5</th>\n",
       "      <td>${0.05 cdot x text{ for } x in [-2..2]}$</td>\n",
       "      <td>150.97</td>\n",
       "      <td>115.11</td>\n",
       "    </tr>\n",
       "    <tr>\n",
       "      <th>11</th>\n",
       "      <td>${0.02 cdot x text{ for } x in [-5..5]}$</td>\n",
       "      <td>151.70</td>\n",
       "      <td>81.32</td>\n",
       "    </tr>\n",
       "    <tr>\n",
       "      <th>22</th>\n",
       "      <td>${0.01 cdot x text{ for } x in [-10..10]}$</td>\n",
       "      <td>151.32</td>\n",
       "      <td>120.01</td>\n",
       "    </tr>\n",
       "    <tr>\n",
       "      <th>41</th>\n",
       "      <td>${0.01 cdot x text{ for } x in [-20..20]}$</td>\n",
       "      <td>170.03</td>\n",
       "      <td>150.56</td>\n",
       "    </tr>\n",
       "  </tbody>\n",
       "</table>\n",
       "</div>"
      ],
      "text/plain": [
       "   Tile Offsets                                 ETC Mean  ETC Deviation\n",
       "1                                            -  157.19    130.37       \n",
       "5     ${0.05 cdot x text{ for } x in [-2..2]}$  150.97    115.11       \n",
       "11    ${0.02 cdot x text{ for } x in [-5..5]}$  151.70     81.32       \n",
       "22  ${0.01 cdot x text{ for } x in [-10..10]}$  151.32    120.01       \n",
       "41  ${0.01 cdot x text{ for } x in [-20..20]}$  170.03    150.56       "
      ]
     },
     "execution_count": 146,
     "metadata": {},
     "output_type": "execute_result"
    }
   ],
   "source": [
    "graph = {}\n",
    "\n",
    "graph['ETC Mean'] = []\n",
    "for k,v in episode_count.items():\n",
    "    graph['ETC Mean'].append(np.mean(v))\n",
    "\n",
    "graph['ETC Deviation'] = []\n",
    "for k,v in episode_count.items():\n",
    "    graph['ETC Deviation'].append(np.std(v))\n",
    "    \n",
    "pd.set_option(\"display.colheader_justify\",\"left\")\n",
    "df = pd.DataFrame.from_dict(graph)\n",
    "df = df.transpose()\n",
    "df.columns=[experiments_labels[e] for e in episode_count.keys()]\n",
    "df = df.transpose()\n",
    "\n",
    "df['Tile Offsets'] = None\n",
    "for exp, rg in experiments_ranges.items():\n",
    "    df.loc[exp, 'Tile Offsets'] = rg\n",
    "\n",
    "df['ETC Mean'] = df['ETC Mean'].round(decimals=2)\n",
    "df['ETC Deviation'] = df['ETC Deviation'].round(decimals=2)\n",
    "\n",
    "df = df.reindex(['Tile Offsets', 'ETC Mean', 'ETC Deviation'], axis=1)\n",
    "\n",
    "df.style.set_properties(**{'text-align': 'center'})\n",
    "df.index = df.index.astype(int)\n",
    "df = df.sort_index()\n",
    "df.head(10)"
   ]
  },
  {
   "cell_type": "code",
   "execution_count": 147,
   "metadata": {},
   "outputs": [
    {
     "name": "stdout",
     "output_type": "stream",
     "text": [
      "\\begin{tabular}{llrr}\n",
      "\\toprule\n",
      "{} & Tile Offsets                                &  ETC Mean &  ETC Deviation \\\\\n",
      "\\midrule\n",
      "1  &                                           - &  157.19   &  130.37        \\\\\n",
      "5  &    \\$\\{0.05 cdot x text\\{ for \\} x in [-2..2]\\}\\$ &  150.97   &  115.11        \\\\\n",
      "11 &    \\$\\{0.02 cdot x text\\{ for \\} x in [-5..5]\\}\\$ &  151.70   &   81.32        \\\\\n",
      "22 &  \\$\\{0.01 cdot x text\\{ for \\} x in [-10..10]\\}\\$ &  151.32   &  120.01        \\\\\n",
      "41 &  \\$\\{0.01 cdot x text\\{ for \\} x in [-20..20]\\}\\$ &  170.03   &  150.56        \\\\\n",
      "\\bottomrule\n",
      "\\end{tabular}\n",
      "\n"
     ]
    }
   ],
   "source": [
    "print(df.to_latex())"
   ]
  },
  {
   "cell_type": "code",
   "execution_count": null,
   "metadata": {},
   "outputs": [],
   "source": [
    "# graph['Trials Failed'] = []\n",
    "# for k,v in episode_count.items():\n",
    "#     graph['Trials Failed'].append(sorted(v).count(1000))\n",
    "# df['Trials Failed'] = pd.to_numeric(df['Trials Failed'], downcast='integer')\n"
   ]
  },
  {
   "cell_type": "code",
   "execution_count": null,
   "metadata": {},
   "outputs": [],
   "source": []
  }
 ],
 "metadata": {
  "kernelspec": {
   "display_name": "Python 3",
   "language": "python",
   "name": "python3"
  },
  "language_info": {
   "codemirror_mode": {
    "name": "ipython",
    "version": 3
   },
   "file_extension": ".py",
   "mimetype": "text/x-python",
   "name": "python",
   "nbconvert_exporter": "python",
   "pygments_lexer": "ipython3",
   "version": "3.6.5"
  },
  "varInspector": {
   "cols": {
    "lenName": 16,
    "lenType": 16,
    "lenVar": 40
   },
   "kernels_config": {
    "python": {
     "delete_cmd_postfix": "",
     "delete_cmd_prefix": "del ",
     "library": "var_list.py",
     "varRefreshCmd": "print(var_dic_list())"
    },
    "r": {
     "delete_cmd_postfix": ") ",
     "delete_cmd_prefix": "rm(",
     "library": "var_list.r",
     "varRefreshCmd": "cat(var_dic_list()) "
    }
   },
   "types_to_exclude": [
    "module",
    "function",
    "builtin_function_or_method",
    "instance",
    "_Feature"
   ],
   "window_display": false
  }
 },
 "nbformat": 4,
 "nbformat_minor": 2
}
