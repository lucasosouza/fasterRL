{
 "cells": [
  {
   "cell_type": "markdown",
   "metadata": {},
   "source": [
    "# Experiment Report"
   ]
  },
  {
   "cell_type": "code",
   "execution_count": 336,
   "metadata": {},
   "outputs": [],
   "source": [
    "import os\n",
    "import numpy as np\n",
    "np.warnings.filterwarnings('ignore')\n",
    "\n",
    "import pandas as pd\n",
    "import matplotlib.pyplot as plt\n",
    "import matplotlib\n",
    "from matplotlib.ticker import FormatStrFormatter\n",
    "\n",
    "import seaborn as sns\n",
    "import json\n",
    "%matplotlib inline\n",
    "\n",
    "# statistics\n",
    "from scipy import stats\n",
    "from itertools import product, combinations"
   ]
  },
  {
   "cell_type": "code",
   "execution_count": 337,
   "metadata": {},
   "outputs": [],
   "source": [
    "results = {}"
   ]
  },
  {
   "cell_type": "code",
   "execution_count": 338,
   "metadata": {},
   "outputs": [],
   "source": [
    "root = \"/mnt/storage/log-experiments/\"\n",
    "root_results = \"results/focus_sharing_multiple_agents/\"\n",
    "results_paths = [\"1/\", \"2/\", \"3/\", \"4/\", \"5/\"]\n",
    "for results_path in results_paths:\n",
    "    experiments = [f for f in os.listdir(root+root_results+results_path) if f[-4:] == 'json']\n",
    "    for exp in experiments:\n",
    "        exp_name = exp[:-5]\n",
    "        with open( root+root_results+results_path+exp, 'r') as f:\n",
    "            data = json.load(f)\n",
    "            if exp_name in results:\n",
    "                for metric, values in data.items():\n",
    "                    results[exp_name][metric].extend(values)\n",
    "            else:\n",
    "                results[exp_name] = data                "
   ]
  },
  {
   "cell_type": "code",
   "execution_count": 339,
   "metadata": {},
   "outputs": [
    {
     "name": "stdout",
     "output_type": "stream",
     "text": [
      "dqn_focus_sharing_10 600\n",
      "dqn_focus_sharing_3 252\n",
      "dqn_focus_sharing_4 300\n",
      "dqn_focus_sharing_5 350\n",
      "dqn_focus_sharing_6 402\n",
      "dqn_focus_sharing_7 455\n",
      "dqn_focus_sharing_8 504\n",
      "dqn_focus_sharing_9 558\n",
      "dqn_focus_sharing_2 500\n",
      "dqn_focus_sharing_1 250\n"
     ]
    }
   ],
   "source": [
    "# checking count of samples\n",
    "for exp_name, data in results.items():\n",
    "    print(exp_name, len(data['average_rewards']))\n",
    "    "
   ]
  },
  {
   "cell_type": "code",
   "execution_count": 340,
   "metadata": {},
   "outputs": [
    {
     "name": "stdout",
     "output_type": "stream",
     "text": [
      "dqn_focus_sharing_10 250\n",
      "dqn_focus_sharing_3 250\n",
      "dqn_focus_sharing_4 250\n",
      "dqn_focus_sharing_5 250\n",
      "dqn_focus_sharing_6 250\n",
      "dqn_focus_sharing_7 250\n",
      "dqn_focus_sharing_8 250\n",
      "dqn_focus_sharing_9 250\n",
      "dqn_focus_sharing_2 250\n",
      "dqn_focus_sharing_1 250\n"
     ]
    }
   ],
   "source": [
    "# randomly sample 250 out of these?\n",
    "for exp_name, data in results.items():\n",
    "    samples = np.random.choice(len(data['average_rewards']), 250)\n",
    "    for metric, values in data.items():\n",
    "        results[exp_name][metric] = np.array(values)[samples]\n",
    "\n",
    "for exp_name, data in results.items():\n",
    "    print(exp_name, len(data['average_rewards']))\n"
   ]
  },
  {
   "cell_type": "code",
   "execution_count": 341,
   "metadata": {},
   "outputs": [],
   "source": [
    "experiments = results.keys()"
   ]
  },
  {
   "cell_type": "code",
   "execution_count": 342,
   "metadata": {},
   "outputs": [],
   "source": [
    "episode_count = {}\n",
    "for exp_name in experiments:\n",
    "    episode_count[exp_name] = results[exp_name]['episodes_to_complete']"
   ]
  },
  {
   "cell_type": "code",
   "execution_count": 343,
   "metadata": {},
   "outputs": [
    {
     "name": "stdout",
     "output_type": "stream",
     "text": [
      "dqn_focus_sharing_10: 0\n",
      "dqn_focus_sharing_3: 1\n",
      "dqn_focus_sharing_4: 1\n",
      "dqn_focus_sharing_5: 0\n",
      "dqn_focus_sharing_6: 0\n",
      "dqn_focus_sharing_7: 0\n",
      "dqn_focus_sharing_8: 3\n",
      "dqn_focus_sharing_9: 0\n",
      "dqn_focus_sharing_2: 0\n",
      "dqn_focus_sharing_1: 0\n"
     ]
    }
   ],
   "source": [
    "for key, data in episode_count.items():\n",
    "    print(\"{}: {}\".format(key, sorted(data).count(1000)))"
   ]
  },
  {
   "cell_type": "code",
   "execution_count": 344,
   "metadata": {},
   "outputs": [],
   "source": [
    "# episode_count"
   ]
  },
  {
   "cell_type": "code",
   "execution_count": 345,
   "metadata": {},
   "outputs": [
    {
     "name": "stdout",
     "output_type": "stream",
     "text": [
      "means\n",
      "dqn_focus_sharing_10 142.88\n",
      "dqn_focus_sharing_3 139.712\n",
      "dqn_focus_sharing_4 120.324\n",
      "dqn_focus_sharing_5 124.356\n",
      "dqn_focus_sharing_6 120.612\n",
      "dqn_focus_sharing_7 120.936\n",
      "dqn_focus_sharing_8 133.184\n",
      "dqn_focus_sharing_9 120.212\n",
      "dqn_focus_sharing_2 139.2\n",
      "dqn_focus_sharing_1 283.236\n",
      "\n",
      "deviations\n",
      "dqn_focus_sharing_10 90.03271405439249\n",
      "dqn_focus_sharing_3 94.75309523176539\n",
      "dqn_focus_sharing_4 74.58033939316715\n",
      "dqn_focus_sharing_5 60.18602216461891\n",
      "dqn_focus_sharing_6 49.79338767346524\n",
      "dqn_focus_sharing_7 45.26318486363945\n",
      "dqn_focus_sharing_8 104.44178351598559\n",
      "dqn_focus_sharing_9 36.27681154677186\n",
      "dqn_focus_sharing_2 85.12884352556424\n",
      "dqn_focus_sharing_1 168.13809890682123\n"
     ]
    }
   ],
   "source": [
    "print(\"means\")\n",
    "for k,v in episode_count.items():\n",
    "    print(k, np.mean(v))\n",
    "\n",
    "print(\"\\ndeviations\")\n",
    "for k,v in episode_count.items():\n",
    "    print(k, np.std(v))\n"
   ]
  },
  {
   "cell_type": "markdown",
   "metadata": {},
   "source": [
    "Use violin plots to show improvements. Violin plots (or regular box plots) will not only show how the average changes, but also the 25 and 75% medians and the overall dispersion of the data. This should show a better picture of how increasing the number of agents affect sharing."
   ]
  },
  {
   "cell_type": "code",
   "execution_count": 346,
   "metadata": {},
   "outputs": [],
   "source": [
    "steps_count = {}\n",
    "for exp_name in experiments:\n",
    "    steps_count[exp_name] = results[exp_name]['average_steps']"
   ]
  },
  {
   "cell_type": "code",
   "execution_count": 347,
   "metadata": {},
   "outputs": [
    {
     "name": "stdout",
     "output_type": "stream",
     "text": [
      "means\n",
      "58.72284429925928\n",
      "69.03595866797964\n",
      "65.93990498390625\n",
      "63.08127202034072\n",
      "58.19148241418808\n",
      "59.28560124300205\n",
      "56.50139506603917\n",
      "56.312780353892556\n",
      "70.4814809028804\n",
      "103.91851092003911\n",
      "\n",
      "deviations\n",
      "22.645398647955886\n",
      "26.155474607020555\n",
      "22.89477467633832\n",
      "21.458976039529052\n",
      "20.86404152986063\n",
      "20.00551898544886\n",
      "17.250881475055984\n",
      "17.111757001701417\n",
      "27.542117037071858\n",
      "32.70042502210308\n"
     ]
    }
   ],
   "source": [
    "## NUM STEPS\n",
    "print(\"means\")\n",
    "for k,v in steps_count.items():\n",
    "    print(np.mean(v))\n",
    "\n",
    "print(\"\\ndeviations\")\n",
    "for k,v in steps_count.items():\n",
    "    print(np.std(v))\n",
    "\n",
    "    "
   ]
  },
  {
   "cell_type": "code",
   "execution_count": 348,
   "metadata": {},
   "outputs": [],
   "source": [
    "rewards_count = {}\n",
    "for exp_name in experiments:\n",
    "    rewards_count[exp_name] = results[exp_name]['average_rewards']"
   ]
  },
  {
   "cell_type": "code",
   "execution_count": 349,
   "metadata": {},
   "outputs": [
    {
     "name": "stdout",
     "output_type": "stream",
     "text": [
      "means\n",
      "58.72284429925928\n",
      "69.03595866797964\n",
      "65.93990498390625\n",
      "63.08127202034072\n",
      "58.19148241418808\n",
      "59.28560124300205\n",
      "56.50139506603917\n",
      "56.312780353892556\n",
      "70.4814809028804\n",
      "103.91851092003911\n",
      "\n",
      "deviations\n",
      "22.645398647955886\n",
      "26.155474607020555\n",
      "22.89477467633832\n",
      "21.458976039529052\n",
      "20.86404152986063\n",
      "20.00551898544886\n",
      "17.250881475055984\n",
      "17.111757001701417\n",
      "27.542117037071858\n",
      "32.70042502210308\n"
     ]
    }
   ],
   "source": [
    "## NUM STEPS\n",
    "print(\"means\")\n",
    "for k,v in rewards_count.items():\n",
    "    print(np.mean(v))\n",
    "\n",
    "print(\"\\ndeviations\")\n",
    "for k,v in rewards_count.items():\n",
    "    print(np.std(v))\n",
    "\n",
    "    "
   ]
  },
  {
   "cell_type": "code",
   "execution_count": 350,
   "metadata": {},
   "outputs": [
    {
     "data": {
      "text/plain": [
       "dict_keys(['dqn_focus_sharing_10', 'dqn_focus_sharing_3', 'dqn_focus_sharing_4', 'dqn_focus_sharing_5', 'dqn_focus_sharing_6', 'dqn_focus_sharing_7', 'dqn_focus_sharing_8', 'dqn_focus_sharing_9', 'dqn_focus_sharing_2', 'dqn_focus_sharing_1'])"
      ]
     },
     "execution_count": 350,
     "metadata": {},
     "output_type": "execute_result"
    }
   ],
   "source": [
    "experiments"
   ]
  },
  {
   "cell_type": "raw",
   "metadata": {},
   "source": [
    "seaborn.violinplot(x=None, y=None, hue=None, data=None, order=None, hue_order=None, bw='scott', cut=2, scale='area', scale_hue=True, gridsize=100, width=0.8, inner='box', split=False, dodge=True, orient=None, linewidth=None, color=None, palette=None, saturation=0.75, ax=None, **kwargs)¶"
   ]
  },
  {
   "cell_type": "code",
   "execution_count": 351,
   "metadata": {},
   "outputs": [],
   "source": [
    "X = []\n",
    "Y = []\n",
    "for key, data in episode_count.items():\n",
    "    int_key = int(key.replace('dqn_focus_sharing_', ''))\n",
    "    X.extend([int_key] * len(data))\n",
    "    Y.extend(data)"
   ]
  },
  {
   "cell_type": "code",
   "execution_count": 352,
   "metadata": {},
   "outputs": [],
   "source": [
    "# sns.violinplot(x=[key] * len(episode_count[key]), y=episode_count[key])\n",
    "# plt.figure(figsize=(16,8))\n",
    "# sns.violinplot(x=X, y=Y)\n",
    "# plt.ylim((100,200))"
   ]
  },
  {
   "cell_type": "code",
   "execution_count": 353,
   "metadata": {},
   "outputs": [],
   "source": [
    "# ??plt.rcParams"
   ]
  },
  {
   "cell_type": "code",
   "execution_count": 389,
   "metadata": {},
   "outputs": [
    {
     "data": {
      "image/png": "[encoded data removed]",
      "text/plain": [
       "<Figure size 1008x504 with 1 Axes>"
      ]
     },
     "metadata": {
      "needs_background": "light"
     },
     "output_type": "display_data"
    }
   ],
   "source": [
    "\n",
    "matplotlib.rc('xtick', labelsize=14)\n",
    "matplotlib.rc('ytick', labelsize=14)\n",
    "plt.rcParams.update({'font.size': 14})\n",
    "plt.rcParams.update({\"axes.grid\": True, 'axes.grid.axis': 'y', \"grid.linewidth\": 0.25})\n",
    "plt.figure(figsize=(14,7))\n",
    "sns.boxplot(x=X, y=Y)\n",
    "plt.ylim((0,700))\n",
    "plt.ylabel(\"Number of episodes to complete task\", labelpad=10)\n",
    "plt.xlabel(\"Number of concurrently learning agents\", labelpad=9)\n",
    "plt.savefig('multiagentComparison.png', dpi=200, bbox_inches='tight')"
   ]
  },
  {
   "cell_type": "code",
   "execution_count": 386,
   "metadata": {},
   "outputs": [
    {
     "data": {
      "text/html": [
       "<div>\n",
       "<style scoped>\n",
       "    .dataframe tbody tr th:only-of-type {\n",
       "        vertical-align: middle;\n",
       "    }\n",
       "\n",
       "    .dataframe tbody tr th {\n",
       "        vertical-align: top;\n",
       "    }\n",
       "\n",
       "    .dataframe thead th {\n",
       "        text-align: right;\n",
       "    }\n",
       "</style>\n",
       "<table border=\"1\" class=\"dataframe\">\n",
       "  <thead>\n",
       "    <tr style=\"text-align: left;\">\n",
       "      <th></th>\n",
       "      <th>1</th>\n",
       "      <th>2</th>\n",
       "      <th>3</th>\n",
       "      <th>4</th>\n",
       "      <th>5</th>\n",
       "      <th>6</th>\n",
       "      <th>7</th>\n",
       "      <th>8</th>\n",
       "      <th>9</th>\n",
       "      <th>10</th>\n",
       "    </tr>\n",
       "  </thead>\n",
       "  <tbody>\n",
       "    <tr>\n",
       "      <th>25% Q</th>\n",
       "      <td>132</td>\n",
       "      <td>96</td>\n",
       "      <td>93</td>\n",
       "      <td>90</td>\n",
       "      <td>94</td>\n",
       "      <td>96</td>\n",
       "      <td>95</td>\n",
       "      <td>98</td>\n",
       "      <td>95</td>\n",
       "      <td>105</td>\n",
       "    </tr>\n",
       "    <tr>\n",
       "      <th>50% Q</th>\n",
       "      <td>254</td>\n",
       "      <td>111</td>\n",
       "      <td>105</td>\n",
       "      <td>99</td>\n",
       "      <td>112</td>\n",
       "      <td>108</td>\n",
       "      <td>108</td>\n",
       "      <td>110</td>\n",
       "      <td>114</td>\n",
       "      <td>123</td>\n",
       "    </tr>\n",
       "    <tr>\n",
       "      <th>75% Q</th>\n",
       "      <td>403</td>\n",
       "      <td>146</td>\n",
       "      <td>149</td>\n",
       "      <td>122</td>\n",
       "      <td>133</td>\n",
       "      <td>128</td>\n",
       "      <td>130</td>\n",
       "      <td>138</td>\n",
       "      <td>139</td>\n",
       "      <td>158</td>\n",
       "    </tr>\n",
       "  </tbody>\n",
       "</table>\n",
       "</div>"
      ],
      "text/plain": [
       "       1    2    3    4    5    6    7    8    9    10 \n",
       "25% Q  132   96   93   90   94   96   95   98   95  105\n",
       "50% Q  254  111  105   99  112  108  108  110  114  123\n",
       "75% Q  403  146  149  122  133  128  130  138  139  158"
      ]
     },
     "execution_count": 386,
     "metadata": {},
     "output_type": "execute_result"
    }
   ],
   "source": [
    "pd.set_option(\"display.colheader_justify\",\"left\")\n",
    "df = pd.DataFrame(columns=['25% Q', '50% Q', '75% Q'], index=[int(k.replace('dqn_focus_sharing_', '')) for k in episode_count.keys()])\n",
    "for key,data in episode_count.items():\n",
    "    int_key = int(key.replace('dqn_focus_sharing_', ''))    \n",
    "    df.loc[int_key]['25% Q'] = np.quantile(data, 0.25)\n",
    "    df.loc[int_key]['50% Q'] = np.quantile(data, 0.50)\n",
    "    df.loc[int_key]['75% Q'] = np.quantile(data, 0.75)\n",
    "    \n",
    "# df = df.astype(pd.to_numeric)\n",
    "df = df.astype(np.int32)\n",
    "# df = df.round(decimals=1)\n",
    "# df.style.set_properties(**{'text-align': 'center'})\n",
    "df = df.sort_index()\n",
    "df = df.transpose()\n",
    "df.head(10)\n"
   ]
  },
  {
   "cell_type": "code",
   "execution_count": 384,
   "metadata": {},
   "outputs": [
    {
     "name": "stdout",
     "output_type": "stream",
     "text": [
      "\\begin{tabular}{lrrrrrrrrrr}\n",
      "\\toprule\n",
      "{} &  1   &  2   &  3   &  4   &  5   &  6   &  7   &  8   &  9   &  10  \\\\\n",
      "\\midrule\n",
      "25\\% Q &  132 &   96 &   93 &   90 &   94 &   96 &   95 &   98 &   95 &  105 \\\\\n",
      "50\\% Q &  254 &  111 &  105 &   99 &  112 &  108 &  108 &  110 &  114 &  123 \\\\\n",
      "75\\% Q &  403 &  146 &  149 &  122 &  133 &  128 &  130 &  138 &  139 &  158 \\\\\n",
      "\\bottomrule\n",
      "\\end{tabular}\n",
      "\n"
     ]
    }
   ],
   "source": [
    "print(df.to_latex())"
   ]
  },
  {
   "cell_type": "code",
   "execution_count": 334,
   "metadata": {},
   "outputs": [
    {
     "data": {
      "image/png": "[encoded data removed]",
      "text/plain": [
       "<Figure size 1008x504 with 1 Axes>"
      ]
     },
     "metadata": {
      "needs_background": "light"
     },
     "output_type": "display_data"
    }
   ],
   "source": [
    "\n",
    "matplotlib.rc('xtick', labelsize=14)\n",
    "matplotlib.rc('ytick', labelsize=14)\n",
    "plt.rcParams.update({'font.size': 14})\n",
    "plt.rcParams.update({\"axes.grid\": True, 'axes.grid.axis': 'y', \"grid.linewidth\": 0.25})\n",
    "plt.figure(figsize=(14,7))\n",
    "sns.boxplot(x=X, y=Y)\n",
    "plt.ylim((50,300))\n",
    "plt.ylabel(\"Number of episodes\", labelpad=10)\n",
    "plt.xlabel(\"Number of concurrent learning agents\", labelpad=9)\n",
    "plt.savefig('multiagentComparison2.png', dpi=200, bbox_inches='tight')"
   ]
  },
  {
   "cell_type": "code",
   "execution_count": 335,
   "metadata": {},
   "outputs": [
    {
     "data": {
      "text/plain": [
       "<Figure size 432x288 with 0 Axes>"
      ]
     },
     "metadata": {},
     "output_type": "display_data"
    }
   ],
   "source": []
  },
  {
   "cell_type": "code",
   "execution_count": null,
   "metadata": {},
   "outputs": [],
   "source": []
  }
 ],
 "metadata": {
  "kernelspec": {
   "display_name": "Python [default]",
   "language": "python",
   "name": "python3"
  },
  "language_info": {
   "codemirror_mode": {
    "name": "ipython",
    "version": 3
   },
   "file_extension": ".py",
   "mimetype": "text/x-python",
   "name": "python",
   "nbconvert_exporter": "python",
   "pygments_lexer": "ipython3",
   "version": "3.6.6"
  },
  "varInspector": {
   "cols": {
    "lenName": 16,
    "lenType": 16,
    "lenVar": 40
   },
   "kernels_config": {
    "python": {
     "delete_cmd_postfix": "",
     "delete_cmd_prefix": "del ",
     "library": "var_list.py",
     "varRefreshCmd": "print(var_dic_list())"
    },
    "r": {
     "delete_cmd_postfix": ") ",
     "delete_cmd_prefix": "rm(",
     "library": "var_list.r",
     "varRefreshCmd": "cat(var_dic_list()) "
    }
   },
   "types_to_exclude": [
    "module",
    "function",
    "builtin_function_or_method",
    "instance",
    "_Feature"
   ],
   "window_display": false
  }
 },
 "nbformat": 4,
 "nbformat_minor": 2
}
