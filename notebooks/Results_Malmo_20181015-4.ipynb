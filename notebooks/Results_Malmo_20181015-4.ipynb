{
 "cells": [
  {
   "cell_type": "markdown",
   "metadata": {},
   "source": [
    "# Experiment Report"
   ]
  },
  {
   "cell_type": "code",
   "execution_count": 1,
   "metadata": {},
   "outputs": [],
   "source": [
    "import os\n",
    "import numpy as np\n",
    "import pandas as pd\n",
    "import matplotlib.pyplot as plt\n",
    "import seaborn as sns\n",
    "import json\n",
    "%matplotlib inline\n",
    "\n",
    "# statistics\n",
    "from scipy import stats\n",
    "from itertools import product, combinations"
   ]
  },
  {
   "cell_type": "code",
   "execution_count": 44,
   "metadata": {},
   "outputs": [],
   "source": [
    "experiments = ['DQN_Malmo_Seq-MinecraftBasicNew-v0-20181015-162056-87.json',\n",
    " 'DQN_Malmo_Seq-MinecraftBasicNew-v0-20181015-233622-37.json',\n",
    " 'DQN_Malmo_Seq-MinecraftBasicNew-v0-20181018-095954-70.json']"
   ]
  },
  {
   "cell_type": "code",
   "execution_count": 7,
   "metadata": {},
   "outputs": [],
   "source": [
    "root = \"/mnt/storage/log-experiments/\"\n",
    "# experiments = [f for f in os.listdir(root+\"logs/\") if f[-4:] == 'json'][-2:]\n",
    "results = {}\n",
    "for exp in experiments:\n",
    "    exp_name = exp[:-5]\n",
    "    try:\n",
    "        with open(root+\"results/\" + exp, 'r') as f:\n",
    "            results[exp_name] = json.load(f)\n",
    "    except:\n",
    "        pass\n"
   ]
  },
  {
   "cell_type": "code",
   "execution_count": 8,
   "metadata": {},
   "outputs": [],
   "source": [
    "# list(results['DQN_Malmo_Seq-MinecraftBasicNew-v0-20181015-090503-43'].items())[11][1]['rewards']"
   ]
  },
  {
   "cell_type": "code",
   "execution_count": 9,
   "metadata": {},
   "outputs": [
    {
     "data": {
      "text/plain": [
       "'DQN_Malmo_Seq-MinecraftBasicNew-v0-20181015-162056-87'"
      ]
     },
     "execution_count": 9,
     "metadata": {},
     "output_type": "execute_result"
    }
   ],
   "source": [
    "# results\n",
    "experiments[0][:-5]"
   ]
  },
  {
   "cell_type": "code",
   "execution_count": 10,
   "metadata": {},
   "outputs": [],
   "source": [
    "episode_count = {}\n",
    "for exp in experiments:\n",
    "    exp_name = exp[:-5]\n",
    "    episode_count[exp_name] = []\n",
    "    for agent_trial, data in results[exp_name].items():\n",
    "        if len(data['rewards']) >= 0: # manually remove outliers\n",
    "            episode_count[exp_name].append(len(data['rewards']))"
   ]
  },
  {
   "cell_type": "code",
   "execution_count": 11,
   "metadata": {},
   "outputs": [
    {
     "data": {
      "text/plain": [
       "{'DQN_Malmo_Seq-MinecraftBasicNew-v0-20181015-162056-87': [46,\n",
       "  30,\n",
       "  105,\n",
       "  53,\n",
       "  47,\n",
       "  31,\n",
       "  86,\n",
       "  45,\n",
       "  57,\n",
       "  33,\n",
       "  54,\n",
       "  48,\n",
       "  67,\n",
       "  76,\n",
       "  33,\n",
       "  52,\n",
       "  66,\n",
       "  70,\n",
       "  50,\n",
       "  26,\n",
       "  50,\n",
       "  73,\n",
       "  86,\n",
       "  103,\n",
       "  41,\n",
       "  30,\n",
       "  100,\n",
       "  53,\n",
       "  49,\n",
       "  42,\n",
       "  39,\n",
       "  30,\n",
       "  88,\n",
       "  74,\n",
       "  45,\n",
       "  70,\n",
       "  58,\n",
       "  56,\n",
       "  47,\n",
       "  37,\n",
       "  57,\n",
       "  57,\n",
       "  41,\n",
       "  44,\n",
       "  44,\n",
       "  35,\n",
       "  37,\n",
       "  40,\n",
       "  64,\n",
       "  56,\n",
       "  80,\n",
       "  40,\n",
       "  64,\n",
       "  44,\n",
       "  59,\n",
       "  54,\n",
       "  61,\n",
       "  73,\n",
       "  44,\n",
       "  47,\n",
       "  60,\n",
       "  57,\n",
       "  96,\n",
       "  70,\n",
       "  24,\n",
       "  51,\n",
       "  31,\n",
       "  38,\n",
       "  124,\n",
       "  97,\n",
       "  36,\n",
       "  34,\n",
       "  34,\n",
       "  41,\n",
       "  64,\n",
       "  58,\n",
       "  55,\n",
       "  51,\n",
       "  48,\n",
       "  65,\n",
       "  58,\n",
       "  51,\n",
       "  79,\n",
       "  53,\n",
       "  48,\n",
       "  53,\n",
       "  46,\n",
       "  32,\n",
       "  38,\n",
       "  32,\n",
       "  44,\n",
       "  55,\n",
       "  44,\n",
       "  30,\n",
       "  32,\n",
       "  47,\n",
       "  44,\n",
       "  51,\n",
       "  50,\n",
       "  56,\n",
       "  54,\n",
       "  39,\n",
       "  42,\n",
       "  49,\n",
       "  30,\n",
       "  57,\n",
       "  51,\n",
       "  57,\n",
       "  67,\n",
       "  88,\n",
       "  64,\n",
       "  45,\n",
       "  35,\n",
       "  58,\n",
       "  54,\n",
       "  42,\n",
       "  68,\n",
       "  39,\n",
       "  47,\n",
       "  66,\n",
       "  36,\n",
       "  58,\n",
       "  55,\n",
       "  126,\n",
       "  76,\n",
       "  65,\n",
       "  31,\n",
       "  42,\n",
       "  118,\n",
       "  130,\n",
       "  57,\n",
       "  55,\n",
       "  48,\n",
       "  39,\n",
       "  80,\n",
       "  75,\n",
       "  64,\n",
       "  31,\n",
       "  52,\n",
       "  97,\n",
       "  41,\n",
       "  28,\n",
       "  88,\n",
       "  75,\n",
       "  100,\n",
       "  64,\n",
       "  64,\n",
       "  84,\n",
       "  74,\n",
       "  24],\n",
       " 'DQN_Malmo_Seq-MinecraftBasicNew-v0-20181015-233622-37': [150,\n",
       "  47,\n",
       "  73,\n",
       "  35,\n",
       "  62,\n",
       "  56,\n",
       "  35,\n",
       "  66,\n",
       "  45,\n",
       "  64,\n",
       "  57,\n",
       "  46,\n",
       "  53,\n",
       "  36,\n",
       "  47,\n",
       "  60,\n",
       "  35,\n",
       "  51,\n",
       "  81,\n",
       "  35,\n",
       "  108,\n",
       "  53,\n",
       "  62,\n",
       "  150,\n",
       "  42,\n",
       "  33,\n",
       "  46,\n",
       "  43,\n",
       "  66,\n",
       "  77,\n",
       "  93,\n",
       "  82,\n",
       "  78,\n",
       "  60,\n",
       "  88,\n",
       "  40,\n",
       "  35,\n",
       "  103,\n",
       "  54,\n",
       "  87,\n",
       "  47,\n",
       "  67,\n",
       "  84,\n",
       "  73,\n",
       "  65,\n",
       "  71,\n",
       "  40,\n",
       "  45,\n",
       "  57,\n",
       "  22,\n",
       "  69,\n",
       "  56,\n",
       "  40,\n",
       "  39,\n",
       "  41,\n",
       "  84,\n",
       "  89,\n",
       "  44,\n",
       "  50,\n",
       "  71,\n",
       "  59,\n",
       "  55,\n",
       "  54,\n",
       "  47,\n",
       "  82,\n",
       "  54,\n",
       "  34,\n",
       "  91,\n",
       "  82,\n",
       "  71,\n",
       "  109,\n",
       "  82,\n",
       "  130,\n",
       "  96,\n",
       "  75,\n",
       "  67,\n",
       "  41,\n",
       "  65,\n",
       "  44,\n",
       "  99,\n",
       "  53,\n",
       "  40,\n",
       "  130,\n",
       "  63,\n",
       "  42,\n",
       "  42,\n",
       "  61,\n",
       "  103,\n",
       "  104,\n",
       "  62,\n",
       "  102,\n",
       "  44,\n",
       "  150,\n",
       "  59,\n",
       "  73,\n",
       "  140,\n",
       "  97,\n",
       "  129,\n",
       "  94,\n",
       "  150,\n",
       "  150,\n",
       "  81,\n",
       "  64,\n",
       "  150,\n",
       "  79,\n",
       "  129,\n",
       "  91,\n",
       "  64,\n",
       "  71,\n",
       "  150,\n",
       "  115,\n",
       "  126,\n",
       "  150,\n",
       "  150,\n",
       "  150,\n",
       "  150,\n",
       "  72,\n",
       "  150,\n",
       "  89,\n",
       "  150,\n",
       "  150,\n",
       "  150,\n",
       "  150,\n",
       "  150,\n",
       "  150,\n",
       "  150,\n",
       "  87,\n",
       "  132,\n",
       "  150,\n",
       "  41,\n",
       "  124,\n",
       "  109,\n",
       "  150,\n",
       "  141,\n",
       "  63,\n",
       "  150,\n",
       "  150,\n",
       "  150,\n",
       "  150,\n",
       "  150,\n",
       "  150,\n",
       "  73,\n",
       "  99,\n",
       "  95,\n",
       "  113,\n",
       "  150,\n",
       "  115,\n",
       "  136,\n",
       "  76,\n",
       "  111],\n",
       " 'DQN_Malmo_Seq-MinecraftBasicNew-v0-20181018-095954-70': [150,\n",
       "  150,\n",
       "  129,\n",
       "  150,\n",
       "  150,\n",
       "  150,\n",
       "  150,\n",
       "  150,\n",
       "  81,\n",
       "  150,\n",
       "  150,\n",
       "  150,\n",
       "  150,\n",
       "  150,\n",
       "  48,\n",
       "  150,\n",
       "  150,\n",
       "  150,\n",
       "  150,\n",
       "  150,\n",
       "  150,\n",
       "  150,\n",
       "  95,\n",
       "  150,\n",
       "  88,\n",
       "  147,\n",
       "  150,\n",
       "  150,\n",
       "  150,\n",
       "  95,\n",
       "  150,\n",
       "  150,\n",
       "  150,\n",
       "  150,\n",
       "  148,\n",
       "  150,\n",
       "  150,\n",
       "  150,\n",
       "  150,\n",
       "  112,\n",
       "  150,\n",
       "  150,\n",
       "  150,\n",
       "  145,\n",
       "  150,\n",
       "  150,\n",
       "  150,\n",
       "  113,\n",
       "  150,\n",
       "  150,\n",
       "  150,\n",
       "  150,\n",
       "  150,\n",
       "  150,\n",
       "  150,\n",
       "  91,\n",
       "  150,\n",
       "  150,\n",
       "  150,\n",
       "  150,\n",
       "  150,\n",
       "  150,\n",
       "  150,\n",
       "  150,\n",
       "  150,\n",
       "  150,\n",
       "  150,\n",
       "  150,\n",
       "  150,\n",
       "  150,\n",
       "  150,\n",
       "  150,\n",
       "  150,\n",
       "  150,\n",
       "  150,\n",
       "  150,\n",
       "  150,\n",
       "  150,\n",
       "  150,\n",
       "  150,\n",
       "  150,\n",
       "  150,\n",
       "  150,\n",
       "  150,\n",
       "  150,\n",
       "  150,\n",
       "  150,\n",
       "  150,\n",
       "  150,\n",
       "  149,\n",
       "  150,\n",
       "  150,\n",
       "  130,\n",
       "  150,\n",
       "  150,\n",
       "  150,\n",
       "  150,\n",
       "  150,\n",
       "  150,\n",
       "  150,\n",
       "  150,\n",
       "  150,\n",
       "  150,\n",
       "  150,\n",
       "  150,\n",
       "  150,\n",
       "  150,\n",
       "  150,\n",
       "  150,\n",
       "  150,\n",
       "  150,\n",
       "  150,\n",
       "  150,\n",
       "  150,\n",
       "  150,\n",
       "  150,\n",
       "  150,\n",
       "  150,\n",
       "  150,\n",
       "  150,\n",
       "  150,\n",
       "  150,\n",
       "  150,\n",
       "  150,\n",
       "  150,\n",
       "  150,\n",
       "  150,\n",
       "  133,\n",
       "  150,\n",
       "  150,\n",
       "  150,\n",
       "  150,\n",
       "  150,\n",
       "  150,\n",
       "  150,\n",
       "  150,\n",
       "  150,\n",
       "  146,\n",
       "  150,\n",
       "  150,\n",
       "  150,\n",
       "  150,\n",
       "  150,\n",
       "  150,\n",
       "  150,\n",
       "  150,\n",
       "  150,\n",
       "  150,\n",
       "  150,\n",
       "  150]}"
      ]
     },
     "execution_count": 11,
     "metadata": {},
     "output_type": "execute_result"
    }
   ],
   "source": [
    "episode_count"
   ]
  },
  {
   "cell_type": "code",
   "execution_count": 12,
   "metadata": {},
   "outputs": [
    {
     "name": "stdout",
     "output_type": "stream",
     "text": [
      "means\n",
      "55.95333333333333\n",
      "86.39333333333333\n",
      "146.33333333333334\n",
      "\n",
      "deviations\n",
      "21.079954669991324\n",
      "39.6512961816999\n",
      "14.264485814622116\n"
     ]
    }
   ],
   "source": [
    "print(\"means\")\n",
    "for k,v in episode_count.items():\n",
    "    print(np.mean(v))\n",
    "\n",
    "print(\"\\ndeviations\")\n",
    "for k,v in episode_count.items():\n",
    "    print(np.std(v))\n",
    "\n",
    "    "
   ]
  },
  {
   "cell_type": "code",
   "execution_count": 13,
   "metadata": {},
   "outputs": [],
   "source": [
    "steps_count = {}\n",
    "for exp in experiments:\n",
    "    exp_name = exp[:-5]\n",
    "    steps_count[exp_name] = []\n",
    "    for agent_trial, data in results[exp_name].items():\n",
    "        for step in data['steps']:\n",
    "            steps_count[exp_name].append(step)"
   ]
  },
  {
   "cell_type": "code",
   "execution_count": 14,
   "metadata": {},
   "outputs": [
    {
     "data": {
      "text/plain": [
       "21950"
      ]
     },
     "execution_count": 14,
     "metadata": {},
     "output_type": "execute_result"
    }
   ],
   "source": [
    "len(steps_count[exp_name])"
   ]
  },
  {
   "cell_type": "code",
   "execution_count": 15,
   "metadata": {},
   "outputs": [
    {
     "name": "stdout",
     "output_type": "stream",
     "text": [
      "means\n",
      "44.832122006433934\n",
      "52.55436376263601\n",
      "50.330751708428245\n",
      "\n",
      "deviations\n",
      "23.523711479614153\n",
      "23.19754399911343\n",
      "20.57772502772071\n"
     ]
    }
   ],
   "source": [
    "## NUM STEPS\n",
    "print(\"means\")\n",
    "for k,v in steps_count.items():\n",
    "    print(np.mean(v))\n",
    "\n",
    "print(\"\\ndeviations\")\n",
    "for k,v in steps_count.items():\n",
    "    print(np.std(v))\n",
    "\n",
    "    "
   ]
  },
  {
   "cell_type": "code",
   "execution_count": 16,
   "metadata": {},
   "outputs": [],
   "source": [
    "rewards_count = {}\n",
    "for exp in experiments:\n",
    "    exp_name = exp[:-5]\n",
    "    rewards_count[exp_name] = []\n",
    "    for agent_trial, data in results[exp_name].items():\n",
    "        for reward in data['rewards']:\n",
    "            rewards_count[exp_name].append(reward)"
   ]
  },
  {
   "cell_type": "code",
   "execution_count": 17,
   "metadata": {},
   "outputs": [
    {
     "name": "stdout",
     "output_type": "stream",
     "text": [
      "means\n",
      "0.502042416299297\n",
      "0.45049841808781543\n",
      "0.3613667425968109\n",
      "\n",
      "deviations\n",
      "0.5167115605023727\n",
      "0.5186791681373443\n",
      "0.5086100929831986\n"
     ]
    }
   ],
   "source": [
    "## NUM STEPS\n",
    "print(\"means\")\n",
    "for k,v in rewards_count.items():\n",
    "    print(np.mean(v))\n",
    "\n",
    "print(\"\\ndeviations\")\n",
    "for k,v in rewards_count.items():\n",
    "    print(np.std(v))\n",
    "\n",
    "    "
   ]
  },
  {
   "cell_type": "code",
   "execution_count": 45,
   "metadata": {},
   "outputs": [],
   "source": [
    "experiments_dp = {\n",
    "    'focused experience sharing': 'DQN_Malmo_Seq-MinecraftBasicNew-v0-20181015-162056-87',\n",
    "    'baseline': 'DQN_Malmo_Seq-MinecraftBasicNew-v0-20181015-233622-37',\n",
    "    'regular experience sharing': 'DQN_Malmo_Seq-MinecraftBasicNew-v0-20181018-095954-70'\n",
    "}"
   ]
  },
  {
   "cell_type": "code",
   "execution_count": 47,
   "metadata": {},
   "outputs": [],
   "source": [
    "episode_count = {}\n",
    "for exp in experiments:\n",
    "    exp_name = exp[:-5]\n",
    "    episode_count[exp_name] = []\n",
    "    for agent_trial, data in results[exp_name].items():\n",
    "        if len(data['rewards']) >= 0: # manually remove outliers\n",
    "            episode_count[exp_name].append(len(data['rewards']))"
   ]
  },
  {
   "cell_type": "code",
   "execution_count": 151,
   "metadata": {},
   "outputs": [],
   "source": [
    "def plot(results, experiments, selected_experiments, colors):\n",
    "    plt.figure(figsize=(10,4))\n",
    "    # plt.xticks(np.arange(0,300000,50000))\n",
    "    plt.grid()\n",
    "    for exp_name, color in zip(selected_experiments, colors):\n",
    "        exp_id = experiments[exp_name]\n",
    "        sns.distplot(results[exp_id], label=exp_name, color=color)\n",
    "        \n",
    "    plt.legend()\n",
    "    plt.xlabel(\"Number of episodes\")\n",
    "    # plt.ylim(0, 0.06)\n",
    "        \n"
   ]
  },
  {
   "cell_type": "code",
   "execution_count": null,
   "metadata": {},
   "outputs": [],
   "source": [
    "colors = ['#003FFF', '#03ED3A', '#E8000B']"
   ]
  },
  {
   "cell_type": "code",
   "execution_count": 181,
   "metadata": {
    "scrolled": true
   },
   "outputs": [
    {
     "name": "stderr",
     "output_type": "stream",
     "text": [
      "/home/lucas/.conda/envs/marlo/lib/python3.6/site-packages/scipy/stats/stats.py:1713: FutureWarning: Using a non-tuple sequence for multidimensional indexing is deprecated; use `arr[tuple(seq)]` instead of `arr[seq]`. In the future this will be interpreted as an array index, `arr[np.array(seq)]`, which will result either in an error or a different result.\n",
      "  return np.add.reduce(sorted[indexer] * weights, axis=axis) / sumval\n"
     ]
    },
    {
     "data": {
      "image/png": "[encoded data removed]",
      "text/plain": [
       "<Figure size 720x288 with 1 Axes>"
      ]
     },
     "metadata": {
      "needs_background": "light"
     },
     "output_type": "display_data"
    }
   ],
   "source": [
    "plot(episode_count, experiments_dp, ['focused experience sharing', 'baseline'], ['#003FFF', '#03ED3A'])\n",
    "plt.savefig('res1.png', dpi=300)"
   ]
  },
  {
   "cell_type": "code",
   "execution_count": 182,
   "metadata": {},
   "outputs": [
    {
     "name": "stderr",
     "output_type": "stream",
     "text": [
      "/home/lucas/.conda/envs/marlo/lib/python3.6/site-packages/scipy/stats/stats.py:1713: FutureWarning: Using a non-tuple sequence for multidimensional indexing is deprecated; use `arr[tuple(seq)]` instead of `arr[seq]`. In the future this will be interpreted as an array index, `arr[np.array(seq)]`, which will result either in an error or a different result.\n",
      "  return np.add.reduce(sorted[indexer] * weights, axis=axis) / sumval\n"
     ]
    },
    {
     "data": {
      "image/png": "[encoded data removed]",
      "text/plain": [
       "<Figure size 720x288 with 1 Axes>"
      ]
     },
     "metadata": {
      "needs_background": "light"
     },
     "output_type": "display_data"
    }
   ],
   "source": [
    "plot(episode_count, experiments_dp, ['focused experience sharing', 'regular experience sharing'], ['#003FFF', '#E8000B'])\n",
    "plt.savefig('res2.png', dpi=300)"
   ]
  },
  {
   "cell_type": "code",
   "execution_count": 183,
   "metadata": {},
   "outputs": [
    {
     "name": "stderr",
     "output_type": "stream",
     "text": [
      "/home/lucas/.conda/envs/marlo/lib/python3.6/site-packages/scipy/stats/stats.py:1713: FutureWarning: Using a non-tuple sequence for multidimensional indexing is deprecated; use `arr[tuple(seq)]` instead of `arr[seq]`. In the future this will be interpreted as an array index, `arr[np.array(seq)]`, which will result either in an error or a different result.\n",
      "  return np.add.reduce(sorted[indexer] * weights, axis=axis) / sumval\n"
     ]
    },
    {
     "data": {
      "image/png": "[encoded data removed]",
      "text/plain": [
       "<Figure size 720x288 with 1 Axes>"
      ]
     },
     "metadata": {
      "needs_background": "light"
     },
     "output_type": "display_data"
    }
   ],
   "source": [
    "plot(episode_count, experiments_dp, ['baseline', 'regular experience sharing'], ['#03ED3A', '#E8000B'])\n",
    "plt.savefig('res3.png', dpi=300)"
   ]
  },
  {
   "cell_type": "code",
   "execution_count": null,
   "metadata": {},
   "outputs": [],
   "source": [
    "# compare 3 in number of episodes, steps, and rewards"
   ]
  },
  {
   "cell_type": "code",
   "execution_count": 116,
   "metadata": {},
   "outputs": [],
   "source": [
    "graph = {}"
   ]
  },
  {
   "cell_type": "code",
   "execution_count": 117,
   "metadata": {},
   "outputs": [],
   "source": [
    "steps_count = {}\n",
    "for exp in experiments:\n",
    "    exp_name = exp[:-5]\n",
    "    steps_count[exp_name] = []\n",
    "    for agent_trial, data in results[exp_name].items():\n",
    "        for step in data['steps']:\n",
    "            steps_count[exp_name].append(step)\n",
    "            \n",
    "graph['Number of Steps - Mean'] = []\n",
    "for k,v in steps_count.items():\n",
    "    graph['Number of Steps - Mean'].append(np.mean(v))\n",
    "\n",
    "graph['Number of Steps - Std Deviation'] = []\n",
    "for k,v in steps_count.items():\n",
    "    graph['Number of Steps - Std Deviation'].append(np.std(v))\n",
    "\n",
    "    "
   ]
  },
  {
   "cell_type": "code",
   "execution_count": 118,
   "metadata": {},
   "outputs": [],
   "source": [
    "rewards_count = {}\n",
    "for exp in experiments:\n",
    "    exp_name = exp[:-5]\n",
    "    rewards_count[exp_name] = []\n",
    "    for agent_trial, data in results[exp_name].items():\n",
    "        for reward in data['rewards']:\n",
    "            rewards_count[exp_name].append(reward)\n",
    "            \n",
    "            \n",
    "graph['Episode Total Reward - Mean'] = []\n",
    "for k,v in rewards_count.items():\n",
    "    graph['Episode Total Reward - Mean'].append(np.mean(v))\n",
    "\n",
    "graph['Episode Total Reward - Std Deviation'] = []\n",
    "for k,v in rewards_count.items():\n",
    "    graph['Episode Total Reward - Std Deviation'].append(np.std(v))\n"
   ]
  },
  {
   "cell_type": "code",
   "execution_count": 119,
   "metadata": {},
   "outputs": [],
   "source": [
    "episode_count = {}\n",
    "for exp in experiments:\n",
    "    exp_name = exp[:-5]\n",
    "    episode_count[exp_name] = []\n",
    "    for agent_trial, data in results[exp_name].items():\n",
    "        if len(data['rewards']) >= 0: # manually remove outliers\n",
    "            episode_count[exp_name].append(len(data['rewards']))\n",
    "            \n",
    "graph['Number of Episodes - Mean'] = []\n",
    "for k,v in episode_count.items():\n",
    "    graph['Number of Episodes - Mean'].append(np.mean(v))\n",
    "\n",
    "graph['Number of Episodes - Std Deviation'] = []\n",
    "for k,v in episode_count.items():\n",
    "    graph['Number of Episodes - Std Deviation'].append(np.std(v))"
   ]
  },
  {
   "cell_type": "code",
   "execution_count": 120,
   "metadata": {},
   "outputs": [
    {
     "data": {
      "text/plain": [
       "{'Number of Steps - Mean': [44.832122006433934,\n",
       "  52.55436376263601,\n",
       "  50.330751708428245],\n",
       " 'Number of Steps - Std Deviation': [23.523711479614153,\n",
       "  23.19754399911343,\n",
       "  20.57772502772071],\n",
       " 'Episode Total Reward - Mean': [0.502042416299297,\n",
       "  0.45049841808781543,\n",
       "  0.3613667425968109],\n",
       " 'Episode Total Reward - Std Deviation': [0.5167115605023727,\n",
       "  0.5186791681373443,\n",
       "  0.5086100929831986],\n",
       " 'Number of Episodes - Mean': [55.95333333333333,\n",
       "  86.39333333333333,\n",
       "  146.33333333333334],\n",
       " 'Number of Episodes - Std Deviation': [21.079954669991324,\n",
       "  39.6512961816999,\n",
       "  14.264485814622116]}"
      ]
     },
     "execution_count": 120,
     "metadata": {},
     "output_type": "execute_result"
    }
   ],
   "source": [
    "graph"
   ]
  },
  {
   "cell_type": "code",
   "execution_count": 127,
   "metadata": {},
   "outputs": [
    {
     "data": {
      "text/html": [
       "<div>\n",
       "<style scoped>\n",
       "    .dataframe tbody tr th:only-of-type {\n",
       "        vertical-align: middle;\n",
       "    }\n",
       "\n",
       "    .dataframe tbody tr th {\n",
       "        vertical-align: top;\n",
       "    }\n",
       "\n",
       "    .dataframe thead th {\n",
       "        text-align: right;\n",
       "    }\n",
       "</style>\n",
       "<table border=\"1\" class=\"dataframe\">\n",
       "  <thead>\n",
       "    <tr style=\"text-align: left;\">\n",
       "      <th></th>\n",
       "      <th>focused experience sharing</th>\n",
       "      <th>baseline</th>\n",
       "      <th>regular experience sharing</th>\n",
       "    </tr>\n",
       "  </thead>\n",
       "  <tbody>\n",
       "    <tr>\n",
       "      <th>Number of Steps - Mean</th>\n",
       "      <td>44.83</td>\n",
       "      <td>52.55</td>\n",
       "      <td>50.33</td>\n",
       "    </tr>\n",
       "    <tr>\n",
       "      <th>Number of Steps - Std Deviation</th>\n",
       "      <td>23.52</td>\n",
       "      <td>23.20</td>\n",
       "      <td>20.58</td>\n",
       "    </tr>\n",
       "    <tr>\n",
       "      <th>Episode Total Reward - Mean</th>\n",
       "      <td>0.50</td>\n",
       "      <td>0.45</td>\n",
       "      <td>0.36</td>\n",
       "    </tr>\n",
       "    <tr>\n",
       "      <th>Episode Total Reward - Std Deviation</th>\n",
       "      <td>0.52</td>\n",
       "      <td>0.52</td>\n",
       "      <td>0.51</td>\n",
       "    </tr>\n",
       "    <tr>\n",
       "      <th>Number of Episodes - Mean</th>\n",
       "      <td>55.95</td>\n",
       "      <td>86.39</td>\n",
       "      <td>146.33</td>\n",
       "    </tr>\n",
       "    <tr>\n",
       "      <th>Number of Episodes - Std Deviation</th>\n",
       "      <td>21.08</td>\n",
       "      <td>39.65</td>\n",
       "      <td>14.26</td>\n",
       "    </tr>\n",
       "  </tbody>\n",
       "</table>\n",
       "</div>"
      ],
      "text/plain": [
       "                                      focused experience sharing  baseline  \\\n",
       "Number of Steps - Mean                44.83                       52.55      \n",
       "Number of Steps - Std Deviation       23.52                       23.20      \n",
       "Episode Total Reward - Mean            0.50                        0.45      \n",
       "Episode Total Reward - Std Deviation   0.52                        0.52      \n",
       "Number of Episodes - Mean             55.95                       86.39      \n",
       "Number of Episodes - Std Deviation    21.08                       39.65      \n",
       "\n",
       "                                      regular experience sharing  \n",
       "Number of Steps - Mean                 50.33                      \n",
       "Number of Steps - Std Deviation        20.58                      \n",
       "Episode Total Reward - Mean             0.36                      \n",
       "Episode Total Reward - Std Deviation    0.51                      \n",
       "Number of Episodes - Mean             146.33                      \n",
       "Number of Episodes - Std Deviation     14.26                      "
      ]
     },
     "execution_count": 127,
     "metadata": {},
     "output_type": "execute_result"
    }
   ],
   "source": [
    "pd.set_option(\"display.colheader_justify\",\"left\")\n",
    "df = pd.DataFrame.from_dict(graph)\n",
    "df = df.transpose()\n",
    "df.columns=experiments_dp.keys()\n",
    "df = df.round(decimals=2)\n",
    "df.style.set_properties(**{'text-align': 'center'})\n",
    "df.head(10)"
   ]
  },
  {
   "cell_type": "code",
   "execution_count": 170,
   "metadata": {},
   "outputs": [
    {
     "data": {
      "text/html": [
       "<div>\n",
       "<style scoped>\n",
       "    .dataframe tbody tr th:only-of-type {\n",
       "        vertical-align: middle;\n",
       "    }\n",
       "\n",
       "    .dataframe tbody tr th {\n",
       "        vertical-align: top;\n",
       "    }\n",
       "\n",
       "    .dataframe thead th {\n",
       "        text-align: right;\n",
       "    }\n",
       "</style>\n",
       "<table border=\"1\" class=\"dataframe\">\n",
       "  <thead>\n",
       "    <tr style=\"text-align: left;\">\n",
       "      <th></th>\n",
       "      <th>focused experience sharing</th>\n",
       "      <th>baseline</th>\n",
       "      <th>regular experience sharing</th>\n",
       "    </tr>\n",
       "  </thead>\n",
       "  <tbody>\n",
       "    <tr>\n",
       "      <th>Number of Steps - Mean</th>\n",
       "      <td>44.83</td>\n",
       "      <td>52.55</td>\n",
       "      <td>50.33</td>\n",
       "    </tr>\n",
       "    <tr>\n",
       "      <th>Number of Steps - Std Deviation</th>\n",
       "      <td>23.52</td>\n",
       "      <td>23.20</td>\n",
       "      <td>20.58</td>\n",
       "    </tr>\n",
       "    <tr>\n",
       "      <th>Episode Total Reward - Mean</th>\n",
       "      <td>0.50</td>\n",
       "      <td>0.45</td>\n",
       "      <td>0.36</td>\n",
       "    </tr>\n",
       "    <tr>\n",
       "      <th>Episode Total Reward - Std Deviation</th>\n",
       "      <td>0.52</td>\n",
       "      <td>0.52</td>\n",
       "      <td>0.51</td>\n",
       "    </tr>\n",
       "    <tr>\n",
       "      <th>Number of Episodes - Mean</th>\n",
       "      <td>55.95</td>\n",
       "      <td>86.39</td>\n",
       "      <td>146.33</td>\n",
       "    </tr>\n",
       "    <tr>\n",
       "      <th>Number of Episodes - Std Deviation</th>\n",
       "      <td>21.08</td>\n",
       "      <td>39.65</td>\n",
       "      <td>14.26</td>\n",
       "    </tr>\n",
       "  </tbody>\n",
       "</table>\n",
       "</div>"
      ],
      "text/plain": [
       "                                      focused experience sharing  baseline  \\\n",
       "Number of Steps - Mean                44.83                       52.55      \n",
       "Number of Steps - Std Deviation       23.52                       23.20      \n",
       "Episode Total Reward - Mean            0.50                        0.45      \n",
       "Episode Total Reward - Std Deviation   0.52                        0.52      \n",
       "Number of Episodes - Mean             55.95                       86.39      \n",
       "Number of Episodes - Std Deviation    21.08                       39.65      \n",
       "\n",
       "                                      regular experience sharing  \n",
       "Number of Steps - Mean                 50.33                      \n",
       "Number of Steps - Std Deviation        20.58                      \n",
       "Episode Total Reward - Mean             0.36                      \n",
       "Episode Total Reward - Std Deviation    0.51                      \n",
       "Number of Episodes - Mean             146.33                      \n",
       "Number of Episodes - Std Deviation     14.26                      "
      ]
     },
     "execution_count": 170,
     "metadata": {},
     "output_type": "execute_result"
    }
   ],
   "source": [
    "df.head(10)"
   ]
  },
  {
   "cell_type": "code",
   "execution_count": 203,
   "metadata": {},
   "outputs": [
    {
     "data": {
      "image/png": "[encoded data removed]",
      "text/plain": [
       "<Figure size 432x288 with 1 Axes>"
      ]
     },
     "metadata": {
      "needs_background": "light"
     },
     "output_type": "display_data"
    }
   ],
   "source": [
    "colors = ['#003FFF', '#03ED3A', '#E8000B']\n",
    "sns.barplot(x=df.columns, y=df.loc['Number of Episodes - Mean'], palette=colors)\n",
    "# plt.grid(which='major', axis='y')\n",
    "plt.ylabel(\"Average Number of Episodes to Solve\")\n",
    "plt.savefig('res4.png', dpi=300)\n"
   ]
  },
  {
   "cell_type": "code",
   "execution_count": 204,
   "metadata": {},
   "outputs": [
    {
     "data": {
      "image/png": "[encoded data removed]",
      "text/plain": [
       "<Figure size 432x288 with 1 Axes>"
      ]
     },
     "metadata": {
      "needs_background": "light"
     },
     "output_type": "display_data"
    }
   ],
   "source": [
    "sns.barplot(x=df.columns, y=df.loc['Number of Steps - Mean'], palette=colors)\n",
    "plt.ylabel(\"Average Number of Steps per Episode\")\n",
    "plt.savefig('res5.png', dpi=300)\n"
   ]
  },
  {
   "cell_type": "code",
   "execution_count": 205,
   "metadata": {},
   "outputs": [
    {
     "data": {
      "image/png": "[encoded data removed]",
      "text/plain": [
       "<Figure size 432x288 with 1 Axes>"
      ]
     },
     "metadata": {
      "needs_background": "light"
     },
     "output_type": "display_data"
    }
   ],
   "source": [
    "sns.barplot(x=df.columns, y=df.loc['Episode Total Reward - Mean'], palette=colors)\n",
    "plt.ylabel(\"Average Reward Per Episode\")\n",
    "plt.savefig('res6.png', dpi=300)\n",
    "\n"
   ]
  },
  {
   "cell_type": "code",
   "execution_count": 130,
   "metadata": {},
   "outputs": [
    {
     "name": "stdout",
     "output_type": "stream",
     "text": [
      "\\begin{tabular}{lrrr}\n",
      "\\toprule\n",
      "{} &  focused experience sharing &  baseline &  regular experience sharing \\\\\n",
      "\\midrule\n",
      "Number of Steps - Mean               &  44.83                      &  52.55    &   50.33                     \\\\\n",
      "Number of Steps - Std Deviation      &  23.52                      &  23.20    &   20.58                     \\\\\n",
      "Episode Total Reward - Mean          &   0.50                      &   0.45    &    0.36                     \\\\\n",
      "Episode Total Reward - Std Deviation &   0.52                      &   0.52    &    0.51                     \\\\\n",
      "Number of Episodes - Mean            &  55.95                      &  86.39    &  146.33                     \\\\\n",
      "Number of Episodes - Std Deviation   &  21.08                      &  39.65    &   14.26                     \\\\\n",
      "\\bottomrule\n",
      "\\end{tabular}\n",
      "\n"
     ]
    }
   ],
   "source": [
    "print(df.to_latex())"
   ]
  },
  {
   "cell_type": "code",
   "execution_count": 142,
   "metadata": {},
   "outputs": [
    {
     "name": "stdout",
     "output_type": "stream",
     "text": [
      "DQN_Malmo_Seq-MinecraftBasicNew-v0-20181015-162056-87 vs  DQN_Malmo_Seq-MinecraftBasicNew-v0-20181015-233622-37\n",
      "\n",
      "\n",
      "Ks_2sampResult(statistic=0.38000000000000006, pvalue=4.0153193719165587e-10)\n",
      "\n",
      "\n",
      "DQN_Malmo_Seq-MinecraftBasicNew-v0-20181015-162056-87 vs  DQN_Malmo_Seq-MinecraftBasicNew-v0-20181018-095954-70\n",
      "\n",
      "\n",
      "Ks_2sampResult(statistic=0.94, pvalue=9.164090116035275e-60)\n",
      "\n",
      "\n",
      "DQN_Malmo_Seq-MinecraftBasicNew-v0-20181015-233622-37 vs  DQN_Malmo_Seq-MinecraftBasicNew-v0-20181018-095954-70\n",
      "\n",
      "\n",
      "Ks_2sampResult(statistic=0.74, pvalue=3.3609879978650472e-37)\n",
      "\n",
      "\n"
     ]
    }
   ],
   "source": [
    "def calc_stats(res):\n",
    "    # get specific variable to compare\n",
    "    all_values = list(res.items())\n",
    "    samples = list(combinations(all_values, 2))\n",
    "    for sample in samples:\n",
    "        print(sample[0][0], \"vs \",  sample[1][0])\n",
    "        print(\"\\n\")\n",
    "        print(stats.ks_2samp(sample[0][1], sample[1][1]))  \n",
    "        print(\"\\n\")\n",
    "\n",
    "calc_stats(episode_count)"
   ]
  },
  {
   "cell_type": "markdown",
   "metadata": {},
   "source": [
    "I have a result to show. But can I really show this? I'm not really sure it is reliable. Why so many 150 in a row? I want to run the same test backwards. First the False, then the True for sharing. It might be something with the machine - it might have been busy.\n",
    "\n",
    "But I won't probably trust no result I have. There is something I actually generated, I will use it, if I remove outliers, results won't be so different."
   ]
  },
  {
   "cell_type": "code",
   "execution_count": null,
   "metadata": {},
   "outputs": [],
   "source": []
  }
 ],
 "metadata": {
  "kernelspec": {
   "display_name": "Python [default]",
   "language": "python",
   "name": "python3"
  },
  "language_info": {
   "codemirror_mode": {
    "name": "ipython",
    "version": 3
   },
   "file_extension": ".py",
   "mimetype": "text/x-python",
   "name": "python",
   "nbconvert_exporter": "python",
   "pygments_lexer": "ipython3",
   "version": "3.6.6"
  },
  "varInspector": {
   "cols": {
    "lenName": 16,
    "lenType": 16,
    "lenVar": 40
   },
   "kernels_config": {
    "python": {
     "delete_cmd_postfix": "",
     "delete_cmd_prefix": "del ",
     "library": "var_list.py",
     "varRefreshCmd": "print(var_dic_list())"
    },
    "r": {
     "delete_cmd_postfix": ") ",
     "delete_cmd_prefix": "rm(",
     "library": "var_list.r",
     "varRefreshCmd": "cat(var_dic_list()) "
    }
   },
   "types_to_exclude": [
    "module",
    "function",
    "builtin_function_or_method",
    "instance",
    "_Feature"
   ],
   "window_display": false
  }
 },
 "nbformat": 4,
 "nbformat_minor": 2
}
