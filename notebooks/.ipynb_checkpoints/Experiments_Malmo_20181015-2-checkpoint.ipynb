{
 "cells": [
  {
   "cell_type": "code",
   "execution_count": 1,
   "metadata": {},
   "outputs": [],
   "source": [
    "import os\n",
    "import numpy as np\n",
    "from collections import defaultdict\n",
    "import pandas as pd\n",
    "import matplotlib.pyplot as plt\n",
    "import json\n",
    "%matplotlib inline\n",
    "\n",
    "from tensorboard.backend.event_processing import event_accumulator\n",
    "from collections import defaultdict\n"
   ]
  },
  {
   "cell_type": "code",
   "execution_count": 2,
   "metadata": {},
   "outputs": [],
   "source": [
    "# list experiments\n",
    "NUM_EXPERIMENTS = 2\n",
    "root = \"/mnt/storage/log-experiments/\"\n",
    "log_root = root + \"logs/\"\n",
    "\n",
    "# only want last 15 experiments\n",
    "# experiments = [f for f in os.listdir(log_root) if f[-4:] == 'json']\n",
    "\n",
    "# place them in a dictionary\n",
    "exp_dict = {}\n",
    "for exp in os.listdir(log_root)[-NUM_EXPERIMENTS:]:\n",
    "    if exp[-4:] == 'json':\n",
    "        exp_id = exp[:-5]\n",
    "        with open(log_root+exp, \"rb\") as f:\n",
    "            exp_dict[exp_id] = json.load(f)\n",
    "            \n",
    "# convert dictionary to a dataframe\n",
    "experiments_df = pd.DataFrame.from_dict(exp_dict, orient='index')"
   ]
  },
  {
   "cell_type": "code",
   "execution_count": 3,
   "metadata": {},
   "outputs": [
    {
     "data": {
      "text/plain": [
       "(2, 28)"
      ]
     },
     "execution_count": 3,
     "metadata": {},
     "output_type": "execute_result"
    }
   ],
   "source": [
    "experiments_df.shape"
   ]
  },
  {
   "cell_type": "code",
   "execution_count": 4,
   "metadata": {},
   "outputs": [
    {
     "data": {
      "text/plain": [
       "Index(['DQN_Malmo_Seq-MinecraftBasicNew-v0-20181015-090503-43', 'DQN_Malmo_Seq-MinecraftBasicNew-v0-20181015-114635-04'], dtype='object')"
      ]
     },
     "execution_count": 4,
     "metadata": {},
     "output_type": "execute_result"
    }
   ],
   "source": [
    "experiments_df.index"
   ]
  },
  {
   "cell_type": "code",
   "execution_count": 5,
   "metadata": {},
   "outputs": [
    {
     "data": {
      "text/html": [
       "<div>\n",
       "<style scoped>\n",
       "    .dataframe tbody tr th:only-of-type {\n",
       "        vertical-align: middle;\n",
       "    }\n",
       "\n",
       "    .dataframe tbody tr th {\n",
       "        vertical-align: top;\n",
       "    }\n",
       "\n",
       "    .dataframe thead th {\n",
       "        text-align: right;\n",
       "    }\n",
       "</style>\n",
       "<table border=\"1\" class=\"dataframe\">\n",
       "  <thead>\n",
       "    <tr style=\"text-align: right;\">\n",
       "      <th></th>\n",
       "      <th>SEARCH_METHOD</th>\n",
       "      <th>DEFAULT_ENV_NAME</th>\n",
       "      <th>METHOD</th>\n",
       "      <th>NUM_TRIALS</th>\n",
       "      <th>DEBUG</th>\n",
       "      <th>MAX_GAMES_PLAYED</th>\n",
       "      <th>MEAN_REWARD_BOUND</th>\n",
       "      <th>NUMBER_EPISODES_MEAN</th>\n",
       "      <th>NUM_AGENTS</th>\n",
       "      <th>SHARING</th>\n",
       "      <th>...</th>\n",
       "      <th>GRAD_L2_CLIP</th>\n",
       "      <th>SYNC_TARGET_FRAMES</th>\n",
       "      <th>SOFT</th>\n",
       "      <th>SOFT_UPDATE_TAU</th>\n",
       "      <th>EPSILON_DECAY_LAST_FRAME</th>\n",
       "      <th>EPSILON_START</th>\n",
       "      <th>EPSILON_FINAL</th>\n",
       "      <th>INDEPENDENT_EVALUATION</th>\n",
       "      <th>PRINT_INTERVAL</th>\n",
       "      <th>DEVICE</th>\n",
       "    </tr>\n",
       "  </thead>\n",
       "  <tbody>\n",
       "    <tr>\n",
       "      <th>DQN_Malmo_Seq-MinecraftBasicNew-v0-20181015-090503-43</th>\n",
       "      <td>hypothesis</td>\n",
       "      <td>MinecraftBasicNew-v0</td>\n",
       "      <td>DQN_Malmo_Seq</td>\n",
       "      <td>30</td>\n",
       "      <td>True</td>\n",
       "      <td>150</td>\n",
       "      <td>950</td>\n",
       "      <td>10</td>\n",
       "      <td>2</td>\n",
       "      <td>True</td>\n",
       "      <td>...</td>\n",
       "      <td>1</td>\n",
       "      <td>1000</td>\n",
       "      <td>True</td>\n",
       "      <td>0.005</td>\n",
       "      <td>1000</td>\n",
       "      <td>1.0</td>\n",
       "      <td>0.02</td>\n",
       "      <td>False</td>\n",
       "      <td>1</td>\n",
       "      <td>cuda</td>\n",
       "    </tr>\n",
       "    <tr>\n",
       "      <th>DQN_Malmo_Seq-MinecraftBasicNew-v0-20181015-114635-04</th>\n",
       "      <td>hypothesis</td>\n",
       "      <td>MinecraftBasicNew-v0</td>\n",
       "      <td>DQN_Malmo_Seq</td>\n",
       "      <td>30</td>\n",
       "      <td>True</td>\n",
       "      <td>150</td>\n",
       "      <td>950</td>\n",
       "      <td>10</td>\n",
       "      <td>2</td>\n",
       "      <td>False</td>\n",
       "      <td>...</td>\n",
       "      <td>1</td>\n",
       "      <td>1000</td>\n",
       "      <td>True</td>\n",
       "      <td>0.005</td>\n",
       "      <td>1000</td>\n",
       "      <td>1.0</td>\n",
       "      <td>0.02</td>\n",
       "      <td>False</td>\n",
       "      <td>1</td>\n",
       "      <td>cuda</td>\n",
       "    </tr>\n",
       "  </tbody>\n",
       "</table>\n",
       "<p>2 rows × 28 columns</p>\n",
       "</div>"
      ],
      "text/plain": [
       "                                                   SEARCH_METHOD  \\\n",
       "DQN_Malmo_Seq-MinecraftBasicNew-v0-20181015-090...    hypothesis   \n",
       "DQN_Malmo_Seq-MinecraftBasicNew-v0-20181015-114...    hypothesis   \n",
       "\n",
       "                                                        DEFAULT_ENV_NAME  \\\n",
       "DQN_Malmo_Seq-MinecraftBasicNew-v0-20181015-090...  MinecraftBasicNew-v0   \n",
       "DQN_Malmo_Seq-MinecraftBasicNew-v0-20181015-114...  MinecraftBasicNew-v0   \n",
       "\n",
       "                                                           METHOD  NUM_TRIALS  \\\n",
       "DQN_Malmo_Seq-MinecraftBasicNew-v0-20181015-090...  DQN_Malmo_Seq          30   \n",
       "DQN_Malmo_Seq-MinecraftBasicNew-v0-20181015-114...  DQN_Malmo_Seq          30   \n",
       "\n",
       "                                                    DEBUG  MAX_GAMES_PLAYED  \\\n",
       "DQN_Malmo_Seq-MinecraftBasicNew-v0-20181015-090...   True               150   \n",
       "DQN_Malmo_Seq-MinecraftBasicNew-v0-20181015-114...   True               150   \n",
       "\n",
       "                                                    MEAN_REWARD_BOUND  \\\n",
       "DQN_Malmo_Seq-MinecraftBasicNew-v0-20181015-090...                950   \n",
       "DQN_Malmo_Seq-MinecraftBasicNew-v0-20181015-114...                950   \n",
       "\n",
       "                                                    NUMBER_EPISODES_MEAN  \\\n",
       "DQN_Malmo_Seq-MinecraftBasicNew-v0-20181015-090...                    10   \n",
       "DQN_Malmo_Seq-MinecraftBasicNew-v0-20181015-114...                    10   \n",
       "\n",
       "                                                    NUM_AGENTS  SHARING  \\\n",
       "DQN_Malmo_Seq-MinecraftBasicNew-v0-20181015-090...           2     True   \n",
       "DQN_Malmo_Seq-MinecraftBasicNew-v0-20181015-114...           2    False   \n",
       "\n",
       "                                                     ...    GRAD_L2_CLIP  \\\n",
       "DQN_Malmo_Seq-MinecraftBasicNew-v0-20181015-090...   ...               1   \n",
       "DQN_Malmo_Seq-MinecraftBasicNew-v0-20181015-114...   ...               1   \n",
       "\n",
       "                                                    SYNC_TARGET_FRAMES  SOFT  \\\n",
       "DQN_Malmo_Seq-MinecraftBasicNew-v0-20181015-090...                1000  True   \n",
       "DQN_Malmo_Seq-MinecraftBasicNew-v0-20181015-114...                1000  True   \n",
       "\n",
       "                                                    SOFT_UPDATE_TAU  \\\n",
       "DQN_Malmo_Seq-MinecraftBasicNew-v0-20181015-090...            0.005   \n",
       "DQN_Malmo_Seq-MinecraftBasicNew-v0-20181015-114...            0.005   \n",
       "\n",
       "                                                    EPSILON_DECAY_LAST_FRAME  \\\n",
       "DQN_Malmo_Seq-MinecraftBasicNew-v0-20181015-090...                      1000   \n",
       "DQN_Malmo_Seq-MinecraftBasicNew-v0-20181015-114...                      1000   \n",
       "\n",
       "                                                    EPSILON_START  \\\n",
       "DQN_Malmo_Seq-MinecraftBasicNew-v0-20181015-090...            1.0   \n",
       "DQN_Malmo_Seq-MinecraftBasicNew-v0-20181015-114...            1.0   \n",
       "\n",
       "                                                    EPSILON_FINAL  \\\n",
       "DQN_Malmo_Seq-MinecraftBasicNew-v0-20181015-090...           0.02   \n",
       "DQN_Malmo_Seq-MinecraftBasicNew-v0-20181015-114...           0.02   \n",
       "\n",
       "                                                    INDEPENDENT_EVALUATION  \\\n",
       "DQN_Malmo_Seq-MinecraftBasicNew-v0-20181015-090...                   False   \n",
       "DQN_Malmo_Seq-MinecraftBasicNew-v0-20181015-114...                   False   \n",
       "\n",
       "                                                    PRINT_INTERVAL  DEVICE  \n",
       "DQN_Malmo_Seq-MinecraftBasicNew-v0-20181015-090...               1    cuda  \n",
       "DQN_Malmo_Seq-MinecraftBasicNew-v0-20181015-114...               1    cuda  \n",
       "\n",
       "[2 rows x 28 columns]"
      ]
     },
     "execution_count": 5,
     "metadata": {},
     "output_type": "execute_result"
    }
   ],
   "source": [
    "experiments_df.head()"
   ]
  },
  {
   "cell_type": "code",
   "execution_count": 6,
   "metadata": {},
   "outputs": [
    {
     "data": {
      "text/plain": [
       "['DQN_Malmo_Seq-MinecraftBasicNew-v0-20181015-090503-43',\n",
       " 'DQN_Malmo_Seq-MinecraftBasicNew-v0-20181015-114635-04']"
      ]
     },
     "execution_count": 6,
     "metadata": {},
     "output_type": "execute_result"
    }
   ],
   "source": [
    "runs_root = root + \"runs/\"\n",
    "experiments_runs = os.listdir(runs_root)[-NUM_EXPERIMENTS:]\n",
    "experiments_runs"
   ]
  },
  {
   "cell_type": "code",
   "execution_count": 7,
   "metadata": {},
   "outputs": [],
   "source": [
    "runs_root = root + \"runs/\"\n",
    "experiments_data = {}\n",
    "for experiment in experiments_df.index:\n",
    "    if experiment != \".DS_Store\":\n",
    "        for trial in os.listdir(os.path.join(runs_root, experiment)):\n",
    "            if trial != \".DS_Store\":\n",
    "                for run in os.listdir(os.path.join(runs_root, experiment, trial)):\n",
    "                    if trial != \".DS_Store\":                \n",
    "                        ea = event_accumulator.EventAccumulator(os.path.join(runs_root, experiment, trial, run))\n",
    "                        ea.Reload()\n",
    "                        eid = \"-\".join([experiment, trial])\n",
    "                        experiments_data[eid] = None\n",
    "                        for scalar in ea.Tags()['scalars']:\n",
    "                            df_temp = pd.DataFrame(ea.Scalars(scalar)).drop('wall_time', axis=1).rename(index=str, columns={'value': scalar})\n",
    "                            if experiments_data[eid] is None:\n",
    "                                experiments_data[eid] = df_temp\n",
    "                            else:\n",
    "                                experiments_data[eid] = pd.merge(experiments_data[eid], df_temp, how='outer', on='step')\n",
    "                                "
   ]
  },
  {
   "cell_type": "code",
   "execution_count": 8,
   "metadata": {},
   "outputs": [
    {
     "data": {
      "text/plain": [
       "dict_keys(['DQN_Malmo_Seq-MinecraftBasicNew-v0-20181015-090503-43-agent0-trial9', 'DQN_Malmo_Seq-MinecraftBasicNew-v0-20181015-090503-43-agent0-trial0', 'DQN_Malmo_Seq-MinecraftBasicNew-v0-20181015-090503-43-agent0-trial1', 'DQN_Malmo_Seq-MinecraftBasicNew-v0-20181015-090503-43-agent0-trial10', 'DQN_Malmo_Seq-MinecraftBasicNew-v0-20181015-090503-43-agent0-trial11', 'DQN_Malmo_Seq-MinecraftBasicNew-v0-20181015-090503-43-agent0-trial12', 'DQN_Malmo_Seq-MinecraftBasicNew-v0-20181015-090503-43-agent0-trial13', 'DQN_Malmo_Seq-MinecraftBasicNew-v0-20181015-090503-43-agent0-trial14', 'DQN_Malmo_Seq-MinecraftBasicNew-v0-20181015-090503-43-agent0-trial15', 'DQN_Malmo_Seq-MinecraftBasicNew-v0-20181015-090503-43-agent0-trial16', 'DQN_Malmo_Seq-MinecraftBasicNew-v0-20181015-090503-43-agent0-trial17', 'DQN_Malmo_Seq-MinecraftBasicNew-v0-20181015-090503-43-agent0-trial18', 'DQN_Malmo_Seq-MinecraftBasicNew-v0-20181015-090503-43-agent0-trial19', 'DQN_Malmo_Seq-MinecraftBasicNew-v0-20181015-090503-43-agent0-trial2', 'DQN_Malmo_Seq-MinecraftBasicNew-v0-20181015-090503-43-agent0-trial20', 'DQN_Malmo_Seq-MinecraftBasicNew-v0-20181015-090503-43-agent0-trial21', 'DQN_Malmo_Seq-MinecraftBasicNew-v0-20181015-090503-43-agent0-trial22', 'DQN_Malmo_Seq-MinecraftBasicNew-v0-20181015-090503-43-agent0-trial23', 'DQN_Malmo_Seq-MinecraftBasicNew-v0-20181015-090503-43-agent0-trial24', 'DQN_Malmo_Seq-MinecraftBasicNew-v0-20181015-090503-43-agent0-trial25', 'DQN_Malmo_Seq-MinecraftBasicNew-v0-20181015-090503-43-agent0-trial26', 'DQN_Malmo_Seq-MinecraftBasicNew-v0-20181015-090503-43-agent0-trial27', 'DQN_Malmo_Seq-MinecraftBasicNew-v0-20181015-090503-43-agent0-trial28', 'DQN_Malmo_Seq-MinecraftBasicNew-v0-20181015-090503-43-agent0-trial29', 'DQN_Malmo_Seq-MinecraftBasicNew-v0-20181015-090503-43-agent0-trial3', 'DQN_Malmo_Seq-MinecraftBasicNew-v0-20181015-090503-43-agent0-trial4', 'DQN_Malmo_Seq-MinecraftBasicNew-v0-20181015-090503-43-agent0-trial5', 'DQN_Malmo_Seq-MinecraftBasicNew-v0-20181015-090503-43-agent0-trial6', 'DQN_Malmo_Seq-MinecraftBasicNew-v0-20181015-090503-43-agent0-trial7', 'DQN_Malmo_Seq-MinecraftBasicNew-v0-20181015-090503-43-agent0-trial8', 'DQN_Malmo_Seq-MinecraftBasicNew-v0-20181015-090503-43-agent1-trial0', 'DQN_Malmo_Seq-MinecraftBasicNew-v0-20181015-090503-43-agent1-trial1', 'DQN_Malmo_Seq-MinecraftBasicNew-v0-20181015-090503-43-agent1-trial10', 'DQN_Malmo_Seq-MinecraftBasicNew-v0-20181015-090503-43-agent1-trial11', 'DQN_Malmo_Seq-MinecraftBasicNew-v0-20181015-090503-43-agent1-trial12', 'DQN_Malmo_Seq-MinecraftBasicNew-v0-20181015-090503-43-agent1-trial13', 'DQN_Malmo_Seq-MinecraftBasicNew-v0-20181015-090503-43-agent1-trial14', 'DQN_Malmo_Seq-MinecraftBasicNew-v0-20181015-090503-43-agent1-trial15', 'DQN_Malmo_Seq-MinecraftBasicNew-v0-20181015-090503-43-agent1-trial16', 'DQN_Malmo_Seq-MinecraftBasicNew-v0-20181015-090503-43-agent1-trial17', 'DQN_Malmo_Seq-MinecraftBasicNew-v0-20181015-090503-43-agent1-trial18', 'DQN_Malmo_Seq-MinecraftBasicNew-v0-20181015-090503-43-agent1-trial19', 'DQN_Malmo_Seq-MinecraftBasicNew-v0-20181015-090503-43-agent1-trial2', 'DQN_Malmo_Seq-MinecraftBasicNew-v0-20181015-090503-43-agent1-trial20', 'DQN_Malmo_Seq-MinecraftBasicNew-v0-20181015-090503-43-agent1-trial21', 'DQN_Malmo_Seq-MinecraftBasicNew-v0-20181015-090503-43-agent1-trial22', 'DQN_Malmo_Seq-MinecraftBasicNew-v0-20181015-090503-43-agent1-trial23', 'DQN_Malmo_Seq-MinecraftBasicNew-v0-20181015-090503-43-agent1-trial24', 'DQN_Malmo_Seq-MinecraftBasicNew-v0-20181015-090503-43-agent1-trial25', 'DQN_Malmo_Seq-MinecraftBasicNew-v0-20181015-090503-43-agent1-trial26', 'DQN_Malmo_Seq-MinecraftBasicNew-v0-20181015-090503-43-agent1-trial27', 'DQN_Malmo_Seq-MinecraftBasicNew-v0-20181015-090503-43-agent1-trial28', 'DQN_Malmo_Seq-MinecraftBasicNew-v0-20181015-090503-43-agent1-trial29', 'DQN_Malmo_Seq-MinecraftBasicNew-v0-20181015-090503-43-agent1-trial3', 'DQN_Malmo_Seq-MinecraftBasicNew-v0-20181015-090503-43-agent1-trial4', 'DQN_Malmo_Seq-MinecraftBasicNew-v0-20181015-090503-43-agent1-trial5', 'DQN_Malmo_Seq-MinecraftBasicNew-v0-20181015-090503-43-agent1-trial6', 'DQN_Malmo_Seq-MinecraftBasicNew-v0-20181015-090503-43-agent1-trial7', 'DQN_Malmo_Seq-MinecraftBasicNew-v0-20181015-090503-43-agent1-trial8', 'DQN_Malmo_Seq-MinecraftBasicNew-v0-20181015-090503-43-agent1-trial9', 'DQN_Malmo_Seq-MinecraftBasicNew-v0-20181015-114635-04-agent0-trial9', 'DQN_Malmo_Seq-MinecraftBasicNew-v0-20181015-114635-04-agent0-trial0', 'DQN_Malmo_Seq-MinecraftBasicNew-v0-20181015-114635-04-agent0-trial1', 'DQN_Malmo_Seq-MinecraftBasicNew-v0-20181015-114635-04-agent0-trial10', 'DQN_Malmo_Seq-MinecraftBasicNew-v0-20181015-114635-04-agent0-trial11', 'DQN_Malmo_Seq-MinecraftBasicNew-v0-20181015-114635-04-agent0-trial12', 'DQN_Malmo_Seq-MinecraftBasicNew-v0-20181015-114635-04-agent0-trial13', 'DQN_Malmo_Seq-MinecraftBasicNew-v0-20181015-114635-04-agent0-trial14', 'DQN_Malmo_Seq-MinecraftBasicNew-v0-20181015-114635-04-agent0-trial15', 'DQN_Malmo_Seq-MinecraftBasicNew-v0-20181015-114635-04-agent0-trial16', 'DQN_Malmo_Seq-MinecraftBasicNew-v0-20181015-114635-04-agent0-trial17', 'DQN_Malmo_Seq-MinecraftBasicNew-v0-20181015-114635-04-agent0-trial18', 'DQN_Malmo_Seq-MinecraftBasicNew-v0-20181015-114635-04-agent0-trial19', 'DQN_Malmo_Seq-MinecraftBasicNew-v0-20181015-114635-04-agent0-trial2', 'DQN_Malmo_Seq-MinecraftBasicNew-v0-20181015-114635-04-agent0-trial20', 'DQN_Malmo_Seq-MinecraftBasicNew-v0-20181015-114635-04-agent0-trial21', 'DQN_Malmo_Seq-MinecraftBasicNew-v0-20181015-114635-04-agent0-trial22', 'DQN_Malmo_Seq-MinecraftBasicNew-v0-20181015-114635-04-agent0-trial23', 'DQN_Malmo_Seq-MinecraftBasicNew-v0-20181015-114635-04-agent0-trial24', 'DQN_Malmo_Seq-MinecraftBasicNew-v0-20181015-114635-04-agent0-trial25', 'DQN_Malmo_Seq-MinecraftBasicNew-v0-20181015-114635-04-agent0-trial26', 'DQN_Malmo_Seq-MinecraftBasicNew-v0-20181015-114635-04-agent0-trial27', 'DQN_Malmo_Seq-MinecraftBasicNew-v0-20181015-114635-04-agent0-trial28', 'DQN_Malmo_Seq-MinecraftBasicNew-v0-20181015-114635-04-agent0-trial29', 'DQN_Malmo_Seq-MinecraftBasicNew-v0-20181015-114635-04-agent0-trial3', 'DQN_Malmo_Seq-MinecraftBasicNew-v0-20181015-114635-04-agent0-trial4', 'DQN_Malmo_Seq-MinecraftBasicNew-v0-20181015-114635-04-agent0-trial5', 'DQN_Malmo_Seq-MinecraftBasicNew-v0-20181015-114635-04-agent0-trial6', 'DQN_Malmo_Seq-MinecraftBasicNew-v0-20181015-114635-04-agent0-trial7', 'DQN_Malmo_Seq-MinecraftBasicNew-v0-20181015-114635-04-agent0-trial8', 'DQN_Malmo_Seq-MinecraftBasicNew-v0-20181015-114635-04-agent1-trial0', 'DQN_Malmo_Seq-MinecraftBasicNew-v0-20181015-114635-04-agent1-trial1', 'DQN_Malmo_Seq-MinecraftBasicNew-v0-20181015-114635-04-agent1-trial10', 'DQN_Malmo_Seq-MinecraftBasicNew-v0-20181015-114635-04-agent1-trial11', 'DQN_Malmo_Seq-MinecraftBasicNew-v0-20181015-114635-04-agent1-trial12', 'DQN_Malmo_Seq-MinecraftBasicNew-v0-20181015-114635-04-agent1-trial13', 'DQN_Malmo_Seq-MinecraftBasicNew-v0-20181015-114635-04-agent1-trial14', 'DQN_Malmo_Seq-MinecraftBasicNew-v0-20181015-114635-04-agent1-trial15', 'DQN_Malmo_Seq-MinecraftBasicNew-v0-20181015-114635-04-agent1-trial16', 'DQN_Malmo_Seq-MinecraftBasicNew-v0-20181015-114635-04-agent1-trial17', 'DQN_Malmo_Seq-MinecraftBasicNew-v0-20181015-114635-04-agent1-trial18', 'DQN_Malmo_Seq-MinecraftBasicNew-v0-20181015-114635-04-agent1-trial19', 'DQN_Malmo_Seq-MinecraftBasicNew-v0-20181015-114635-04-agent1-trial2', 'DQN_Malmo_Seq-MinecraftBasicNew-v0-20181015-114635-04-agent1-trial20', 'DQN_Malmo_Seq-MinecraftBasicNew-v0-20181015-114635-04-agent1-trial21', 'DQN_Malmo_Seq-MinecraftBasicNew-v0-20181015-114635-04-agent1-trial22', 'DQN_Malmo_Seq-MinecraftBasicNew-v0-20181015-114635-04-agent1-trial23', 'DQN_Malmo_Seq-MinecraftBasicNew-v0-20181015-114635-04-agent1-trial24', 'DQN_Malmo_Seq-MinecraftBasicNew-v0-20181015-114635-04-agent1-trial25', 'DQN_Malmo_Seq-MinecraftBasicNew-v0-20181015-114635-04-agent1-trial26', 'DQN_Malmo_Seq-MinecraftBasicNew-v0-20181015-114635-04-agent1-trial27', 'DQN_Malmo_Seq-MinecraftBasicNew-v0-20181015-114635-04-agent1-trial28', 'DQN_Malmo_Seq-MinecraftBasicNew-v0-20181015-114635-04-agent1-trial29', 'DQN_Malmo_Seq-MinecraftBasicNew-v0-20181015-114635-04-agent1-trial3', 'DQN_Malmo_Seq-MinecraftBasicNew-v0-20181015-114635-04-agent1-trial4', 'DQN_Malmo_Seq-MinecraftBasicNew-v0-20181015-114635-04-agent1-trial5', 'DQN_Malmo_Seq-MinecraftBasicNew-v0-20181015-114635-04-agent1-trial6', 'DQN_Malmo_Seq-MinecraftBasicNew-v0-20181015-114635-04-agent1-trial7', 'DQN_Malmo_Seq-MinecraftBasicNew-v0-20181015-114635-04-agent1-trial8', 'DQN_Malmo_Seq-MinecraftBasicNew-v0-20181015-114635-04-agent1-trial9'])"
      ]
     },
     "execution_count": 8,
     "metadata": {},
     "output_type": "execute_result"
    }
   ],
   "source": [
    "# listing all experiments\n",
    "experiments_data.keys()"
   ]
  },
  {
   "cell_type": "code",
   "execution_count": 9,
   "metadata": {},
   "outputs": [
    {
     "data": {
      "text/plain": [
       "120"
      ]
     },
     "execution_count": 9,
     "metadata": {},
     "output_type": "execute_result"
    }
   ],
   "source": [
    "len(experiments_data.keys())"
   ]
  },
  {
   "cell_type": "code",
   "execution_count": 10,
   "metadata": {},
   "outputs": [
    {
     "data": {
      "text/plain": [
       "Index(['step', 'loss', 'frame_speed', 'epsilon', 'step_reward',\n",
       "       'reward_100/avg', 'reward_100/std', 'reward', 'steps', 'ep_speed',\n",
       "       'q_value/min', 'q_value/max'],\n",
       "      dtype='object')"
      ]
     },
     "execution_count": 10,
     "metadata": {},
     "output_type": "execute_result"
    }
   ],
   "source": [
    "# getting columns from all experiments\n",
    "sample = list(experiments_data.keys())[1]\n",
    "experiments_data[sample].columns"
   ]
  },
  {
   "cell_type": "code",
   "execution_count": 11,
   "metadata": {},
   "outputs": [
    {
     "data": {
      "image/png": "[encoded data removed]",
      "text/plain": [
       "<Figure size 864x432 with 1 Axes>"
      ]
     },
     "metadata": {
      "needs_background": "light"
     },
     "output_type": "display_data"
    }
   ],
   "source": [
    "# example comparing rewards from within an experiment\n",
    "plt.figure(figsize=(12,6))\n",
    "exp_name = sample\n",
    "for exp,data in experiments_data.items():\n",
    "    if exp.startswith(exp_name):\n",
    "        plt.plot(data['reward_100/avg'], label=exp_name)\n"
   ]
  },
  {
   "cell_type": "code",
   "execution_count": 12,
   "metadata": {},
   "outputs": [],
   "source": [
    "# they don't all fit the same timeframe\n",
    "rewards_exp = defaultdict(list)\n",
    "for key in experiments_data.keys():\n",
    "    exp_name = key[:len(experiments_df.index[0])]\n",
    "    num_episodes = len(experiments_data[key][['reward']].dropna())\n",
    "    rewards_exp[exp_name].append(num_episodes)\n",
    "\n",
    "experiment_results = list(zip(rewards_exp.keys(), map(lambda x:np.mean(x), rewards_exp.values())))\n",
    "\n",
    "df_new = pd.DataFrame(experiment_results, columns=['exp', 'episodes'])\n",
    "df_new = df_new.set_index('exp')\n"
   ]
  },
  {
   "cell_type": "code",
   "execution_count": 13,
   "metadata": {},
   "outputs": [
    {
     "data": {
      "text/html": [
       "<div>\n",
       "<style scoped>\n",
       "    .dataframe tbody tr th:only-of-type {\n",
       "        vertical-align: middle;\n",
       "    }\n",
       "\n",
       "    .dataframe tbody tr th {\n",
       "        vertical-align: top;\n",
       "    }\n",
       "\n",
       "    .dataframe thead th {\n",
       "        text-align: right;\n",
       "    }\n",
       "</style>\n",
       "<table border=\"1\" class=\"dataframe\">\n",
       "  <thead>\n",
       "    <tr style=\"text-align: right;\">\n",
       "      <th></th>\n",
       "      <th>episodes</th>\n",
       "    </tr>\n",
       "    <tr>\n",
       "      <th>exp</th>\n",
       "      <th></th>\n",
       "    </tr>\n",
       "  </thead>\n",
       "  <tbody>\n",
       "    <tr>\n",
       "      <th>DQN_Malmo_Seq-MinecraftBasicNew-v0-20181015-090503-43</th>\n",
       "      <td>50.783333</td>\n",
       "    </tr>\n",
       "    <tr>\n",
       "      <th>DQN_Malmo_Seq-MinecraftBasicNew-v0-20181015-114635-04</th>\n",
       "      <td>62.400000</td>\n",
       "    </tr>\n",
       "  </tbody>\n",
       "</table>\n",
       "</div>"
      ],
      "text/plain": [
       "                                                     episodes\n",
       "exp                                                          \n",
       "DQN_Malmo_Seq-MinecraftBasicNew-v0-20181015-090...  50.783333\n",
       "DQN_Malmo_Seq-MinecraftBasicNew-v0-20181015-114...  62.400000"
      ]
     },
     "execution_count": 13,
     "metadata": {},
     "output_type": "execute_result"
    }
   ],
   "source": [
    "df_new"
   ]
  },
  {
   "cell_type": "code",
   "execution_count": 14,
   "metadata": {},
   "outputs": [
    {
     "data": {
      "text/html": [
       "<div>\n",
       "<style scoped>\n",
       "    .dataframe tbody tr th:only-of-type {\n",
       "        vertical-align: middle;\n",
       "    }\n",
       "\n",
       "    .dataframe tbody tr th {\n",
       "        vertical-align: top;\n",
       "    }\n",
       "\n",
       "    .dataframe thead th {\n",
       "        text-align: right;\n",
       "    }\n",
       "</style>\n",
       "<table border=\"1\" class=\"dataframe\">\n",
       "  <thead>\n",
       "    <tr style=\"text-align: right;\">\n",
       "      <th></th>\n",
       "      <th>SEARCH_METHOD</th>\n",
       "      <th>DEFAULT_ENV_NAME</th>\n",
       "      <th>METHOD</th>\n",
       "      <th>NUM_TRIALS</th>\n",
       "      <th>DEBUG</th>\n",
       "      <th>MAX_GAMES_PLAYED</th>\n",
       "      <th>MEAN_REWARD_BOUND</th>\n",
       "      <th>NUMBER_EPISODES_MEAN</th>\n",
       "      <th>NUM_AGENTS</th>\n",
       "      <th>SHARING</th>\n",
       "      <th>...</th>\n",
       "      <th>GRAD_L2_CLIP</th>\n",
       "      <th>SYNC_TARGET_FRAMES</th>\n",
       "      <th>SOFT</th>\n",
       "      <th>SOFT_UPDATE_TAU</th>\n",
       "      <th>EPSILON_DECAY_LAST_FRAME</th>\n",
       "      <th>EPSILON_START</th>\n",
       "      <th>EPSILON_FINAL</th>\n",
       "      <th>INDEPENDENT_EVALUATION</th>\n",
       "      <th>PRINT_INTERVAL</th>\n",
       "      <th>DEVICE</th>\n",
       "    </tr>\n",
       "  </thead>\n",
       "  <tbody>\n",
       "    <tr>\n",
       "      <th>DQN_Malmo_Seq-MinecraftBasicNew-v0-20181015-090503-43</th>\n",
       "      <td>hypothesis</td>\n",
       "      <td>MinecraftBasicNew-v0</td>\n",
       "      <td>DQN_Malmo_Seq</td>\n",
       "      <td>30</td>\n",
       "      <td>True</td>\n",
       "      <td>150</td>\n",
       "      <td>950</td>\n",
       "      <td>10</td>\n",
       "      <td>2</td>\n",
       "      <td>True</td>\n",
       "      <td>...</td>\n",
       "      <td>1</td>\n",
       "      <td>1000</td>\n",
       "      <td>True</td>\n",
       "      <td>0.005</td>\n",
       "      <td>1000</td>\n",
       "      <td>1.0</td>\n",
       "      <td>0.02</td>\n",
       "      <td>False</td>\n",
       "      <td>1</td>\n",
       "      <td>cuda</td>\n",
       "    </tr>\n",
       "    <tr>\n",
       "      <th>DQN_Malmo_Seq-MinecraftBasicNew-v0-20181015-114635-04</th>\n",
       "      <td>hypothesis</td>\n",
       "      <td>MinecraftBasicNew-v0</td>\n",
       "      <td>DQN_Malmo_Seq</td>\n",
       "      <td>30</td>\n",
       "      <td>True</td>\n",
       "      <td>150</td>\n",
       "      <td>950</td>\n",
       "      <td>10</td>\n",
       "      <td>2</td>\n",
       "      <td>False</td>\n",
       "      <td>...</td>\n",
       "      <td>1</td>\n",
       "      <td>1000</td>\n",
       "      <td>True</td>\n",
       "      <td>0.005</td>\n",
       "      <td>1000</td>\n",
       "      <td>1.0</td>\n",
       "      <td>0.02</td>\n",
       "      <td>False</td>\n",
       "      <td>1</td>\n",
       "      <td>cuda</td>\n",
       "    </tr>\n",
       "  </tbody>\n",
       "</table>\n",
       "<p>2 rows × 28 columns</p>\n",
       "</div>"
      ],
      "text/plain": [
       "                                                   SEARCH_METHOD  \\\n",
       "DQN_Malmo_Seq-MinecraftBasicNew-v0-20181015-090...    hypothesis   \n",
       "DQN_Malmo_Seq-MinecraftBasicNew-v0-20181015-114...    hypothesis   \n",
       "\n",
       "                                                        DEFAULT_ENV_NAME  \\\n",
       "DQN_Malmo_Seq-MinecraftBasicNew-v0-20181015-090...  MinecraftBasicNew-v0   \n",
       "DQN_Malmo_Seq-MinecraftBasicNew-v0-20181015-114...  MinecraftBasicNew-v0   \n",
       "\n",
       "                                                           METHOD  NUM_TRIALS  \\\n",
       "DQN_Malmo_Seq-MinecraftBasicNew-v0-20181015-090...  DQN_Malmo_Seq          30   \n",
       "DQN_Malmo_Seq-MinecraftBasicNew-v0-20181015-114...  DQN_Malmo_Seq          30   \n",
       "\n",
       "                                                    DEBUG  MAX_GAMES_PLAYED  \\\n",
       "DQN_Malmo_Seq-MinecraftBasicNew-v0-20181015-090...   True               150   \n",
       "DQN_Malmo_Seq-MinecraftBasicNew-v0-20181015-114...   True               150   \n",
       "\n",
       "                                                    MEAN_REWARD_BOUND  \\\n",
       "DQN_Malmo_Seq-MinecraftBasicNew-v0-20181015-090...                950   \n",
       "DQN_Malmo_Seq-MinecraftBasicNew-v0-20181015-114...                950   \n",
       "\n",
       "                                                    NUMBER_EPISODES_MEAN  \\\n",
       "DQN_Malmo_Seq-MinecraftBasicNew-v0-20181015-090...                    10   \n",
       "DQN_Malmo_Seq-MinecraftBasicNew-v0-20181015-114...                    10   \n",
       "\n",
       "                                                    NUM_AGENTS  SHARING  \\\n",
       "DQN_Malmo_Seq-MinecraftBasicNew-v0-20181015-090...           2     True   \n",
       "DQN_Malmo_Seq-MinecraftBasicNew-v0-20181015-114...           2    False   \n",
       "\n",
       "                                                     ...    GRAD_L2_CLIP  \\\n",
       "DQN_Malmo_Seq-MinecraftBasicNew-v0-20181015-090...   ...               1   \n",
       "DQN_Malmo_Seq-MinecraftBasicNew-v0-20181015-114...   ...               1   \n",
       "\n",
       "                                                    SYNC_TARGET_FRAMES  SOFT  \\\n",
       "DQN_Malmo_Seq-MinecraftBasicNew-v0-20181015-090...                1000  True   \n",
       "DQN_Malmo_Seq-MinecraftBasicNew-v0-20181015-114...                1000  True   \n",
       "\n",
       "                                                    SOFT_UPDATE_TAU  \\\n",
       "DQN_Malmo_Seq-MinecraftBasicNew-v0-20181015-090...            0.005   \n",
       "DQN_Malmo_Seq-MinecraftBasicNew-v0-20181015-114...            0.005   \n",
       "\n",
       "                                                    EPSILON_DECAY_LAST_FRAME  \\\n",
       "DQN_Malmo_Seq-MinecraftBasicNew-v0-20181015-090...                      1000   \n",
       "DQN_Malmo_Seq-MinecraftBasicNew-v0-20181015-114...                      1000   \n",
       "\n",
       "                                                    EPSILON_START  \\\n",
       "DQN_Malmo_Seq-MinecraftBasicNew-v0-20181015-090...            1.0   \n",
       "DQN_Malmo_Seq-MinecraftBasicNew-v0-20181015-114...            1.0   \n",
       "\n",
       "                                                    EPSILON_FINAL  \\\n",
       "DQN_Malmo_Seq-MinecraftBasicNew-v0-20181015-090...           0.02   \n",
       "DQN_Malmo_Seq-MinecraftBasicNew-v0-20181015-114...           0.02   \n",
       "\n",
       "                                                    INDEPENDENT_EVALUATION  \\\n",
       "DQN_Malmo_Seq-MinecraftBasicNew-v0-20181015-090...                   False   \n",
       "DQN_Malmo_Seq-MinecraftBasicNew-v0-20181015-114...                   False   \n",
       "\n",
       "                                                    PRINT_INTERVAL  DEVICE  \n",
       "DQN_Malmo_Seq-MinecraftBasicNew-v0-20181015-090...               1    cuda  \n",
       "DQN_Malmo_Seq-MinecraftBasicNew-v0-20181015-114...               1    cuda  \n",
       "\n",
       "[2 rows x 28 columns]"
      ]
     },
     "execution_count": 14,
     "metadata": {},
     "output_type": "execute_result"
    }
   ],
   "source": [
    "experiments_df.head()"
   ]
  },
  {
   "cell_type": "code",
   "execution_count": 15,
   "metadata": {},
   "outputs": [],
   "source": [
    "experiments_df_rev = pd.merge(experiments_df, df_new, left_index=True, right_index=True)"
   ]
  },
  {
   "cell_type": "code",
   "execution_count": 16,
   "metadata": {},
   "outputs": [
    {
     "data": {
      "text/html": [
       "<div>\n",
       "<style scoped>\n",
       "    .dataframe tbody tr th:only-of-type {\n",
       "        vertical-align: middle;\n",
       "    }\n",
       "\n",
       "    .dataframe tbody tr th {\n",
       "        vertical-align: top;\n",
       "    }\n",
       "\n",
       "    .dataframe thead th {\n",
       "        text-align: right;\n",
       "    }\n",
       "</style>\n",
       "<table border=\"1\" class=\"dataframe\">\n",
       "  <thead>\n",
       "    <tr style=\"text-align: right;\">\n",
       "      <th></th>\n",
       "      <th>SEARCH_METHOD</th>\n",
       "      <th>DEFAULT_ENV_NAME</th>\n",
       "      <th>METHOD</th>\n",
       "      <th>NUM_TRIALS</th>\n",
       "      <th>DEBUG</th>\n",
       "      <th>MAX_GAMES_PLAYED</th>\n",
       "      <th>MEAN_REWARD_BOUND</th>\n",
       "      <th>NUMBER_EPISODES_MEAN</th>\n",
       "      <th>NUM_AGENTS</th>\n",
       "      <th>SHARING</th>\n",
       "      <th>...</th>\n",
       "      <th>SYNC_TARGET_FRAMES</th>\n",
       "      <th>SOFT</th>\n",
       "      <th>SOFT_UPDATE_TAU</th>\n",
       "      <th>EPSILON_DECAY_LAST_FRAME</th>\n",
       "      <th>EPSILON_START</th>\n",
       "      <th>EPSILON_FINAL</th>\n",
       "      <th>INDEPENDENT_EVALUATION</th>\n",
       "      <th>PRINT_INTERVAL</th>\n",
       "      <th>DEVICE</th>\n",
       "      <th>episodes</th>\n",
       "    </tr>\n",
       "  </thead>\n",
       "  <tbody>\n",
       "    <tr>\n",
       "      <th>DQN_Malmo_Seq-MinecraftBasicNew-v0-20181015-090503-43</th>\n",
       "      <td>hypothesis</td>\n",
       "      <td>MinecraftBasicNew-v0</td>\n",
       "      <td>DQN_Malmo_Seq</td>\n",
       "      <td>30</td>\n",
       "      <td>True</td>\n",
       "      <td>150</td>\n",
       "      <td>950</td>\n",
       "      <td>10</td>\n",
       "      <td>2</td>\n",
       "      <td>True</td>\n",
       "      <td>...</td>\n",
       "      <td>1000</td>\n",
       "      <td>True</td>\n",
       "      <td>0.005</td>\n",
       "      <td>1000</td>\n",
       "      <td>1.0</td>\n",
       "      <td>0.02</td>\n",
       "      <td>False</td>\n",
       "      <td>1</td>\n",
       "      <td>cuda</td>\n",
       "      <td>50.783333</td>\n",
       "    </tr>\n",
       "    <tr>\n",
       "      <th>DQN_Malmo_Seq-MinecraftBasicNew-v0-20181015-114635-04</th>\n",
       "      <td>hypothesis</td>\n",
       "      <td>MinecraftBasicNew-v0</td>\n",
       "      <td>DQN_Malmo_Seq</td>\n",
       "      <td>30</td>\n",
       "      <td>True</td>\n",
       "      <td>150</td>\n",
       "      <td>950</td>\n",
       "      <td>10</td>\n",
       "      <td>2</td>\n",
       "      <td>False</td>\n",
       "      <td>...</td>\n",
       "      <td>1000</td>\n",
       "      <td>True</td>\n",
       "      <td>0.005</td>\n",
       "      <td>1000</td>\n",
       "      <td>1.0</td>\n",
       "      <td>0.02</td>\n",
       "      <td>False</td>\n",
       "      <td>1</td>\n",
       "      <td>cuda</td>\n",
       "      <td>62.400000</td>\n",
       "    </tr>\n",
       "  </tbody>\n",
       "</table>\n",
       "<p>2 rows × 29 columns</p>\n",
       "</div>"
      ],
      "text/plain": [
       "                                                   SEARCH_METHOD  \\\n",
       "DQN_Malmo_Seq-MinecraftBasicNew-v0-20181015-090...    hypothesis   \n",
       "DQN_Malmo_Seq-MinecraftBasicNew-v0-20181015-114...    hypothesis   \n",
       "\n",
       "                                                        DEFAULT_ENV_NAME  \\\n",
       "DQN_Malmo_Seq-MinecraftBasicNew-v0-20181015-090...  MinecraftBasicNew-v0   \n",
       "DQN_Malmo_Seq-MinecraftBasicNew-v0-20181015-114...  MinecraftBasicNew-v0   \n",
       "\n",
       "                                                           METHOD  NUM_TRIALS  \\\n",
       "DQN_Malmo_Seq-MinecraftBasicNew-v0-20181015-090...  DQN_Malmo_Seq          30   \n",
       "DQN_Malmo_Seq-MinecraftBasicNew-v0-20181015-114...  DQN_Malmo_Seq          30   \n",
       "\n",
       "                                                    DEBUG  MAX_GAMES_PLAYED  \\\n",
       "DQN_Malmo_Seq-MinecraftBasicNew-v0-20181015-090...   True               150   \n",
       "DQN_Malmo_Seq-MinecraftBasicNew-v0-20181015-114...   True               150   \n",
       "\n",
       "                                                    MEAN_REWARD_BOUND  \\\n",
       "DQN_Malmo_Seq-MinecraftBasicNew-v0-20181015-090...                950   \n",
       "DQN_Malmo_Seq-MinecraftBasicNew-v0-20181015-114...                950   \n",
       "\n",
       "                                                    NUMBER_EPISODES_MEAN  \\\n",
       "DQN_Malmo_Seq-MinecraftBasicNew-v0-20181015-090...                    10   \n",
       "DQN_Malmo_Seq-MinecraftBasicNew-v0-20181015-114...                    10   \n",
       "\n",
       "                                                    NUM_AGENTS  SHARING  \\\n",
       "DQN_Malmo_Seq-MinecraftBasicNew-v0-20181015-090...           2     True   \n",
       "DQN_Malmo_Seq-MinecraftBasicNew-v0-20181015-114...           2    False   \n",
       "\n",
       "                                                      ...      \\\n",
       "DQN_Malmo_Seq-MinecraftBasicNew-v0-20181015-090...    ...       \n",
       "DQN_Malmo_Seq-MinecraftBasicNew-v0-20181015-114...    ...       \n",
       "\n",
       "                                                    SYNC_TARGET_FRAMES  SOFT  \\\n",
       "DQN_Malmo_Seq-MinecraftBasicNew-v0-20181015-090...                1000  True   \n",
       "DQN_Malmo_Seq-MinecraftBasicNew-v0-20181015-114...                1000  True   \n",
       "\n",
       "                                                    SOFT_UPDATE_TAU  \\\n",
       "DQN_Malmo_Seq-MinecraftBasicNew-v0-20181015-090...            0.005   \n",
       "DQN_Malmo_Seq-MinecraftBasicNew-v0-20181015-114...            0.005   \n",
       "\n",
       "                                                    EPSILON_DECAY_LAST_FRAME  \\\n",
       "DQN_Malmo_Seq-MinecraftBasicNew-v0-20181015-090...                      1000   \n",
       "DQN_Malmo_Seq-MinecraftBasicNew-v0-20181015-114...                      1000   \n",
       "\n",
       "                                                    EPSILON_START  \\\n",
       "DQN_Malmo_Seq-MinecraftBasicNew-v0-20181015-090...            1.0   \n",
       "DQN_Malmo_Seq-MinecraftBasicNew-v0-20181015-114...            1.0   \n",
       "\n",
       "                                                    EPSILON_FINAL  \\\n",
       "DQN_Malmo_Seq-MinecraftBasicNew-v0-20181015-090...           0.02   \n",
       "DQN_Malmo_Seq-MinecraftBasicNew-v0-20181015-114...           0.02   \n",
       "\n",
       "                                                    INDEPENDENT_EVALUATION  \\\n",
       "DQN_Malmo_Seq-MinecraftBasicNew-v0-20181015-090...                   False   \n",
       "DQN_Malmo_Seq-MinecraftBasicNew-v0-20181015-114...                   False   \n",
       "\n",
       "                                                    PRINT_INTERVAL  DEVICE  \\\n",
       "DQN_Malmo_Seq-MinecraftBasicNew-v0-20181015-090...               1    cuda   \n",
       "DQN_Malmo_Seq-MinecraftBasicNew-v0-20181015-114...               1    cuda   \n",
       "\n",
       "                                                     episodes  \n",
       "DQN_Malmo_Seq-MinecraftBasicNew-v0-20181015-090...  50.783333  \n",
       "DQN_Malmo_Seq-MinecraftBasicNew-v0-20181015-114...  62.400000  \n",
       "\n",
       "[2 rows x 29 columns]"
      ]
     },
     "execution_count": 16,
     "metadata": {},
     "output_type": "execute_result"
    }
   ],
   "source": [
    "experiments_df_rev.sort_values(by='episodes', ascending=True)"
   ]
  },
  {
   "cell_type": "code",
   "execution_count": 17,
   "metadata": {},
   "outputs": [
    {
     "data": {
      "text/html": [
       "<div>\n",
       "<style scoped>\n",
       "    .dataframe tbody tr th:only-of-type {\n",
       "        vertical-align: middle;\n",
       "    }\n",
       "\n",
       "    .dataframe tbody tr th {\n",
       "        vertical-align: top;\n",
       "    }\n",
       "\n",
       "    .dataframe thead th {\n",
       "        text-align: right;\n",
       "    }\n",
       "</style>\n",
       "<table border=\"1\" class=\"dataframe\">\n",
       "  <thead>\n",
       "    <tr style=\"text-align: right;\">\n",
       "      <th></th>\n",
       "      <th>GAMMA</th>\n",
       "      <th>BATCH_SIZE</th>\n",
       "      <th>REPLAY_SIZE</th>\n",
       "      <th>LEARNING_RATE</th>\n",
       "      <th>SOFT_UPDATE_TAU</th>\n",
       "      <th>EPSILON_DECAY_LAST_FRAME</th>\n",
       "      <th>SHARING</th>\n",
       "      <th>episodes</th>\n",
       "    </tr>\n",
       "  </thead>\n",
       "  <tbody>\n",
       "    <tr>\n",
       "      <th>DQN_Malmo_Seq-MinecraftBasicNew-v0-20181015-090503-43</th>\n",
       "      <td>0.97</td>\n",
       "      <td>128</td>\n",
       "      <td>10000</td>\n",
       "      <td>0.0001</td>\n",
       "      <td>0.005</td>\n",
       "      <td>1000</td>\n",
       "      <td>True</td>\n",
       "      <td>50.783333</td>\n",
       "    </tr>\n",
       "    <tr>\n",
       "      <th>DQN_Malmo_Seq-MinecraftBasicNew-v0-20181015-114635-04</th>\n",
       "      <td>0.97</td>\n",
       "      <td>128</td>\n",
       "      <td>10000</td>\n",
       "      <td>0.0001</td>\n",
       "      <td>0.005</td>\n",
       "      <td>1000</td>\n",
       "      <td>False</td>\n",
       "      <td>62.400000</td>\n",
       "    </tr>\n",
       "  </tbody>\n",
       "</table>\n",
       "</div>"
      ],
      "text/plain": [
       "                                                    GAMMA  BATCH_SIZE  \\\n",
       "DQN_Malmo_Seq-MinecraftBasicNew-v0-20181015-090...   0.97         128   \n",
       "DQN_Malmo_Seq-MinecraftBasicNew-v0-20181015-114...   0.97         128   \n",
       "\n",
       "                                                    REPLAY_SIZE  \\\n",
       "DQN_Malmo_Seq-MinecraftBasicNew-v0-20181015-090...        10000   \n",
       "DQN_Malmo_Seq-MinecraftBasicNew-v0-20181015-114...        10000   \n",
       "\n",
       "                                                    LEARNING_RATE  \\\n",
       "DQN_Malmo_Seq-MinecraftBasicNew-v0-20181015-090...         0.0001   \n",
       "DQN_Malmo_Seq-MinecraftBasicNew-v0-20181015-114...         0.0001   \n",
       "\n",
       "                                                    SOFT_UPDATE_TAU  \\\n",
       "DQN_Malmo_Seq-MinecraftBasicNew-v0-20181015-090...            0.005   \n",
       "DQN_Malmo_Seq-MinecraftBasicNew-v0-20181015-114...            0.005   \n",
       "\n",
       "                                                    EPSILON_DECAY_LAST_FRAME  \\\n",
       "DQN_Malmo_Seq-MinecraftBasicNew-v0-20181015-090...                      1000   \n",
       "DQN_Malmo_Seq-MinecraftBasicNew-v0-20181015-114...                      1000   \n",
       "\n",
       "                                                    SHARING   episodes  \n",
       "DQN_Malmo_Seq-MinecraftBasicNew-v0-20181015-090...     True  50.783333  \n",
       "DQN_Malmo_Seq-MinecraftBasicNew-v0-20181015-114...    False  62.400000  "
      ]
     },
     "execution_count": 17,
     "metadata": {},
     "output_type": "execute_result"
    }
   ],
   "source": [
    "experiments_df_rev[['GAMMA', 'BATCH_SIZE', 'REPLAY_SIZE', 'LEARNING_RATE', 'SOFT_UPDATE_TAU', 'EPSILON_DECAY_LAST_FRAME', 'SHARING', 'episodes']]"
   ]
  },
  {
   "cell_type": "code",
   "execution_count": 18,
   "metadata": {},
   "outputs": [
    {
     "data": {
      "text/html": [
       "<div>\n",
       "<style scoped>\n",
       "    .dataframe tbody tr th:only-of-type {\n",
       "        vertical-align: middle;\n",
       "    }\n",
       "\n",
       "    .dataframe tbody tr th {\n",
       "        vertical-align: top;\n",
       "    }\n",
       "\n",
       "    .dataframe thead th {\n",
       "        text-align: right;\n",
       "    }\n",
       "</style>\n",
       "<table border=\"1\" class=\"dataframe\">\n",
       "  <thead>\n",
       "    <tr style=\"text-align: right;\">\n",
       "      <th></th>\n",
       "      <th>mean of steps</th>\n",
       "    </tr>\n",
       "    <tr>\n",
       "      <th>exp</th>\n",
       "      <th></th>\n",
       "    </tr>\n",
       "  </thead>\n",
       "  <tbody>\n",
       "    <tr>\n",
       "      <th>DQN_Malmo_Seq-MinecraftBasicNew-v0-20181015-090503-43</th>\n",
       "      <td>59.000000</td>\n",
       "    </tr>\n",
       "    <tr>\n",
       "      <th>DQN_Malmo_Seq-MinecraftBasicNew-v0-20181015-114635-04</th>\n",
       "      <td>71.183333</td>\n",
       "    </tr>\n",
       "  </tbody>\n",
       "</table>\n",
       "</div>"
      ],
      "text/plain": [
       "                                                    mean of steps\n",
       "exp                                                              \n",
       "DQN_Malmo_Seq-MinecraftBasicNew-v0-20181015-090...      59.000000\n",
       "DQN_Malmo_Seq-MinecraftBasicNew-v0-20181015-114...      71.183333"
      ]
     },
     "execution_count": 18,
     "metadata": {},
     "output_type": "execute_result"
    }
   ],
   "source": [
    "# they don't all fit the same timeframe\n",
    "steps_exp = defaultdict(list)\n",
    "for key in experiments_data.keys():\n",
    "    exp_name = key[:len(experiments_df.index[0])]\n",
    "    num_episodes = experiments_data[key][['steps']].dropna()\n",
    "    steps_exp[exp_name].append(num_episodes.iloc[-1])\n",
    "    \n",
    "experiment_results = list(zip(steps_exp.keys(), map(lambda x:np.mean(x), steps_exp.values())))\n",
    "\n",
    "df_new = pd.DataFrame(experiment_results, columns=['exp', 'mean of steps'])\n",
    "df_new = df_new.set_index('exp')\n",
    "df_new\n",
    "\n"
   ]
  },
  {
   "cell_type": "code",
   "execution_count": 19,
   "metadata": {},
   "outputs": [
    {
     "data": {
      "text/html": [
       "<div>\n",
       "<style scoped>\n",
       "    .dataframe tbody tr th:only-of-type {\n",
       "        vertical-align: middle;\n",
       "    }\n",
       "\n",
       "    .dataframe tbody tr th {\n",
       "        vertical-align: top;\n",
       "    }\n",
       "\n",
       "    .dataframe thead th {\n",
       "        text-align: right;\n",
       "    }\n",
       "</style>\n",
       "<table border=\"1\" class=\"dataframe\">\n",
       "  <thead>\n",
       "    <tr style=\"text-align: right;\">\n",
       "      <th></th>\n",
       "      <th>mean of rewards</th>\n",
       "    </tr>\n",
       "    <tr>\n",
       "      <th>exp</th>\n",
       "      <th></th>\n",
       "    </tr>\n",
       "  </thead>\n",
       "  <tbody>\n",
       "    <tr>\n",
       "      <th>DQN_Malmo_Seq-MinecraftBasicNew-v0-20181015-090503-43</th>\n",
       "      <td>0.05840</td>\n",
       "    </tr>\n",
       "    <tr>\n",
       "      <th>DQN_Malmo_Seq-MinecraftBasicNew-v0-20181015-114635-04</th>\n",
       "      <td>0.06285</td>\n",
       "    </tr>\n",
       "  </tbody>\n",
       "</table>\n",
       "</div>"
      ],
      "text/plain": [
       "                                                    mean of rewards\n",
       "exp                                                                \n",
       "DQN_Malmo_Seq-MinecraftBasicNew-v0-20181015-090...          0.05840\n",
       "DQN_Malmo_Seq-MinecraftBasicNew-v0-20181015-114...          0.06285"
      ]
     },
     "execution_count": 19,
     "metadata": {},
     "output_type": "execute_result"
    }
   ],
   "source": [
    "# they don't all fit the same timeframe\n",
    "aggregate = defaultdict(list)\n",
    "for key in experiments_data.keys():\n",
    "    exp_name = key[:len(experiments_df.index[0])]\n",
    "    num_episodes = experiments_data[key][['reward']].dropna()\n",
    "    aggregate[exp_name].append(num_episodes.iloc[-1])\n",
    "\n",
    "    experiment_results = list(zip(steps_exp.keys(), map(lambda x:np.mean(x), aggregate.values())))\n",
    "\n",
    "df_new = pd.DataFrame(experiment_results, columns=['exp', 'mean of rewards'])\n",
    "df_new = df_new.set_index('exp')\n",
    "df_new\n"
   ]
  },
  {
   "cell_type": "markdown",
   "metadata": {},
   "source": [
    "Mean of steps is a a lot lower, but there is no significant difference in mean of rewards. It would be interesting to see the distribution of steps, rewards and number of episodes as well.\n",
    "\n",
    "There is a significant difference however in number of episodes (50 against 62), which is the problem that matter. What happened is that the experience sharing compensated for the lack of exploration. However, I still don't see significant improvement over the configuration of epsilon_decay_last_frame=3000, with a total of 50.78 episodes against 51.81 or 52.47. Hence, there is no real gain that could not be achieved with a modification of the original hyperparameters (namely the exploration rate). But it could be useful in robot scenarios where exploration is costly, since it significantly reduces the number of steps.\n",
    "\n",
    "Those results are good enough to include in the publication. But ideally I want to test more scenarios, like the prioritized version as well. The paper can be done as a compilation of small improvements. \n"
   ]
  },
  {
   "cell_type": "code",
   "execution_count": 24,
   "metadata": {},
   "outputs": [],
   "source": [
    "# they don't all fit the same timeframe\n",
    "count_episodes1 = defaultdict(list)\n",
    "for key in experiments_data.keys():\n",
    "    exp_name = key[:len(experiments_df.index[0])]\n",
    "    num_episodes = len(experiments_data[key][['reward']].dropna())\n",
    "    count_episodes1[exp_name].append(num_episodes)\n",
    "\n"
   ]
  },
  {
   "cell_type": "code",
   "execution_count": 32,
   "metadata": {},
   "outputs": [],
   "source": [
    "count_episodes2 = defaultdict(list)\n",
    "for key in experiments_data.keys():\n",
    "    exp_name = key[:len(experiments_df.index[0])]\n",
    "    num_episodes = len(experiments_data[key][['steps']].dropna())\n",
    "    count_episodes2[exp_name].append(num_episodes)\n",
    "\n"
   ]
  },
  {
   "cell_type": "code",
   "execution_count": 48,
   "metadata": {},
   "outputs": [
    {
     "data": {
      "text/plain": [
       "defaultdict(list,\n",
       "            {'DQN_Malmo_Seq-MinecraftBasicNew-v0-20181015-090503-43': [70,\n",
       "              42,\n",
       "              80,\n",
       "              27,\n",
       "              45,\n",
       "              76,\n",
       "              88,\n",
       "              38,\n",
       "              75,\n",
       "              1,\n",
       "              1,\n",
       "              28,\n",
       "              26,\n",
       "              55,\n",
       "              36,\n",
       "              68,\n",
       "              49,\n",
       "              58,\n",
       "              40,\n",
       "              68,\n",
       "              33,\n",
       "              65,\n",
       "              44,\n",
       "              35,\n",
       "              34,\n",
       "              52,\n",
       "              53,\n",
       "              73,\n",
       "              150,\n",
       "              54,\n",
       "              40,\n",
       "              33,\n",
       "              47,\n",
       "              43,\n",
       "              64,\n",
       "              42,\n",
       "              28,\n",
       "              67,\n",
       "              1,\n",
       "              30,\n",
       "              24,\n",
       "              26,\n",
       "              19,\n",
       "              1,\n",
       "              52,\n",
       "              51,\n",
       "              39,\n",
       "              31,\n",
       "              63,\n",
       "              27,\n",
       "              66,\n",
       "              88,\n",
       "              97,\n",
       "              1,\n",
       "              146,\n",
       "              1,\n",
       "              58,\n",
       "              150,\n",
       "              72,\n",
       "              76],\n",
       "             'DQN_Malmo_Seq-MinecraftBasicNew-v0-20181015-114635-04': [46,\n",
       "              47,\n",
       "              58,\n",
       "              55,\n",
       "              79,\n",
       "              68,\n",
       "              35,\n",
       "              57,\n",
       "              66,\n",
       "              102,\n",
       "              67,\n",
       "              65,\n",
       "              58,\n",
       "              42,\n",
       "              34,\n",
       "              52,\n",
       "              29,\n",
       "              91,\n",
       "              127,\n",
       "              43,\n",
       "              81,\n",
       "              52,\n",
       "              126,\n",
       "              57,\n",
       "              42,\n",
       "              59,\n",
       "              57,\n",
       "              65,\n",
       "              92,\n",
       "              124,\n",
       "              64,\n",
       "              39,\n",
       "              60,\n",
       "              35,\n",
       "              74,\n",
       "              38,\n",
       "              53,\n",
       "              42,\n",
       "              83,\n",
       "              40,\n",
       "              107,\n",
       "              28,\n",
       "              50,\n",
       "              46,\n",
       "              42,\n",
       "              41,\n",
       "              46,\n",
       "              51,\n",
       "              121,\n",
       "              56,\n",
       "              150,\n",
       "              55,\n",
       "              44,\n",
       "              82,\n",
       "              51,\n",
       "              30,\n",
       "              49,\n",
       "              1,\n",
       "              150,\n",
       "              40]})"
      ]
     },
     "execution_count": 48,
     "metadata": {},
     "output_type": "execute_result"
    }
   ],
   "source": [
    "count_episodes1"
   ]
  },
  {
   "cell_type": "code",
   "execution_count": 41,
   "metadata": {},
   "outputs": [
    {
     "name": "stdout",
     "output_type": "stream",
     "text": [
      "DQN_Malmo_Seq-MinecraftBasicNew-v0-20181015-090503-43 1\n",
      "DQN_Malmo_Seq-MinecraftBasicNew-v0-20181015-090503-43 1\n",
      "DQN_Malmo_Seq-MinecraftBasicNew-v0-20181015-090503-43 1\n",
      "DQN_Malmo_Seq-MinecraftBasicNew-v0-20181015-090503-43 1\n",
      "DQN_Malmo_Seq-MinecraftBasicNew-v0-20181015-090503-43 1\n",
      "DQN_Malmo_Seq-MinecraftBasicNew-v0-20181015-090503-43 1\n",
      "DQN_Malmo_Seq-MinecraftBasicNew-v0-20181015-114635-04 1\n"
     ]
    }
   ],
   "source": [
    "for k,v in count_episodes1.items():\n",
    "    for i in v:\n",
    "        if i < 10:\n",
    "            print(k, i)"
   ]
  },
  {
   "cell_type": "markdown",
   "metadata": {},
   "source": [
    "Results are not to be celebrated. They can be a simple issue with the way I'm reporting. There shouldn't be any trial with 1 episode, however, there are 7 (and 6 of them in the first trial). Open up local log and compare result to see if they are consistent."
   ]
  },
  {
   "cell_type": "code",
   "execution_count": 46,
   "metadata": {},
   "outputs": [],
   "source": [
    "new_dict = {}\n",
    "for k,v in count_episodes1.items():\n",
    "    new_dict[k] = []\n",
    "    for i in v:\n",
    "        if i > 10:\n",
    "            new_dict[k].append(i)"
   ]
  },
  {
   "cell_type": "code",
   "execution_count": 47,
   "metadata": {},
   "outputs": [
    {
     "name": "stdout",
     "output_type": "stream",
     "text": [
      "56.31481481481482\n",
      "63.440677966101696\n"
     ]
    }
   ],
   "source": [
    "for k,v in new_dict.items():\n",
    "    print(np.mean(v))"
   ]
  },
  {
   "cell_type": "markdown",
   "metadata": {},
   "source": [
    "Results are still better removing outliers, but there are far too many outliers. What if their results are significantly higher?"
   ]
  },
  {
   "cell_type": "code",
   "execution_count": null,
   "metadata": {},
   "outputs": [],
   "source": []
  }
 ],
 "metadata": {
  "kernelspec": {
   "display_name": "Python [default]",
   "language": "python",
   "name": "python3"
  },
  "language_info": {
   "codemirror_mode": {
    "name": "ipython",
    "version": 3
   },
   "file_extension": ".py",
   "mimetype": "text/x-python",
   "name": "python",
   "nbconvert_exporter": "python",
   "pygments_lexer": "ipython3",
   "version": "3.6.6"
  },
  "varInspector": {
   "cols": {
    "lenName": 16,
    "lenType": 16,
    "lenVar": 40
   },
   "kernels_config": {
    "python": {
     "delete_cmd_postfix": "",
     "delete_cmd_prefix": "del ",
     "library": "var_list.py",
     "varRefreshCmd": "print(var_dic_list())"
    },
    "r": {
     "delete_cmd_postfix": ") ",
     "delete_cmd_prefix": "rm(",
     "library": "var_list.r",
     "varRefreshCmd": "cat(var_dic_list()) "
    }
   },
   "types_to_exclude": [
    "module",
    "function",
    "builtin_function_or_method",
    "instance",
    "_Feature"
   ],
   "window_display": false
  }
 },
 "nbformat": 4,
 "nbformat_minor": 2
}
