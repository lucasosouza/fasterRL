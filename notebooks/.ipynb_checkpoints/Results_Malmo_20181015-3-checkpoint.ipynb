{
 "cells": [
  {
   "cell_type": "markdown",
   "metadata": {},
   "source": [
    "# Experiment Report"
   ]
  },
  {
   "cell_type": "code",
   "execution_count": 1,
   "metadata": {},
   "outputs": [],
   "source": [
    "import os\n",
    "import numpy as np\n",
    "import pandas as pd\n",
    "import matplotlib.pyplot as plt\n",
    "import seaborn as sns\n",
    "import json\n",
    "%matplotlib inline\n",
    "\n",
    "# statistics\n",
    "from scipy import stats\n",
    "from itertools import product, combinations"
   ]
  },
  {
   "cell_type": "code",
   "execution_count": 2,
   "metadata": {},
   "outputs": [],
   "source": [
    "root = \"/mnt/storage/log-experiments/\"\n",
    "experiments = [f for f in os.listdir(root+\"logs/\") if f[-4:] == 'json'][-2:]\n",
    "results = {}\n",
    "for exp in experiments:\n",
    "    exp_name = exp[:-5]\n",
    "    try:\n",
    "        with open(root+\"results/\" + exp, 'r') as f:\n",
    "            results[exp_name] = json.load(f)\n",
    "    except:\n",
    "        pass\n"
   ]
  },
  {
   "cell_type": "code",
   "execution_count": 3,
   "metadata": {},
   "outputs": [
    {
     "data": {
      "text/plain": [
       "['DQN_Malmo_Seq-MinecraftBasicNew-v0-20181015-162056-87.json',\n",
       " 'DQN_Malmo_Seq-MinecraftBasicNew-v0-20181015-233622-37.json']"
      ]
     },
     "execution_count": 3,
     "metadata": {},
     "output_type": "execute_result"
    }
   ],
   "source": [
    "experiments"
   ]
  },
  {
   "cell_type": "code",
   "execution_count": 5,
   "metadata": {},
   "outputs": [],
   "source": [
    "# results"
   ]
  },
  {
   "cell_type": "code",
   "execution_count": 6,
   "metadata": {},
   "outputs": [],
   "source": [
    "# list(results['DQN_Malmo_Seq-MinecraftBasicNew-v0-20181015-090503-43'].items())[11][1]['rewards']"
   ]
  },
  {
   "cell_type": "code",
   "execution_count": 7,
   "metadata": {},
   "outputs": [
    {
     "data": {
      "text/plain": [
       "'DQN_Malmo_Seq-MinecraftBasicNew-v0-20181015-162056-87'"
      ]
     },
     "execution_count": 7,
     "metadata": {},
     "output_type": "execute_result"
    }
   ],
   "source": [
    "# results\n",
    "experiments[0][:-5]"
   ]
  },
  {
   "cell_type": "code",
   "execution_count": 22,
   "metadata": {},
   "outputs": [],
   "source": [
    "episode_count = {}\n",
    "for exp in experiments:\n",
    "    exp_name = exp[:-5]\n",
    "    episode_count[exp_name] = []\n",
    "    for agent_trial, data in results[exp_name].items():\n",
    "        if len(data['rewards']) >= 0: # manually remove outliers\n",
    "            episode_count[exp_name].append(len(data['rewards']))"
   ]
  },
  {
   "cell_type": "code",
   "execution_count": 23,
   "metadata": {},
   "outputs": [
    {
     "data": {
      "text/plain": [
       "{'DQN_Malmo_Seq-MinecraftBasicNew-v0-20181015-162056-87': [46,\n",
       "  30,\n",
       "  105,\n",
       "  53,\n",
       "  47,\n",
       "  31,\n",
       "  86,\n",
       "  45,\n",
       "  57,\n",
       "  33,\n",
       "  54,\n",
       "  48,\n",
       "  67,\n",
       "  76,\n",
       "  33,\n",
       "  52,\n",
       "  66,\n",
       "  70,\n",
       "  50,\n",
       "  26,\n",
       "  50,\n",
       "  73,\n",
       "  86,\n",
       "  103,\n",
       "  41,\n",
       "  30,\n",
       "  100,\n",
       "  53,\n",
       "  49,\n",
       "  42,\n",
       "  39,\n",
       "  30,\n",
       "  88,\n",
       "  74,\n",
       "  45,\n",
       "  70,\n",
       "  58,\n",
       "  56,\n",
       "  47,\n",
       "  37,\n",
       "  57,\n",
       "  57,\n",
       "  41,\n",
       "  44,\n",
       "  44,\n",
       "  35,\n",
       "  37,\n",
       "  40,\n",
       "  64,\n",
       "  56,\n",
       "  80,\n",
       "  40,\n",
       "  64,\n",
       "  44,\n",
       "  59,\n",
       "  54,\n",
       "  61,\n",
       "  73,\n",
       "  44,\n",
       "  47,\n",
       "  60,\n",
       "  57,\n",
       "  96,\n",
       "  70,\n",
       "  24,\n",
       "  51,\n",
       "  31,\n",
       "  38,\n",
       "  124,\n",
       "  97,\n",
       "  36,\n",
       "  34,\n",
       "  34,\n",
       "  41,\n",
       "  64,\n",
       "  58,\n",
       "  55,\n",
       "  51,\n",
       "  48,\n",
       "  65,\n",
       "  58,\n",
       "  51,\n",
       "  79,\n",
       "  53,\n",
       "  48,\n",
       "  53,\n",
       "  46,\n",
       "  32,\n",
       "  38,\n",
       "  32,\n",
       "  44,\n",
       "  55,\n",
       "  44,\n",
       "  30,\n",
       "  32,\n",
       "  47,\n",
       "  44,\n",
       "  51,\n",
       "  50,\n",
       "  56,\n",
       "  54,\n",
       "  39,\n",
       "  42,\n",
       "  49,\n",
       "  30,\n",
       "  57,\n",
       "  51,\n",
       "  57,\n",
       "  67,\n",
       "  88,\n",
       "  64,\n",
       "  45,\n",
       "  35,\n",
       "  58,\n",
       "  54,\n",
       "  42,\n",
       "  68,\n",
       "  39,\n",
       "  47,\n",
       "  66,\n",
       "  36,\n",
       "  58,\n",
       "  55,\n",
       "  126,\n",
       "  76,\n",
       "  65,\n",
       "  31,\n",
       "  42,\n",
       "  118,\n",
       "  130,\n",
       "  57,\n",
       "  55,\n",
       "  48,\n",
       "  39,\n",
       "  80,\n",
       "  75,\n",
       "  64,\n",
       "  31,\n",
       "  52,\n",
       "  97,\n",
       "  41,\n",
       "  28,\n",
       "  88,\n",
       "  75,\n",
       "  100,\n",
       "  64,\n",
       "  64,\n",
       "  84,\n",
       "  74,\n",
       "  24],\n",
       " 'DQN_Malmo_Seq-MinecraftBasicNew-v0-20181015-233622-37': [150,\n",
       "  47,\n",
       "  73,\n",
       "  35,\n",
       "  62,\n",
       "  56,\n",
       "  35,\n",
       "  66,\n",
       "  45,\n",
       "  64,\n",
       "  57,\n",
       "  46,\n",
       "  53,\n",
       "  36,\n",
       "  47,\n",
       "  60,\n",
       "  35,\n",
       "  51,\n",
       "  81,\n",
       "  35,\n",
       "  108,\n",
       "  53,\n",
       "  62,\n",
       "  150,\n",
       "  42,\n",
       "  33,\n",
       "  46,\n",
       "  43,\n",
       "  66,\n",
       "  77,\n",
       "  93,\n",
       "  82,\n",
       "  78,\n",
       "  60,\n",
       "  88,\n",
       "  40,\n",
       "  35,\n",
       "  103,\n",
       "  54,\n",
       "  87,\n",
       "  47,\n",
       "  67,\n",
       "  84,\n",
       "  73,\n",
       "  65,\n",
       "  71,\n",
       "  40,\n",
       "  45,\n",
       "  57,\n",
       "  22,\n",
       "  69,\n",
       "  56,\n",
       "  40,\n",
       "  39,\n",
       "  41,\n",
       "  84,\n",
       "  89,\n",
       "  44,\n",
       "  50,\n",
       "  71,\n",
       "  59,\n",
       "  55,\n",
       "  54,\n",
       "  47,\n",
       "  82,\n",
       "  54,\n",
       "  34,\n",
       "  91,\n",
       "  82,\n",
       "  71,\n",
       "  109,\n",
       "  82,\n",
       "  130,\n",
       "  96,\n",
       "  75,\n",
       "  67,\n",
       "  41,\n",
       "  65,\n",
       "  44,\n",
       "  99,\n",
       "  53,\n",
       "  40,\n",
       "  130,\n",
       "  63,\n",
       "  42,\n",
       "  42,\n",
       "  61,\n",
       "  103,\n",
       "  104,\n",
       "  62,\n",
       "  102,\n",
       "  44,\n",
       "  150,\n",
       "  59,\n",
       "  73,\n",
       "  140,\n",
       "  97,\n",
       "  129,\n",
       "  94,\n",
       "  150,\n",
       "  150,\n",
       "  81,\n",
       "  64,\n",
       "  150,\n",
       "  79,\n",
       "  129,\n",
       "  91,\n",
       "  64,\n",
       "  71,\n",
       "  150,\n",
       "  115,\n",
       "  126,\n",
       "  150,\n",
       "  150,\n",
       "  150,\n",
       "  150,\n",
       "  72,\n",
       "  150,\n",
       "  89,\n",
       "  150,\n",
       "  150,\n",
       "  150,\n",
       "  150,\n",
       "  150,\n",
       "  150,\n",
       "  150,\n",
       "  87,\n",
       "  132,\n",
       "  150,\n",
       "  41,\n",
       "  124,\n",
       "  109,\n",
       "  150,\n",
       "  141,\n",
       "  63,\n",
       "  150,\n",
       "  150,\n",
       "  150,\n",
       "  150,\n",
       "  150,\n",
       "  150,\n",
       "  73,\n",
       "  99,\n",
       "  95,\n",
       "  113,\n",
       "  150,\n",
       "  115,\n",
       "  136,\n",
       "  76,\n",
       "  111]}"
      ]
     },
     "execution_count": 23,
     "metadata": {},
     "output_type": "execute_result"
    }
   ],
   "source": [
    "episode_count"
   ]
  },
  {
   "cell_type": "code",
   "execution_count": 17,
   "metadata": {},
   "outputs": [
    {
     "name": "stdout",
     "output_type": "stream",
     "text": [
      "means\n",
      "55.95333333333333\n",
      "86.39333333333333\n",
      "\n",
      "deviations\n",
      "21.079954669991324\n",
      "39.6512961816999\n"
     ]
    }
   ],
   "source": [
    "print(\"means\")\n",
    "for k,v in episode_count.items():\n",
    "    print(np.mean(v))\n",
    "\n",
    "print(\"\\ndeviations\")\n",
    "for k,v in episode_count.items():\n",
    "    print(np.std(v))\n",
    "\n",
    "    "
   ]
  },
  {
   "cell_type": "code",
   "execution_count": 26,
   "metadata": {},
   "outputs": [],
   "source": [
    "steps_count = {}\n",
    "for exp in experiments:\n",
    "    exp_name = exp[:-5]\n",
    "    steps_count[exp_name] = []\n",
    "    for agent_trial, data in results[exp_name].items():\n",
    "        for step in data['steps']:\n",
    "            steps_count[exp_name].append(data['steps'])"
   ]
  },
  {
   "cell_type": "code",
   "execution_count": null,
   "metadata": {},
   "outputs": [],
   "source": []
  },
  {
   "cell_type": "code",
   "execution_count": 13,
   "metadata": {},
   "outputs": [
    {
     "name": "stderr",
     "output_type": "stream",
     "text": [
      "/home/lucas/.conda/envs/marlo/lib/python3.6/site-packages/scipy/stats/stats.py:1713: FutureWarning: Using a non-tuple sequence for multidimensional indexing is deprecated; use `arr[tuple(seq)]` instead of `arr[seq]`. In the future this will be interpreted as an array index, `arr[np.array(seq)]`, which will result either in an error or a different result.\n",
      "  return np.add.reduce(sorted[indexer] * weights, axis=axis) / sumval\n"
     ]
    },
    {
     "data": {
      "image/png": "[encoded data removed]",
      "text/plain": [
       "<Figure size 936x360 with 1 Axes>"
      ]
     },
     "metadata": {
      "needs_background": "light"
     },
     "output_type": "display_data"
    }
   ],
   "source": [
    "def plot_variable(res):\n",
    "    plt.figure(figsize=(13,5))\n",
    "    plt.title(\"Distribution between no sharing and sharing agents\")\n",
    "    # plt.xticks(np.arange(0,300000,50000))\n",
    "    plt.grid()\n",
    "    for exp, vals in res.items():\n",
    "        sns.distplot(vals, label=exp)\n",
    "        \n",
    "plot_variable(episode_count)"
   ]
  },
  {
   "cell_type": "code",
   "execution_count": 12,
   "metadata": {},
   "outputs": [
    {
     "name": "stdout",
     "output_type": "stream",
     "text": [
      "DQN_Malmo_Seq-MinecraftBasicNew-v0-20181015-162056-87 vs  DQN_Malmo_Seq-MinecraftBasicNew-v0-20181015-233622-37\n",
      "\n",
      "\n",
      "Ks_2sampResult(statistic=0.38000000000000006, pvalue=4.0153193719165587e-10)\n",
      "\n",
      "\n"
     ]
    }
   ],
   "source": [
    "def calc_stats(res):\n",
    "    # get specific variable to compare\n",
    "    all_values = list(res.items())\n",
    "    samples = list(combinations(all_values, 2))\n",
    "    for sample in samples:\n",
    "        print(sample[0][0], \"vs \",  sample[1][0])\n",
    "        print(\"\\n\")\n",
    "        print(stats.ks_2samp(sample[0][1], sample[1][1]))  \n",
    "        print(\"\\n\")\n",
    "\n",
    "calc_stats(episode_count)"
   ]
  },
  {
   "cell_type": "markdown",
   "metadata": {},
   "source": [
    "I have a result to show. But can I really show this? I'm not really sure it is reliable. Why so many 150 in a row? I want to run the same test backwards. First the False, then the True for sharing. It might be something with the machine - it might have been busy.\n",
    "\n",
    "But I won't probably trust no result I have. There is something I actually generated, I will use it, if I remove outliers, results won't be so different."
   ]
  },
  {
   "cell_type": "code",
   "execution_count": null,
   "metadata": {},
   "outputs": [],
   "source": []
  }
 ],
 "metadata": {
  "kernelspec": {
   "display_name": "Python [default]",
   "language": "python",
   "name": "python3"
  },
  "language_info": {
   "codemirror_mode": {
    "name": "ipython",
    "version": 3
   },
   "file_extension": ".py",
   "mimetype": "text/x-python",
   "name": "python",
   "nbconvert_exporter": "python",
   "pygments_lexer": "ipython3",
   "version": "3.6.6"
  },
  "varInspector": {
   "cols": {
    "lenName": 16,
    "lenType": 16,
    "lenVar": 40
   },
   "kernels_config": {
    "python": {
     "delete_cmd_postfix": "",
     "delete_cmd_prefix": "del ",
     "library": "var_list.py",
     "varRefreshCmd": "print(var_dic_list())"
    },
    "r": {
     "delete_cmd_postfix": ") ",
     "delete_cmd_prefix": "rm(",
     "library": "var_list.r",
     "varRefreshCmd": "cat(var_dic_list()) "
    }
   },
   "types_to_exclude": [
    "module",
    "function",
    "builtin_function_or_method",
    "instance",
    "_Feature"
   ],
   "window_display": false
  }
 },
 "nbformat": 4,
 "nbformat_minor": 2
}
