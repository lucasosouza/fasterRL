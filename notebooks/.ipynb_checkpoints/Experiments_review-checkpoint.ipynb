{
 "cells": [
  {
   "cell_type": "code",
   "execution_count": 36,
   "metadata": {},
   "outputs": [],
   "source": [
    "import os\n",
    "import numpy as np\n",
    "import pandas as pd\n",
    "import matplotlib.pyplot as plt\n",
    "import json\n",
    "%matplotlib inline\n",
    "\n",
    "from tensorboard.backend.event_processing import event_accumulator\n",
    "from collections import defaultdict\n"
   ]
  },
  {
   "cell_type": "code",
   "execution_count": 163,
   "metadata": {},
   "outputs": [],
   "source": [
    "# list experiments\n",
    "log_root = \"./logs/\"\n",
    "experiments = [f for f in os.listdir(\"./logs/\") if f[-4:] == 'json']\n",
    "\n",
    "# place them in a dictionary\n",
    "exp_dict = {}\n",
    "for exp in os.listdir(\"./logs/\"):\n",
    "    if exp[-4:] == 'json':\n",
    "        exp_id = exp[:-5]\n",
    "        with open(log_root+exp, \"rb\") as f:\n",
    "            exp_dict[exp_id] = json.load(f)\n",
    "            \n",
    "# convert dictionary to a dataframe\n",
    "experiments_df = pd.DataFrame.from_dict(exp_dict, orient='index')"
   ]
  },
  {
   "cell_type": "code",
   "execution_count": 164,
   "metadata": {},
   "outputs": [
    {
     "data": {
      "text/html": [
       "<div>\n",
       "<style scoped>\n",
       "    .dataframe tbody tr th:only-of-type {\n",
       "        vertical-align: middle;\n",
       "    }\n",
       "\n",
       "    .dataframe tbody tr th {\n",
       "        vertical-align: top;\n",
       "    }\n",
       "\n",
       "    .dataframe thead th {\n",
       "        text-align: right;\n",
       "    }\n",
       "</style>\n",
       "<table border=\"1\" class=\"dataframe\">\n",
       "  <thead>\n",
       "    <tr style=\"text-align: right;\">\n",
       "      <th></th>\n",
       "      <th>DEFAULT_ENV_NAME</th>\n",
       "      <th>METHOD</th>\n",
       "      <th>NUM_TRIALS</th>\n",
       "      <th>DEBUG</th>\n",
       "      <th>MAX_GAMES_PLAYED</th>\n",
       "      <th>MEAN_REWARD_BOUND</th>\n",
       "      <th>NUMBER_EPISODES_MEAN</th>\n",
       "      <th>NUM_AGENTS</th>\n",
       "      <th>SHARING</th>\n",
       "      <th>SHARING_INTERVAL</th>\n",
       "      <th>...</th>\n",
       "      <th>GRAD_L2_CLIP</th>\n",
       "      <th>SYNC_TARGET_FRAMES</th>\n",
       "      <th>SOFT</th>\n",
       "      <th>SOFT_UPDATE_TAU</th>\n",
       "      <th>EPSILON_DECAY_LAST_FRAME</th>\n",
       "      <th>EPSILON_START</th>\n",
       "      <th>EPSILON_FINAL</th>\n",
       "      <th>INDEPENDENT_EVALUATION</th>\n",
       "      <th>TRACKING_INTERVAL</th>\n",
       "      <th>DEVICE</th>\n",
       "    </tr>\n",
       "  </thead>\n",
       "  <tbody>\n",
       "    <tr>\n",
       "      <th>DQN-CartPole-v0-201809191542</th>\n",
       "      <td>CartPole-v0</td>\n",
       "      <td>DQN</td>\n",
       "      <td>1</td>\n",
       "      <td>True</td>\n",
       "      <td>3000</td>\n",
       "      <td>50</td>\n",
       "      <td>100</td>\n",
       "      <td>1</td>\n",
       "      <td>False</td>\n",
       "      <td>10</td>\n",
       "      <td>...</td>\n",
       "      <td>1</td>\n",
       "      <td>2000</td>\n",
       "      <td>True</td>\n",
       "      <td>0.005</td>\n",
       "      <td>5000</td>\n",
       "      <td>1.0</td>\n",
       "      <td>0.02</td>\n",
       "      <td>False</td>\n",
       "      <td>20</td>\n",
       "      <td>cpu</td>\n",
       "    </tr>\n",
       "    <tr>\n",
       "      <th>DQN-CartPole-v0-201809191617</th>\n",
       "      <td>CartPole-v0</td>\n",
       "      <td>DQN</td>\n",
       "      <td>2</td>\n",
       "      <td>True</td>\n",
       "      <td>3000</td>\n",
       "      <td>50</td>\n",
       "      <td>100</td>\n",
       "      <td>2</td>\n",
       "      <td>False</td>\n",
       "      <td>10</td>\n",
       "      <td>...</td>\n",
       "      <td>1</td>\n",
       "      <td>2000</td>\n",
       "      <td>True</td>\n",
       "      <td>0.005</td>\n",
       "      <td>5000</td>\n",
       "      <td>1.0</td>\n",
       "      <td>0.02</td>\n",
       "      <td>False</td>\n",
       "      <td>20</td>\n",
       "      <td>cpu</td>\n",
       "    </tr>\n",
       "    <tr>\n",
       "      <th>DQN-CartPole-v0-201809191622</th>\n",
       "      <td>CartPole-v0</td>\n",
       "      <td>DQN</td>\n",
       "      <td>5</td>\n",
       "      <td>True</td>\n",
       "      <td>3000</td>\n",
       "      <td>50</td>\n",
       "      <td>100</td>\n",
       "      <td>2</td>\n",
       "      <td>True</td>\n",
       "      <td>2</td>\n",
       "      <td>...</td>\n",
       "      <td>1</td>\n",
       "      <td>2000</td>\n",
       "      <td>True</td>\n",
       "      <td>0.005</td>\n",
       "      <td>5000</td>\n",
       "      <td>1.0</td>\n",
       "      <td>0.02</td>\n",
       "      <td>False</td>\n",
       "      <td>20</td>\n",
       "      <td>cpu</td>\n",
       "    </tr>\n",
       "  </tbody>\n",
       "</table>\n",
       "<p>3 rows × 27 columns</p>\n",
       "</div>"
      ],
      "text/plain": [
       "                             DEFAULT_ENV_NAME METHOD  NUM_TRIALS  DEBUG  \\\n",
       "DQN-CartPole-v0-201809191542      CartPole-v0    DQN           1   True   \n",
       "DQN-CartPole-v0-201809191617      CartPole-v0    DQN           2   True   \n",
       "DQN-CartPole-v0-201809191622      CartPole-v0    DQN           5   True   \n",
       "\n",
       "                              MAX_GAMES_PLAYED  MEAN_REWARD_BOUND  \\\n",
       "DQN-CartPole-v0-201809191542              3000                 50   \n",
       "DQN-CartPole-v0-201809191617              3000                 50   \n",
       "DQN-CartPole-v0-201809191622              3000                 50   \n",
       "\n",
       "                              NUMBER_EPISODES_MEAN  NUM_AGENTS  SHARING  \\\n",
       "DQN-CartPole-v0-201809191542                   100           1    False   \n",
       "DQN-CartPole-v0-201809191617                   100           2    False   \n",
       "DQN-CartPole-v0-201809191622                   100           2     True   \n",
       "\n",
       "                              SHARING_INTERVAL   ...    GRAD_L2_CLIP  \\\n",
       "DQN-CartPole-v0-201809191542                10   ...               1   \n",
       "DQN-CartPole-v0-201809191617                10   ...               1   \n",
       "DQN-CartPole-v0-201809191622                 2   ...               1   \n",
       "\n",
       "                              SYNC_TARGET_FRAMES  SOFT  SOFT_UPDATE_TAU  \\\n",
       "DQN-CartPole-v0-201809191542                2000  True            0.005   \n",
       "DQN-CartPole-v0-201809191617                2000  True            0.005   \n",
       "DQN-CartPole-v0-201809191622                2000  True            0.005   \n",
       "\n",
       "                              EPSILON_DECAY_LAST_FRAME  EPSILON_START  \\\n",
       "DQN-CartPole-v0-201809191542                      5000            1.0   \n",
       "DQN-CartPole-v0-201809191617                      5000            1.0   \n",
       "DQN-CartPole-v0-201809191622                      5000            1.0   \n",
       "\n",
       "                              EPSILON_FINAL  INDEPENDENT_EVALUATION  \\\n",
       "DQN-CartPole-v0-201809191542           0.02                   False   \n",
       "DQN-CartPole-v0-201809191617           0.02                   False   \n",
       "DQN-CartPole-v0-201809191622           0.02                   False   \n",
       "\n",
       "                              TRACKING_INTERVAL  DEVICE  \n",
       "DQN-CartPole-v0-201809191542                 20     cpu  \n",
       "DQN-CartPole-v0-201809191617                 20     cpu  \n",
       "DQN-CartPole-v0-201809191622                 20     cpu  \n",
       "\n",
       "[3 rows x 27 columns]"
      ]
     },
     "execution_count": 164,
     "metadata": {},
     "output_type": "execute_result"
    }
   ],
   "source": [
    "experiments_df.head()"
   ]
  },
  {
   "cell_type": "code",
   "execution_count": 151,
   "metadata": {},
   "outputs": [],
   "source": [
    "runs_root = \"./runs\"\n",
    "experiments = os.listdir(runs_root)\n",
    "steps = None\n",
    "experiments_data = {}\n",
    "for experiment in experiments:\n",
    "    if experiment != \".DS_Store\":\n",
    "        for trial in os.listdir(os.path.join(runs_root, experiment)):\n",
    "            if trial != \".DS_Store\":\n",
    "                for run in os.listdir(os.path.join(runs_root, experiment, trial)):\n",
    "                    if trial != \".DS_Store\":                \n",
    "                        ea = event_accumulator.EventAccumulator(os.path.join(runs_root, experiment, trial, run))\n",
    "                        ea.Reload()\n",
    "                        eid = \"-\".join([experiment, trial])\n",
    "                        experiments_data[eid] = None\n",
    "                        for scalar in ea.Tags()['scalars']:\n",
    "                            df_temp = pd.DataFrame(ea.Scalars(scalar)).drop('wall_time', axis=1).rename(index=str, columns={'value': scalar})\n",
    "                            if experiments_data[eid] is None:\n",
    "                                experiments_data[eid] = df_temp\n",
    "                            else:\n",
    "                                experiments_data[eid] = pd.merge(experiments_data[eid], df_temp, how='outer', on='step')\n",
    "                                "
   ]
  },
  {
   "cell_type": "code",
   "execution_count": 174,
   "metadata": {},
   "outputs": [
    {
     "data": {
      "text/plain": [
       "dict_keys(['DQN-CartPole-v0-201809191622-agent1-trial2', 'DQN-CartPole-v0-201809191622-agent1-trial4', 'DQN-CartPole-v0-201809191622-agent1-trial3', 'DQN-CartPole-v0-201809191622-agent2-trial1', 'DQN-CartPole-v0-201809191622-agent2-trial0', 'DQN-CartPole-v0-201809191622-agent1-trial1', 'DQN-CartPole-v0-201809191622-agent1-trial0', 'DQN-CartPole-v0-201809191622-agent2-trial2', 'DQN-CartPole-v0-201809191622-agent2-trial4', 'DQN-CartPole-v0-201809191622-agent2-trial3', 'DQN-CartPole-v0-201809191542-agent1-trial0', 'DQN-CartPole-v0-201809191617-agent2-trial1', 'DQN-CartPole-v0-201809191617-agent2-trial0', 'DQN-CartPole-v0-201809191617-agent1-trial1', 'DQN-CartPole-v0-201809191617-agent1-trial0'])"
      ]
     },
     "execution_count": 174,
     "metadata": {},
     "output_type": "execute_result"
    }
   ],
   "source": [
    "# listing all experiments\n",
    "experiments_data.keys()"
   ]
  },
  {
   "cell_type": "code",
   "execution_count": 175,
   "metadata": {},
   "outputs": [
    {
     "data": {
      "text/plain": [
       "Index(['step', 'epsilon', 'speed', 'reward_100_avg', 'reward_100_std',\n",
       "       'reward', 'steps', 'loss', 'min_q_value', 'max_q_value'],\n",
       "      dtype='object')"
      ]
     },
     "execution_count": 175,
     "metadata": {},
     "output_type": "execute_result"
    }
   ],
   "source": [
    "# getting columns from all experiments\n",
    "experiments_data['DQN-CartPole-v0-201809191622-agent1-trial2'].columns"
   ]
  },
  {
   "cell_type": "code",
   "execution_count": 177,
   "metadata": {},
   "outputs": [
    {
     "data": {
      "image/png": "[encoded data removed]",
      "text/plain": [
       "<Figure size 864x432 with 1 Axes>"
      ]
     },
     "metadata": {},
     "output_type": "display_data"
    }
   ],
   "source": [
    "# example comparing rewards from within an experiment\n",
    "plt.figure(figsize=(12,6))\n",
    "exp_name = 'DQN-CartPole-v0-201809191622'\n",
    "for exp,data in experiments_data.items():\n",
    "    if exp.startswith(exp_name):\n",
    "        plt.plot(data['reward_100_avg'], label=exp_name)\n"
   ]
  }
 ],
 "metadata": {
  "kernelspec": {
   "display_name": "Python [default]",
   "language": "python",
   "name": "python3"
  },
  "language_info": {
   "codemirror_mode": {
    "name": "ipython",
    "version": 3
   },
   "file_extension": ".py",
   "mimetype": "text/x-python",
   "name": "python",
   "nbconvert_exporter": "python",
   "pygments_lexer": "ipython3",
   "version": "3.6.6"
  },
  "varInspector": {
   "cols": {
    "lenName": 16,
    "lenType": 16,
    "lenVar": 40
   },
   "kernels_config": {
    "python": {
     "delete_cmd_postfix": "",
     "delete_cmd_prefix": "del ",
     "library": "var_list.py",
     "varRefreshCmd": "print(var_dic_list())"
    },
    "r": {
     "delete_cmd_postfix": ") ",
     "delete_cmd_prefix": "rm(",
     "library": "var_list.r",
     "varRefreshCmd": "cat(var_dic_list()) "
    }
   },
   "types_to_exclude": [
    "module",
    "function",
    "builtin_function_or_method",
    "instance",
    "_Feature"
   ],
   "window_display": false
  }
 },
 "nbformat": 4,
 "nbformat_minor": 2
}
