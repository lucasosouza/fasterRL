{
 "cells": [
  {
   "cell_type": "markdown",
   "metadata": {},
   "source": [
    "# Experiment Report"
   ]
  },
  {
   "cell_type": "code",
   "execution_count": 1,
   "metadata": {},
   "outputs": [],
   "source": [
    "import os\n",
    "import numpy as np\n",
    "import pandas as pd\n",
    "import matplotlib.pyplot as plt\n",
    "import seaborn as sns\n",
    "import json\n",
    "%matplotlib inline\n",
    "\n",
    "# statistics\n",
    "from scipy import stats\n",
    "from itertools import product, combinations"
   ]
  },
  {
   "cell_type": "code",
   "execution_count": 5,
   "metadata": {},
   "outputs": [],
   "source": [
    "root = \"/mnt/storage/log-experiments/\"\n",
    "experiments = [f for f in os.listdir(root+\"logs/\") if f[-4:] == 'json'][-2:]\n",
    "results = {}\n",
    "for exp in experiments:\n",
    "    exp_name = exp[:-5]\n",
    "    try:\n",
    "        with open(root+\"results/\" + exp, 'r') as f:\n",
    "            results[exp_name] = json.load(f)\n",
    "    except:\n",
    "        pass\n"
   ]
  },
  {
   "cell_type": "code",
   "execution_count": 23,
   "metadata": {},
   "outputs": [],
   "source": [
    "# results"
   ]
  },
  {
   "cell_type": "code",
   "execution_count": 22,
   "metadata": {},
   "outputs": [
    {
     "data": {
      "text/plain": [
       "[0.956]"
      ]
     },
     "execution_count": 22,
     "metadata": {},
     "output_type": "execute_result"
    }
   ],
   "source": [
    "list(results['DQN_Malmo_Seq-MinecraftBasicNew-v0-20181015-090503-43'].items())[11][1]['rewards']"
   ]
  },
  {
   "cell_type": "code",
   "execution_count": 10,
   "metadata": {},
   "outputs": [
    {
     "data": {
      "text/plain": [
       "'DQN_Malmo_Seq-MinecraftBasicNew-v0-20181015-090503-43'"
      ]
     },
     "execution_count": 10,
     "metadata": {},
     "output_type": "execute_result"
    }
   ],
   "source": [
    "# results\n",
    "experiments[0][:-5]"
   ]
  },
  {
   "cell_type": "code",
   "execution_count": 32,
   "metadata": {},
   "outputs": [],
   "source": [
    "episode_count = {}\n",
    "for exp in experiments:\n",
    "    exp_name = exp[:-5]\n",
    "    episode_count[exp_name] = []\n",
    "    for agent_trial, data in results[exp_name].items():\n",
    "        if len(data['rewards']) >= 0: # manually remove outliers\n",
    "            episode_count[exp_name].append(len(data['rewards']))"
   ]
  },
  {
   "cell_type": "code",
   "execution_count": 33,
   "metadata": {},
   "outputs": [
    {
     "data": {
      "text/plain": [
       "{'DQN_Malmo_Seq-MinecraftBasicNew-v0-20181015-090503-43': [42,\n",
       "  40,\n",
       "  80,\n",
       "  33,\n",
       "  55,\n",
       "  19,\n",
       "  34,\n",
       "  1,\n",
       "  52,\n",
       "  146,\n",
       "  53,\n",
       "  1,\n",
       "  73,\n",
       "  58,\n",
       "  150,\n",
       "  150,\n",
       "  54,\n",
       "  72,\n",
       "  70,\n",
       "  76,\n",
       "  27,\n",
       "  47,\n",
       "  45,\n",
       "  43,\n",
       "  76,\n",
       "  64,\n",
       "  88,\n",
       "  42,\n",
       "  38,\n",
       "  28,\n",
       "  75,\n",
       "  67,\n",
       "  1,\n",
       "  1,\n",
       "  1,\n",
       "  30,\n",
       "  28,\n",
       "  24,\n",
       "  26,\n",
       "  26,\n",
       "  36,\n",
       "  1,\n",
       "  68,\n",
       "  52,\n",
       "  49,\n",
       "  51,\n",
       "  58,\n",
       "  39,\n",
       "  40,\n",
       "  31,\n",
       "  68,\n",
       "  63,\n",
       "  33,\n",
       "  27,\n",
       "  65,\n",
       "  66,\n",
       "  44,\n",
       "  88,\n",
       "  35,\n",
       "  97],\n",
       " 'DQN_Malmo_Seq-MinecraftBasicNew-v0-20181015-114635-04': [47,\n",
       "  64,\n",
       "  58,\n",
       "  39,\n",
       "  42,\n",
       "  50,\n",
       "  42,\n",
       "  82,\n",
       "  59,\n",
       "  51,\n",
       "  57,\n",
       "  30,\n",
       "  65,\n",
       "  49,\n",
       "  92,\n",
       "  1,\n",
       "  124,\n",
       "  150,\n",
       "  46,\n",
       "  40,\n",
       "  55,\n",
       "  60,\n",
       "  79,\n",
       "  35,\n",
       "  68,\n",
       "  74,\n",
       "  35,\n",
       "  38,\n",
       "  57,\n",
       "  53,\n",
       "  66,\n",
       "  42,\n",
       "  102,\n",
       "  83,\n",
       "  67,\n",
       "  40,\n",
       "  65,\n",
       "  107,\n",
       "  58,\n",
       "  28,\n",
       "  34,\n",
       "  46,\n",
       "  52,\n",
       "  42,\n",
       "  29,\n",
       "  41,\n",
       "  91,\n",
       "  46,\n",
       "  127,\n",
       "  51,\n",
       "  43,\n",
       "  121,\n",
       "  81,\n",
       "  56,\n",
       "  52,\n",
       "  150,\n",
       "  126,\n",
       "  55,\n",
       "  57,\n",
       "  44]}"
      ]
     },
     "execution_count": 33,
     "metadata": {},
     "output_type": "execute_result"
    }
   ],
   "source": [
    "episode_count"
   ]
  },
  {
   "cell_type": "code",
   "execution_count": 34,
   "metadata": {},
   "outputs": [
    {
     "name": "stdout",
     "output_type": "stream",
     "text": [
      "50.78333333333333\n",
      "62.4\n"
     ]
    }
   ],
   "source": [
    "for k,v in episode_count.items():\n",
    "    print(np.mean(v))"
   ]
  },
  {
   "cell_type": "code",
   "execution_count": 35,
   "metadata": {},
   "outputs": [
    {
     "data": {
      "image/png": "[encoded data removed]",
      "text/plain": [
       "<Figure size 936x360 with 1 Axes>"
      ]
     },
     "metadata": {
      "needs_background": "light"
     },
     "output_type": "display_data"
    }
   ],
   "source": [
    "def plot_variable(res):\n",
    "    plt.figure(figsize=(13,5))\n",
    "    plt.title(\"Distribution between no sharing and sharing agents\")\n",
    "    # plt.xticks(np.arange(0,300000,50000))\n",
    "    plt.grid()\n",
    "    for exp, vals in res.items():\n",
    "        sns.kdeplot(vals, label=exp)\n",
    "        \n",
    "plot_variable(episode_count)"
   ]
  },
  {
   "cell_type": "code",
   "execution_count": 36,
   "metadata": {},
   "outputs": [
    {
     "name": "stdout",
     "output_type": "stream",
     "text": [
      "DQN_Malmo_Seq-MinecraftBasicNew-v0-20181015-090503-43 vs  DQN_Malmo_Seq-MinecraftBasicNew-v0-20181015-114635-04\n",
      "\n",
      "\n",
      "Ks_2sampResult(statistic=0.23333333333333336, pvalue=0.06439087568893505)\n",
      "\n",
      "\n"
     ]
    }
   ],
   "source": [
    "def calc_stats(res):\n",
    "    # get specific variable to compare\n",
    "    all_values = list(res.items())\n",
    "    samples = list(combinations(all_values, 2))\n",
    "    for sample in samples:\n",
    "        print(sample[0][0], \"vs \",  sample[1][0])\n",
    "        print(\"\\n\")\n",
    "        print(stats.ks_2samp(sample[0][1], sample[1][1]))  \n",
    "        print(\"\\n\")\n",
    "\n",
    "calc_stats(episode_count)"
   ]
  },
  {
   "cell_type": "markdown",
   "metadata": {},
   "source": [
    "Doesn't pass a statistic test yet. Would need to dig further, or just do further trials? I think before trying anything else I need to repeat this experiment with a significant number of trials, with the issue fixed. I will run it in a way I will only get results tomorrow (about 16 hours) - 60 trials. "
   ]
  },
  {
   "cell_type": "code",
   "execution_count": null,
   "metadata": {},
   "outputs": [],
   "source": []
  }
 ],
 "metadata": {
  "kernelspec": {
   "display_name": "Python [default]",
   "language": "python",
   "name": "python3"
  },
  "language_info": {
   "codemirror_mode": {
    "name": "ipython",
    "version": 3
   },
   "file_extension": ".py",
   "mimetype": "text/x-python",
   "name": "python",
   "nbconvert_exporter": "python",
   "pygments_lexer": "ipython3",
   "version": "3.6.6"
  },
  "varInspector": {
   "cols": {
    "lenName": 16,
    "lenType": 16,
    "lenVar": 40
   },
   "kernels_config": {
    "python": {
     "delete_cmd_postfix": "",
     "delete_cmd_prefix": "del ",
     "library": "var_list.py",
     "varRefreshCmd": "print(var_dic_list())"
    },
    "r": {
     "delete_cmd_postfix": ") ",
     "delete_cmd_prefix": "rm(",
     "library": "var_list.r",
     "varRefreshCmd": "cat(var_dic_list()) "
    }
   },
   "types_to_exclude": [
    "module",
    "function",
    "builtin_function_or_method",
    "instance",
    "_Feature"
   ],
   "window_display": false
  }
 },
 "nbformat": 4,
 "nbformat_minor": 2
}
