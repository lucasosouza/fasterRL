{
 "cells": [
  {
   "cell_type": "markdown",
   "metadata": {},
   "source": [
    "# Experiment Report"
   ]
  },
  {
   "cell_type": "code",
   "execution_count": 1,
   "metadata": {},
   "outputs": [],
   "source": [
    "import os\n",
    "import numpy as np\n",
    "import pandas as pd\n",
    "import matplotlib.pyplot as plt\n",
    "import seaborn as sns\n",
    "import json\n",
    "%matplotlib inline\n",
    "\n",
    "# statistics\n",
    "from scipy import stats\n",
    "from itertools import product, combinations"
   ]
  },
  {
   "cell_type": "code",
   "execution_count": 2,
   "metadata": {},
   "outputs": [],
   "source": [
    "# experiments = ['DQN_Malmo_Seq-MinecraftBasicNew-v0-20181015-162056-87.json',\n",
    "#  'DQN_Malmo_Seq-MinecraftBasicNew-v0-20181015-233622-37.json',\n",
    "#  'DQN_Malmo_Seq-MinecraftBasicNew-v0-20181018-095954-70.json']"
   ]
  },
  {
   "cell_type": "code",
   "execution_count": 60,
   "metadata": {},
   "outputs": [],
   "source": [
    "root = \"/mnt/storage/log-experiments/\"\n",
    "experiments = [f for f in os.listdir(root+\"logs/\") if f[-4:] == 'json'][-5:-1]\n",
    "results = {}\n",
    "for exp in experiments:\n",
    "    exp_name = exp[:-5]\n",
    "    try:\n",
    "        with open(root+\"results/\" + exp, 'r') as f:\n",
    "            results[exp_name] = json.load(f)\n",
    "    except:\n",
    "        pass\n"
   ]
  },
  {
   "cell_type": "code",
   "execution_count": 61,
   "metadata": {},
   "outputs": [
    {
     "data": {
      "text/plain": [
       "['DQN_Malmo_Seq-MinecraftBasicNew-v0-20181021-012241-52.json',\n",
       " 'DQN_Malmo_Seq-MinecraftBasicNew-v0-20181021-085629-89.json',\n",
       " 'DQN_Malmo_Seq-MinecraftBasicNew-v0-20181021-160659-57.json',\n",
       " 'DQN_Malmo_Seq-MinecraftBasicNew-v0-20181021-234733-03.json']"
      ]
     },
     "execution_count": 61,
     "metadata": {},
     "output_type": "execute_result"
    }
   ],
   "source": [
    "experiments"
   ]
  },
  {
   "cell_type": "code",
   "execution_count": 62,
   "metadata": {},
   "outputs": [],
   "source": [
    "# list(results['DQN_Malmo_Seq-MinecraftBasicNew-v0-20181015-090503-43'].items())[11][1]['rewards']"
   ]
  },
  {
   "cell_type": "code",
   "execution_count": 63,
   "metadata": {},
   "outputs": [
    {
     "data": {
      "text/plain": [
       "'DQN_Malmo_Seq-MinecraftBasicNew-v0-20181021-012241-52'"
      ]
     },
     "execution_count": 63,
     "metadata": {},
     "output_type": "execute_result"
    }
   ],
   "source": [
    "# results\n",
    "experiments[0][:-5]"
   ]
  },
  {
   "cell_type": "code",
   "execution_count": 64,
   "metadata": {},
   "outputs": [],
   "source": [
    "episode_count = {}\n",
    "for exp in experiments:\n",
    "    exp_name = exp[:-5]\n",
    "    episode_count[exp_name] = []\n",
    "    for agent_trial, data in results[exp_name].items():\n",
    "        if len(data['rewards']) >= 0: # manually remove outliers\n",
    "            episode_count[exp_name].append(len(data['rewards']))"
   ]
  },
  {
   "cell_type": "code",
   "execution_count": 65,
   "metadata": {},
   "outputs": [
    {
     "data": {
      "text/plain": [
       "{'DQN_Malmo_Seq-MinecraftBasicNew-v0-20181021-012241-52': [49,\n",
       "  66,\n",
       "  35,\n",
       "  40,\n",
       "  33,\n",
       "  72,\n",
       "  102,\n",
       "  118,\n",
       "  103,\n",
       "  67,\n",
       "  41,\n",
       "  43,\n",
       "  47,\n",
       "  44,\n",
       "  72,\n",
       "  24,\n",
       "  66,\n",
       "  42,\n",
       "  29,\n",
       "  43,\n",
       "  47,\n",
       "  67,\n",
       "  56,\n",
       "  67,\n",
       "  38,\n",
       "  28,\n",
       "  59,\n",
       "  76,\n",
       "  45,\n",
       "  41,\n",
       "  55,\n",
       "  56,\n",
       "  48,\n",
       "  69,\n",
       "  29,\n",
       "  33,\n",
       "  33,\n",
       "  81,\n",
       "  51,\n",
       "  52,\n",
       "  76,\n",
       "  43,\n",
       "  44,\n",
       "  59,\n",
       "  29,\n",
       "  92,\n",
       "  39,\n",
       "  28,\n",
       "  74,\n",
       "  44,\n",
       "  59,\n",
       "  29,\n",
       "  61,\n",
       "  27,\n",
       "  47,\n",
       "  51,\n",
       "  62,\n",
       "  34,\n",
       "  56,\n",
       "  48,\n",
       "  85,\n",
       "  102,\n",
       "  42,\n",
       "  41,\n",
       "  32,\n",
       "  34,\n",
       "  50,\n",
       "  111,\n",
       "  34,\n",
       "  45,\n",
       "  63,\n",
       "  50,\n",
       "  66,\n",
       "  40,\n",
       "  35,\n",
       "  37,\n",
       "  33,\n",
       "  29,\n",
       "  30,\n",
       "  50,\n",
       "  25,\n",
       "  48,\n",
       "  32,\n",
       "  41,\n",
       "  121,\n",
       "  136,\n",
       "  46,\n",
       "  48,\n",
       "  71,\n",
       "  32,\n",
       "  29,\n",
       "  34,\n",
       "  59,\n",
       "  64,\n",
       "  31,\n",
       "  39,\n",
       "  62,\n",
       "  40,\n",
       "  40,\n",
       "  38,\n",
       "  29,\n",
       "  150,\n",
       "  61,\n",
       "  44,\n",
       "  82,\n",
       "  89,\n",
       "  40,\n",
       "  44,\n",
       "  50,\n",
       "  53,\n",
       "  53,\n",
       "  33,\n",
       "  57,\n",
       "  40,\n",
       "  81,\n",
       "  72,\n",
       "  29,\n",
       "  62,\n",
       "  39,\n",
       "  58,\n",
       "  43,\n",
       "  40,\n",
       "  41,\n",
       "  38,\n",
       "  27,\n",
       "  38,\n",
       "  53,\n",
       "  77,\n",
       "  58,\n",
       "  40,\n",
       "  41,\n",
       "  71,\n",
       "  49,\n",
       "  72,\n",
       "  49,\n",
       "  68,\n",
       "  48,\n",
       "  31,\n",
       "  119,\n",
       "  43,\n",
       "  69,\n",
       "  50,\n",
       "  80,\n",
       "  42,\n",
       "  60,\n",
       "  33,\n",
       "  34,\n",
       "  20,\n",
       "  61,\n",
       "  61],\n",
       " 'DQN_Malmo_Seq-MinecraftBasicNew-v0-20181021-085629-89': [27,\n",
       "  67,\n",
       "  24,\n",
       "  60,\n",
       "  41,\n",
       "  35,\n",
       "  64,\n",
       "  50,\n",
       "  41,\n",
       "  63,\n",
       "  76,\n",
       "  125,\n",
       "  22,\n",
       "  41,\n",
       "  48,\n",
       "  49,\n",
       "  21,\n",
       "  52,\n",
       "  38,\n",
       "  38,\n",
       "  54,\n",
       "  121,\n",
       "  60,\n",
       "  41,\n",
       "  77,\n",
       "  111,\n",
       "  66,\n",
       "  57,\n",
       "  68,\n",
       "  33,\n",
       "  36,\n",
       "  55,\n",
       "  89,\n",
       "  64,\n",
       "  27,\n",
       "  47,\n",
       "  38,\n",
       "  34,\n",
       "  57,\n",
       "  55,\n",
       "  56,\n",
       "  28,\n",
       "  52,\n",
       "  61,\n",
       "  48,\n",
       "  46,\n",
       "  78,\n",
       "  33,\n",
       "  119,\n",
       "  150,\n",
       "  23,\n",
       "  56,\n",
       "  44,\n",
       "  62,\n",
       "  37,\n",
       "  43,\n",
       "  32,\n",
       "  38,\n",
       "  29,\n",
       "  42,\n",
       "  24,\n",
       "  60,\n",
       "  63,\n",
       "  24,\n",
       "  45,\n",
       "  150,\n",
       "  57,\n",
       "  30,\n",
       "  58,\n",
       "  40,\n",
       "  25,\n",
       "  48,\n",
       "  30,\n",
       "  31,\n",
       "  37,\n",
       "  37,\n",
       "  116,\n",
       "  44,\n",
       "  49,\n",
       "  51,\n",
       "  49,\n",
       "  61,\n",
       "  69,\n",
       "  25,\n",
       "  55,\n",
       "  37,\n",
       "  66,\n",
       "  97,\n",
       "  72,\n",
       "  51,\n",
       "  89,\n",
       "  68,\n",
       "  65,\n",
       "  51,\n",
       "  34,\n",
       "  50,\n",
       "  107,\n",
       "  37,\n",
       "  106,\n",
       "  47,\n",
       "  31,\n",
       "  49,\n",
       "  50,\n",
       "  54,\n",
       "  77,\n",
       "  60,\n",
       "  49,\n",
       "  67,\n",
       "  35,\n",
       "  115,\n",
       "  29,\n",
       "  44,\n",
       "  77,\n",
       "  29,\n",
       "  60,\n",
       "  81,\n",
       "  49,\n",
       "  36,\n",
       "  66,\n",
       "  77,\n",
       "  36,\n",
       "  34,\n",
       "  51,\n",
       "  44,\n",
       "  87,\n",
       "  36,\n",
       "  143,\n",
       "  41,\n",
       "  62,\n",
       "  26,\n",
       "  50,\n",
       "  34,\n",
       "  49,\n",
       "  59,\n",
       "  61,\n",
       "  67,\n",
       "  52,\n",
       "  59,\n",
       "  33,\n",
       "  30,\n",
       "  36,\n",
       "  67,\n",
       "  43,\n",
       "  46,\n",
       "  53,\n",
       "  47,\n",
       "  35,\n",
       "  77,\n",
       "  29,\n",
       "  46],\n",
       " 'DQN_Malmo_Seq-MinecraftBasicNew-v0-20181021-160659-57': [32,\n",
       "  97,\n",
       "  41,\n",
       "  42,\n",
       "  58,\n",
       "  72,\n",
       "  34,\n",
       "  40,\n",
       "  41,\n",
       "  59,\n",
       "  108,\n",
       "  117,\n",
       "  34,\n",
       "  53,\n",
       "  45,\n",
       "  49,\n",
       "  43,\n",
       "  25,\n",
       "  64,\n",
       "  57,\n",
       "  55,\n",
       "  41,\n",
       "  90,\n",
       "  88,\n",
       "  65,\n",
       "  61,\n",
       "  52,\n",
       "  64,\n",
       "  57,\n",
       "  49,\n",
       "  31,\n",
       "  40,\n",
       "  34,\n",
       "  36,\n",
       "  74,\n",
       "  25,\n",
       "  72,\n",
       "  42,\n",
       "  59,\n",
       "  43,\n",
       "  55,\n",
       "  35,\n",
       "  87,\n",
       "  81,\n",
       "  60,\n",
       "  79,\n",
       "  49,\n",
       "  23,\n",
       "  83,\n",
       "  48,\n",
       "  48,\n",
       "  39,\n",
       "  30,\n",
       "  85,\n",
       "  57,\n",
       "  58,\n",
       "  64,\n",
       "  41,\n",
       "  125,\n",
       "  69,\n",
       "  67,\n",
       "  57,\n",
       "  97,\n",
       "  37,\n",
       "  33,\n",
       "  46,\n",
       "  109,\n",
       "  44,\n",
       "  49,\n",
       "  68,\n",
       "  50,\n",
       "  44,\n",
       "  66,\n",
       "  20,\n",
       "  41,\n",
       "  48,\n",
       "  33,\n",
       "  36,\n",
       "  109,\n",
       "  56,\n",
       "  79,\n",
       "  40,\n",
       "  43,\n",
       "  37,\n",
       "  71,\n",
       "  58,\n",
       "  42,\n",
       "  36,\n",
       "  48,\n",
       "  61,\n",
       "  59,\n",
       "  22,\n",
       "  57,\n",
       "  51,\n",
       "  64,\n",
       "  53,\n",
       "  28,\n",
       "  50,\n",
       "  62,\n",
       "  57,\n",
       "  48,\n",
       "  30,\n",
       "  79,\n",
       "  30,\n",
       "  59,\n",
       "  43,\n",
       "  38,\n",
       "  45,\n",
       "  56,\n",
       "  53,\n",
       "  47,\n",
       "  76,\n",
       "  62,\n",
       "  36,\n",
       "  73,\n",
       "  92,\n",
       "  50,\n",
       "  50,\n",
       "  35,\n",
       "  50,\n",
       "  95,\n",
       "  89,\n",
       "  42,\n",
       "  48,\n",
       "  69,\n",
       "  32,\n",
       "  48,\n",
       "  79,\n",
       "  90,\n",
       "  83,\n",
       "  49,\n",
       "  56,\n",
       "  49,\n",
       "  30,\n",
       "  118,\n",
       "  82,\n",
       "  44,\n",
       "  50,\n",
       "  55,\n",
       "  47,\n",
       "  31,\n",
       "  30,\n",
       "  39,\n",
       "  40,\n",
       "  134,\n",
       "  36,\n",
       "  70,\n",
       "  36,\n",
       "  120,\n",
       "  118],\n",
       " 'DQN_Malmo_Seq-MinecraftBasicNew-v0-20181021-234733-03': [52,\n",
       "  46,\n",
       "  52,\n",
       "  69,\n",
       "  75,\n",
       "  39,\n",
       "  26,\n",
       "  56,\n",
       "  28,\n",
       "  32,\n",
       "  137,\n",
       "  104,\n",
       "  30,\n",
       "  60,\n",
       "  52,\n",
       "  34,\n",
       "  41,\n",
       "  72,\n",
       "  62,\n",
       "  52,\n",
       "  47,\n",
       "  39,\n",
       "  66,\n",
       "  74,\n",
       "  93,\n",
       "  86,\n",
       "  55,\n",
       "  24,\n",
       "  62,\n",
       "  40,\n",
       "  31,\n",
       "  43,\n",
       "  113,\n",
       "  86,\n",
       "  64,\n",
       "  84,\n",
       "  27,\n",
       "  22,\n",
       "  138,\n",
       "  19,\n",
       "  58,\n",
       "  95,\n",
       "  60,\n",
       "  49,\n",
       "  53,\n",
       "  36,\n",
       "  83,\n",
       "  60,\n",
       "  69,\n",
       "  95,\n",
       "  69,\n",
       "  35,\n",
       "  78,\n",
       "  31,\n",
       "  53,\n",
       "  64,\n",
       "  89,\n",
       "  66,\n",
       "  32,\n",
       "  39,\n",
       "  66,\n",
       "  114,\n",
       "  50,\n",
       "  54,\n",
       "  71,\n",
       "  50,\n",
       "  72,\n",
       "  76,\n",
       "  33,\n",
       "  40,\n",
       "  97,\n",
       "  66,\n",
       "  53,\n",
       "  59,\n",
       "  38,\n",
       "  46,\n",
       "  37,\n",
       "  57,\n",
       "  35,\n",
       "  39,\n",
       "  42,\n",
       "  29,\n",
       "  51,\n",
       "  42,\n",
       "  56,\n",
       "  34,\n",
       "  58,\n",
       "  42,\n",
       "  24,\n",
       "  49,\n",
       "  45,\n",
       "  49,\n",
       "  41,\n",
       "  26,\n",
       "  67,\n",
       "  41,\n",
       "  43,\n",
       "  28,\n",
       "  36,\n",
       "  48,\n",
       "  62,\n",
       "  43,\n",
       "  48,\n",
       "  31,\n",
       "  48,\n",
       "  58,\n",
       "  75,\n",
       "  37,\n",
       "  60,\n",
       "  37,\n",
       "  150,\n",
       "  108,\n",
       "  60,\n",
       "  61,\n",
       "  51,\n",
       "  50,\n",
       "  34,\n",
       "  22,\n",
       "  28,\n",
       "  46,\n",
       "  57,\n",
       "  53,\n",
       "  33,\n",
       "  25,\n",
       "  48,\n",
       "  36,\n",
       "  49,\n",
       "  43,\n",
       "  67,\n",
       "  87,\n",
       "  42,\n",
       "  29,\n",
       "  51,\n",
       "  53,\n",
       "  81,\n",
       "  48,\n",
       "  42,\n",
       "  56,\n",
       "  94,\n",
       "  120,\n",
       "  80,\n",
       "  59,\n",
       "  68,\n",
       "  113,\n",
       "  72,\n",
       "  37,\n",
       "  40,\n",
       "  28,\n",
       "  51,\n",
       "  43]}"
      ]
     },
     "execution_count": 65,
     "metadata": {},
     "output_type": "execute_result"
    }
   ],
   "source": [
    "episode_count"
   ]
  },
  {
   "cell_type": "code",
   "execution_count": 66,
   "metadata": {},
   "outputs": [
    {
     "name": "stdout",
     "output_type": "stream",
     "text": [
      "means\n",
      "52.906666666666666\n",
      "54.48\n",
      "56.626666666666665\n",
      "55.76\n",
      "\n",
      "deviations\n",
      "22.729231301466303\n",
      "25.323959669319752\n",
      "23.10715521699333\n",
      "24.429403049058184\n"
     ]
    }
   ],
   "source": [
    "print(\"means\")\n",
    "for k,v in episode_count.items():\n",
    "    print(np.mean(v))\n",
    "\n",
    "print(\"\\ndeviations\")\n",
    "for k,v in episode_count.items():\n",
    "    print(np.std(v))\n",
    "\n",
    "    "
   ]
  },
  {
   "cell_type": "code",
   "execution_count": 67,
   "metadata": {},
   "outputs": [],
   "source": [
    "steps_count = {}\n",
    "for exp in experiments:\n",
    "    exp_name = exp[:-5]\n",
    "    steps_count[exp_name] = []\n",
    "    for agent_trial, data in results[exp_name].items():\n",
    "        for step in data['steps']:\n",
    "            steps_count[exp_name].append(step)"
   ]
  },
  {
   "cell_type": "code",
   "execution_count": 68,
   "metadata": {},
   "outputs": [
    {
     "data": {
      "text/plain": [
       "8364"
      ]
     },
     "execution_count": 68,
     "metadata": {},
     "output_type": "execute_result"
    }
   ],
   "source": [
    "len(steps_count[exp_name])"
   ]
  },
  {
   "cell_type": "code",
   "execution_count": 69,
   "metadata": {},
   "outputs": [
    {
     "name": "stdout",
     "output_type": "stream",
     "text": [
      "means\n",
      "47.28377016129032\n",
      "49.768110621634854\n",
      "44.67565340240169\n",
      "44.898732663797226\n",
      "\n",
      "deviations\n",
      "26.60376289741759\n",
      "25.98259793027939\n",
      "24.73307329589644\n",
      "24.602898884007157\n"
     ]
    }
   ],
   "source": [
    "## NUM STEPS\n",
    "print(\"means\")\n",
    "for k,v in steps_count.items():\n",
    "    print(np.mean(v))\n",
    "\n",
    "print(\"\\ndeviations\")\n",
    "for k,v in steps_count.items():\n",
    "    print(np.std(v))\n",
    "\n",
    "    "
   ]
  },
  {
   "cell_type": "code",
   "execution_count": 70,
   "metadata": {},
   "outputs": [],
   "source": [
    "rewards_count = {}\n",
    "for exp in experiments:\n",
    "    exp_name = exp[:-5]\n",
    "    rewards_count[exp_name] = []\n",
    "    for agent_trial, data in results[exp_name].items():\n",
    "        for reward in data['rewards']:\n",
    "            rewards_count[exp_name].append(reward)"
   ]
  },
  {
   "cell_type": "code",
   "execution_count": 71,
   "metadata": {},
   "outputs": [
    {
     "name": "stdout",
     "output_type": "stream",
     "text": [
      "means\n",
      "0.5102400453629031\n",
      "0.4627055800293685\n",
      "0.494165410878267\n",
      "0.49407376853180285\n",
      "\n",
      "deviations\n",
      "0.5189740848735714\n",
      "0.5216806458305305\n",
      "0.5188603589803605\n",
      "0.5187032530647315\n"
     ]
    }
   ],
   "source": [
    "## NUM STEPS\n",
    "print(\"means\")\n",
    "for k,v in rewards_count.items():\n",
    "    print(np.mean(v))\n",
    "\n",
    "print(\"\\ndeviations\")\n",
    "for k,v in rewards_count.items():\n",
    "    print(np.std(v))\n",
    "\n",
    "    "
   ]
  },
  {
   "cell_type": "code",
   "execution_count": 72,
   "metadata": {},
   "outputs": [
    {
     "data": {
      "text/plain": [
       "['DQN_Malmo_Seq-MinecraftBasicNew-v0-20181021-012241-52.json',\n",
       " 'DQN_Malmo_Seq-MinecraftBasicNew-v0-20181021-085629-89.json',\n",
       " 'DQN_Malmo_Seq-MinecraftBasicNew-v0-20181021-160659-57.json',\n",
       " 'DQN_Malmo_Seq-MinecraftBasicNew-v0-20181021-234733-03.json']"
      ]
     },
     "execution_count": 72,
     "metadata": {},
     "output_type": "execute_result"
    }
   ],
   "source": [
    "experiments"
   ]
  },
  {
   "cell_type": "code",
   "execution_count": 74,
   "metadata": {},
   "outputs": [],
   "source": [
    "experiments_dp = {\n",
    "    'focused experience sharing': experiments[3][:-5],\n",
    "    'baseline': experiments[1][:-5],\n",
    "    'regular experience sharing': experiments[0][:-5]\n",
    "}"
   ]
  },
  {
   "cell_type": "code",
   "execution_count": 75,
   "metadata": {},
   "outputs": [],
   "source": [
    "# experiments_dp = {\n",
    "#     'focused experience sharing': 'DQN_Malmo_Seq-MinecraftBasicNew-v0-20181015-162056-87',\n",
    "#     'baseline': 'DQN_Malmo_Seq-MinecraftBasicNew-v0-20181015-233622-37',\n",
    "#     'regular experience sharing': 'DQN_Malmo_Seq-MinecraftBasicNew-v0-20181018-095954-70'\n",
    "# }"
   ]
  },
  {
   "cell_type": "code",
   "execution_count": 76,
   "metadata": {},
   "outputs": [],
   "source": [
    "episode_count = {}\n",
    "for exp in experiments:\n",
    "    exp_name = exp[:-5]\n",
    "    episode_count[exp_name] = []\n",
    "    for agent_trial, data in results[exp_name].items():\n",
    "        if len(data['rewards']) >= 0: # manually remove outliers\n",
    "            episode_count[exp_name].append(len(data['rewards']))"
   ]
  },
  {
   "cell_type": "code",
   "execution_count": 77,
   "metadata": {},
   "outputs": [],
   "source": [
    "def plot(results, experiments, selected_experiments, colors):\n",
    "    plt.figure(figsize=(10,4))\n",
    "    # plt.xticks(np.arange(0,300000,50000))\n",
    "    plt.grid()\n",
    "    for exp_name, color in zip(selected_experiments, colors):\n",
    "        exp_id = experiments[exp_name]\n",
    "        sns.distplot(results[exp_id], label=exp_name, color=color)\n",
    "        \n",
    "    plt.legend()\n",
    "    plt.xlabel(\"Number of episodes\")\n",
    "    # plt.ylim(0, 0.06)\n",
    "        \n"
   ]
  },
  {
   "cell_type": "code",
   "execution_count": 78,
   "metadata": {},
   "outputs": [],
   "source": [
    "colors = ['#003FFF', '#03ED3A', '#E8000B']"
   ]
  },
  {
   "cell_type": "code",
   "execution_count": 79,
   "metadata": {
    "scrolled": true
   },
   "outputs": [
    {
     "name": "stderr",
     "output_type": "stream",
     "text": [
      "/home/lucas/.conda/envs/marlo/lib/python3.6/site-packages/scipy/stats/stats.py:1713: FutureWarning: Using a non-tuple sequence for multidimensional indexing is deprecated; use `arr[tuple(seq)]` instead of `arr[seq]`. In the future this will be interpreted as an array index, `arr[np.array(seq)]`, which will result either in an error or a different result.\n",
      "  return np.add.reduce(sorted[indexer] * weights, axis=axis) / sumval\n"
     ]
    },
    {
     "data": {
      "image/png": "[encoded data removed]",
      "text/plain": [
       "<Figure size 720x288 with 1 Axes>"
      ]
     },
     "metadata": {
      "needs_background": "light"
     },
     "output_type": "display_data"
    }
   ],
   "source": [
    "plot(episode_count, experiments_dp, ['focused experience sharing', 'baseline'], ['#003FFF', '#03ED3A'])\n",
    "plt.savefig('res1.png', dpi=300)"
   ]
  },
  {
   "cell_type": "code",
   "execution_count": 80,
   "metadata": {},
   "outputs": [
    {
     "name": "stderr",
     "output_type": "stream",
     "text": [
      "/home/lucas/.conda/envs/marlo/lib/python3.6/site-packages/scipy/stats/stats.py:1713: FutureWarning: Using a non-tuple sequence for multidimensional indexing is deprecated; use `arr[tuple(seq)]` instead of `arr[seq]`. In the future this will be interpreted as an array index, `arr[np.array(seq)]`, which will result either in an error or a different result.\n",
      "  return np.add.reduce(sorted[indexer] * weights, axis=axis) / sumval\n"
     ]
    },
    {
     "data": {
      "image/png": "[encoded data removed]",
      "text/plain": [
       "<Figure size 720x288 with 1 Axes>"
      ]
     },
     "metadata": {
      "needs_background": "light"
     },
     "output_type": "display_data"
    }
   ],
   "source": [
    "plot(episode_count, experiments_dp, ['focused experience sharing', 'regular experience sharing'], ['#003FFF', '#E8000B'])\n",
    "plt.savefig('res2.png', dpi=300)"
   ]
  },
  {
   "cell_type": "code",
   "execution_count": 81,
   "metadata": {},
   "outputs": [
    {
     "name": "stderr",
     "output_type": "stream",
     "text": [
      "/home/lucas/.conda/envs/marlo/lib/python3.6/site-packages/scipy/stats/stats.py:1713: FutureWarning: Using a non-tuple sequence for multidimensional indexing is deprecated; use `arr[tuple(seq)]` instead of `arr[seq]`. In the future this will be interpreted as an array index, `arr[np.array(seq)]`, which will result either in an error or a different result.\n",
      "  return np.add.reduce(sorted[indexer] * weights, axis=axis) / sumval\n"
     ]
    },
    {
     "data": {
      "image/png": "[encoded data removed]",
      "text/plain": [
       "<Figure size 720x288 with 1 Axes>"
      ]
     },
     "metadata": {
      "needs_background": "light"
     },
     "output_type": "display_data"
    }
   ],
   "source": [
    "plot(episode_count, experiments_dp, ['baseline', 'regular experience sharing'], ['#03ED3A', '#E8000B'])\n",
    "plt.savefig('res3.png', dpi=300)"
   ]
  },
  {
   "cell_type": "code",
   "execution_count": 82,
   "metadata": {},
   "outputs": [],
   "source": [
    "# compare 3 in number of episodes, steps, and rewards"
   ]
  },
  {
   "cell_type": "code",
   "execution_count": 83,
   "metadata": {},
   "outputs": [],
   "source": [
    "graph = {}"
   ]
  },
  {
   "cell_type": "code",
   "execution_count": 85,
   "metadata": {},
   "outputs": [
    {
     "data": {
      "text/plain": [
       "'DQN_Malmo_Seq-MinecraftBasicNew-v0-20181021-160659-57.json'"
      ]
     },
     "execution_count": 85,
     "metadata": {},
     "output_type": "execute_result"
    }
   ],
   "source": [
    "experiments.pop(2)"
   ]
  },
  {
   "cell_type": "code",
   "execution_count": 86,
   "metadata": {},
   "outputs": [
    {
     "data": {
      "text/plain": [
       "['DQN_Malmo_Seq-MinecraftBasicNew-v0-20181021-012241-52.json',\n",
       " 'DQN_Malmo_Seq-MinecraftBasicNew-v0-20181021-085629-89.json',\n",
       " 'DQN_Malmo_Seq-MinecraftBasicNew-v0-20181021-234733-03.json']"
      ]
     },
     "execution_count": 86,
     "metadata": {},
     "output_type": "execute_result"
    }
   ],
   "source": [
    "experiments"
   ]
  },
  {
   "cell_type": "code",
   "execution_count": 87,
   "metadata": {},
   "outputs": [],
   "source": [
    "steps_count = {}\n",
    "for exp in experiments:\n",
    "    exp_name = exp[:-5]\n",
    "    steps_count[exp_name] = []\n",
    "    for agent_trial, data in results[exp_name].items():\n",
    "        for step in data['steps']:\n",
    "            steps_count[exp_name].append(step)\n",
    "            \n",
    "graph['Number of Steps - Mean'] = []\n",
    "for k,v in steps_count.items():\n",
    "    graph['Number of Steps - Mean'].append(np.mean(v))\n",
    "\n",
    "graph['Number of Steps - Std Deviation'] = []\n",
    "for k,v in steps_count.items():\n",
    "    graph['Number of Steps - Std Deviation'].append(np.std(v))\n",
    "\n",
    "    "
   ]
  },
  {
   "cell_type": "code",
   "execution_count": 88,
   "metadata": {},
   "outputs": [],
   "source": [
    "rewards_count = {}\n",
    "for exp in experiments:\n",
    "    exp_name = exp[:-5]\n",
    "    rewards_count[exp_name] = []\n",
    "    for agent_trial, data in results[exp_name].items():\n",
    "        for reward in data['rewards']:\n",
    "            rewards_count[exp_name].append(reward)\n",
    "            \n",
    "            \n",
    "graph['Episode Total Reward - Mean'] = []\n",
    "for k,v in rewards_count.items():\n",
    "    graph['Episode Total Reward - Mean'].append(np.mean(v))\n",
    "\n",
    "graph['Episode Total Reward - Std Deviation'] = []\n",
    "for k,v in rewards_count.items():\n",
    "    graph['Episode Total Reward - Std Deviation'].append(np.std(v))\n"
   ]
  },
  {
   "cell_type": "code",
   "execution_count": 89,
   "metadata": {},
   "outputs": [],
   "source": [
    "episode_count = {}\n",
    "for exp in experiments:\n",
    "    exp_name = exp[:-5]\n",
    "    episode_count[exp_name] = []\n",
    "    for agent_trial, data in results[exp_name].items():\n",
    "        if len(data['rewards']) >= 0: # manually remove outliers\n",
    "            episode_count[exp_name].append(len(data['rewards']))\n",
    "            \n",
    "graph['Number of Episodes - Mean'] = []\n",
    "for k,v in episode_count.items():\n",
    "    graph['Number of Episodes - Mean'].append(np.mean(v))\n",
    "\n",
    "graph['Number of Episodes - Std Deviation'] = []\n",
    "for k,v in episode_count.items():\n",
    "    graph['Number of Episodes - Std Deviation'].append(np.std(v))"
   ]
  },
  {
   "cell_type": "code",
   "execution_count": 90,
   "metadata": {},
   "outputs": [
    {
     "data": {
      "text/plain": [
       "{'Number of Steps - Mean': [47.28377016129032,\n",
       "  49.768110621634854,\n",
       "  44.898732663797226],\n",
       " 'Number of Steps - Std Deviation': [26.60376289741759,\n",
       "  25.98259793027939,\n",
       "  24.602898884007157],\n",
       " 'Episode Total Reward - Mean': [0.5102400453629031,\n",
       "  0.4627055800293685,\n",
       "  0.49407376853180285],\n",
       " 'Episode Total Reward - Std Deviation': [0.5189740848735714,\n",
       "  0.5216806458305305,\n",
       "  0.5187032530647315],\n",
       " 'Number of Episodes - Mean': [52.906666666666666, 54.48, 55.76],\n",
       " 'Number of Episodes - Std Deviation': [22.729231301466303,\n",
       "  25.323959669319752,\n",
       "  24.429403049058184]}"
      ]
     },
     "execution_count": 90,
     "metadata": {},
     "output_type": "execute_result"
    }
   ],
   "source": [
    "graph"
   ]
  },
  {
   "cell_type": "code",
   "execution_count": 97,
   "metadata": {},
   "outputs": [
    {
     "data": {
      "text/plain": [
       "dict_keys(['focused experience sharing', 'baseline', 'regular experience sharing'])"
      ]
     },
     "execution_count": 97,
     "metadata": {},
     "output_type": "execute_result"
    }
   ],
   "source": [
    "experiments_dp.keys()"
   ]
  },
  {
   "cell_type": "code",
   "execution_count": 98,
   "metadata": {},
   "outputs": [
    {
     "data": {
      "text/html": [
       "<div>\n",
       "<style scoped>\n",
       "    .dataframe tbody tr th:only-of-type {\n",
       "        vertical-align: middle;\n",
       "    }\n",
       "\n",
       "    .dataframe tbody tr th {\n",
       "        vertical-align: top;\n",
       "    }\n",
       "\n",
       "    .dataframe thead th {\n",
       "        text-align: right;\n",
       "    }\n",
       "</style>\n",
       "<table border=\"1\" class=\"dataframe\">\n",
       "  <thead>\n",
       "    <tr style=\"text-align: left;\">\n",
       "      <th></th>\n",
       "      <th>regular experience sharing</th>\n",
       "      <th>baseline</th>\n",
       "      <th>focused experience sharing</th>\n",
       "    </tr>\n",
       "  </thead>\n",
       "  <tbody>\n",
       "    <tr>\n",
       "      <th>Number of Steps - Mean</th>\n",
       "      <td>47.28</td>\n",
       "      <td>49.77</td>\n",
       "      <td>44.90</td>\n",
       "    </tr>\n",
       "    <tr>\n",
       "      <th>Number of Steps - Std Deviation</th>\n",
       "      <td>26.60</td>\n",
       "      <td>25.98</td>\n",
       "      <td>24.60</td>\n",
       "    </tr>\n",
       "    <tr>\n",
       "      <th>Episode Total Reward - Mean</th>\n",
       "      <td>0.51</td>\n",
       "      <td>0.46</td>\n",
       "      <td>0.49</td>\n",
       "    </tr>\n",
       "    <tr>\n",
       "      <th>Episode Total Reward - Std Deviation</th>\n",
       "      <td>0.52</td>\n",
       "      <td>0.52</td>\n",
       "      <td>0.52</td>\n",
       "    </tr>\n",
       "    <tr>\n",
       "      <th>Number of Episodes - Mean</th>\n",
       "      <td>52.91</td>\n",
       "      <td>54.48</td>\n",
       "      <td>55.76</td>\n",
       "    </tr>\n",
       "    <tr>\n",
       "      <th>Number of Episodes - Std Deviation</th>\n",
       "      <td>22.73</td>\n",
       "      <td>25.32</td>\n",
       "      <td>24.43</td>\n",
       "    </tr>\n",
       "  </tbody>\n",
       "</table>\n",
       "</div>"
      ],
      "text/plain": [
       "                                      regular experience sharing  baseline  \\\n",
       "Number of Steps - Mean                47.28                       49.77      \n",
       "Number of Steps - Std Deviation       26.60                       25.98      \n",
       "Episode Total Reward - Mean            0.51                        0.46      \n",
       "Episode Total Reward - Std Deviation   0.52                        0.52      \n",
       "Number of Episodes - Mean             52.91                       54.48      \n",
       "Number of Episodes - Std Deviation    22.73                       25.32      \n",
       "\n",
       "                                      focused experience sharing  \n",
       "Number of Steps - Mean                44.90                       \n",
       "Number of Steps - Std Deviation       24.60                       \n",
       "Episode Total Reward - Mean            0.49                       \n",
       "Episode Total Reward - Std Deviation   0.52                       \n",
       "Number of Episodes - Mean             55.76                       \n",
       "Number of Episodes - Std Deviation    24.43                       "
      ]
     },
     "execution_count": 98,
     "metadata": {},
     "output_type": "execute_result"
    }
   ],
   "source": [
    "pd.set_option(\"display.colheader_justify\",\"left\")\n",
    "df = pd.DataFrame.from_dict(graph)\n",
    "df = df.transpose()\n",
    "# df.columns=experiments_dp.keys()\n",
    "df.columns=[ 'regular experience sharing',  'baseline','focused experience sharing']\n",
    "df = df.round(decimals=2)\n",
    "df.style.set_properties(**{'text-align': 'center'})\n",
    "df.head(10)"
   ]
  },
  {
   "cell_type": "code",
   "execution_count": 99,
   "metadata": {},
   "outputs": [
    {
     "data": {
      "text/html": [
       "<div>\n",
       "<style scoped>\n",
       "    .dataframe tbody tr th:only-of-type {\n",
       "        vertical-align: middle;\n",
       "    }\n",
       "\n",
       "    .dataframe tbody tr th {\n",
       "        vertical-align: top;\n",
       "    }\n",
       "\n",
       "    .dataframe thead th {\n",
       "        text-align: right;\n",
       "    }\n",
       "</style>\n",
       "<table border=\"1\" class=\"dataframe\">\n",
       "  <thead>\n",
       "    <tr style=\"text-align: left;\">\n",
       "      <th></th>\n",
       "      <th>regular experience sharing</th>\n",
       "      <th>baseline</th>\n",
       "      <th>focused experience sharing</th>\n",
       "    </tr>\n",
       "  </thead>\n",
       "  <tbody>\n",
       "    <tr>\n",
       "      <th>Number of Steps - Mean</th>\n",
       "      <td>47.28</td>\n",
       "      <td>49.77</td>\n",
       "      <td>44.90</td>\n",
       "    </tr>\n",
       "    <tr>\n",
       "      <th>Number of Steps - Std Deviation</th>\n",
       "      <td>26.60</td>\n",
       "      <td>25.98</td>\n",
       "      <td>24.60</td>\n",
       "    </tr>\n",
       "    <tr>\n",
       "      <th>Episode Total Reward - Mean</th>\n",
       "      <td>0.51</td>\n",
       "      <td>0.46</td>\n",
       "      <td>0.49</td>\n",
       "    </tr>\n",
       "    <tr>\n",
       "      <th>Episode Total Reward - Std Deviation</th>\n",
       "      <td>0.52</td>\n",
       "      <td>0.52</td>\n",
       "      <td>0.52</td>\n",
       "    </tr>\n",
       "    <tr>\n",
       "      <th>Number of Episodes - Mean</th>\n",
       "      <td>52.91</td>\n",
       "      <td>54.48</td>\n",
       "      <td>55.76</td>\n",
       "    </tr>\n",
       "    <tr>\n",
       "      <th>Number of Episodes - Std Deviation</th>\n",
       "      <td>22.73</td>\n",
       "      <td>25.32</td>\n",
       "      <td>24.43</td>\n",
       "    </tr>\n",
       "  </tbody>\n",
       "</table>\n",
       "</div>"
      ],
      "text/plain": [
       "                                      regular experience sharing  baseline  \\\n",
       "Number of Steps - Mean                47.28                       49.77      \n",
       "Number of Steps - Std Deviation       26.60                       25.98      \n",
       "Episode Total Reward - Mean            0.51                        0.46      \n",
       "Episode Total Reward - Std Deviation   0.52                        0.52      \n",
       "Number of Episodes - Mean             52.91                       54.48      \n",
       "Number of Episodes - Std Deviation    22.73                       25.32      \n",
       "\n",
       "                                      focused experience sharing  \n",
       "Number of Steps - Mean                44.90                       \n",
       "Number of Steps - Std Deviation       24.60                       \n",
       "Episode Total Reward - Mean            0.49                       \n",
       "Episode Total Reward - Std Deviation   0.52                       \n",
       "Number of Episodes - Mean             55.76                       \n",
       "Number of Episodes - Std Deviation    24.43                       "
      ]
     },
     "execution_count": 99,
     "metadata": {},
     "output_type": "execute_result"
    }
   ],
   "source": [
    "df.head(10)"
   ]
  },
  {
   "cell_type": "code",
   "execution_count": 100,
   "metadata": {},
   "outputs": [
    {
     "data": {
      "image/png": "[encoded data removed]",
      "text/plain": [
       "<Figure size 432x288 with 1 Axes>"
      ]
     },
     "metadata": {
      "needs_background": "light"
     },
     "output_type": "display_data"
    }
   ],
   "source": [
    "colors = ['#003FFF', '#03ED3A', '#E8000B']\n",
    "sns.barplot(x=df.columns, y=df.loc['Number of Episodes - Mean'], palette=colors)\n",
    "# plt.grid(which='major', axis='y')\n",
    "plt.ylabel(\"Average Number of Episodes to Solve\")\n",
    "plt.savefig('res4.png', dpi=300)\n"
   ]
  },
  {
   "cell_type": "code",
   "execution_count": 101,
   "metadata": {},
   "outputs": [
    {
     "data": {
      "image/png": "[encoded data removed]",
      "text/plain": [
       "<Figure size 432x288 with 1 Axes>"
      ]
     },
     "metadata": {
      "needs_background": "light"
     },
     "output_type": "display_data"
    }
   ],
   "source": [
    "sns.barplot(x=df.columns, y=df.loc['Number of Steps - Mean'], palette=colors)\n",
    "plt.ylabel(\"Average Number of Steps per Episode\")\n",
    "plt.savefig('res5.png', dpi=300)\n"
   ]
  },
  {
   "cell_type": "code",
   "execution_count": 102,
   "metadata": {},
   "outputs": [
    {
     "data": {
      "image/png": "[encoded data removed]",
      "text/plain": [
       "<Figure size 432x288 with 1 Axes>"
      ]
     },
     "metadata": {
      "needs_background": "light"
     },
     "output_type": "display_data"
    }
   ],
   "source": [
    "sns.barplot(x=df.columns, y=df.loc['Episode Total Reward - Mean'], palette=colors)\n",
    "plt.ylabel(\"Average Reward Per Episode\")\n",
    "plt.savefig('res6.png', dpi=300)\n",
    "\n"
   ]
  },
  {
   "cell_type": "code",
   "execution_count": 96,
   "metadata": {},
   "outputs": [
    {
     "name": "stdout",
     "output_type": "stream",
     "text": [
      "\\begin{tabular}{lrrr}\n",
      "\\toprule\n",
      "{} &  focused experience sharing &  baseline &  regular experience sharing \\\\\n",
      "\\midrule\n",
      "Number of Steps - Mean               &  47.28                      &  49.77    &  44.90                      \\\\\n",
      "Number of Steps - Std Deviation      &  26.60                      &  25.98    &  24.60                      \\\\\n",
      "Episode Total Reward - Mean          &   0.51                      &   0.46    &   0.49                      \\\\\n",
      "Episode Total Reward - Std Deviation &   0.52                      &   0.52    &   0.52                      \\\\\n",
      "Number of Episodes - Mean            &  52.91                      &  54.48    &  55.76                      \\\\\n",
      "Number of Episodes - Std Deviation   &  22.73                      &  25.32    &  24.43                      \\\\\n",
      "\\bottomrule\n",
      "\\end{tabular}\n",
      "\n"
     ]
    }
   ],
   "source": [
    "print(df.to_latex())"
   ]
  },
  {
   "cell_type": "code",
   "execution_count": 103,
   "metadata": {},
   "outputs": [
    {
     "name": "stdout",
     "output_type": "stream",
     "text": [
      "DQN_Malmo_Seq-MinecraftBasicNew-v0-20181021-012241-52 vs  DQN_Malmo_Seq-MinecraftBasicNew-v0-20181021-085629-89\n",
      "\n",
      "\n",
      "Ks_2sampResult(statistic=0.0733333333333333, pvalue=0.7999936509872291)\n",
      "\n",
      "\n",
      "DQN_Malmo_Seq-MinecraftBasicNew-v0-20181021-012241-52 vs  DQN_Malmo_Seq-MinecraftBasicNew-v0-20181021-234733-03\n",
      "\n",
      "\n",
      "Ks_2sampResult(statistic=0.09999999999999998, pvalue=0.42194314889685375)\n",
      "\n",
      "\n",
      "DQN_Malmo_Seq-MinecraftBasicNew-v0-20181021-085629-89 vs  DQN_Malmo_Seq-MinecraftBasicNew-v0-20181021-234733-03\n",
      "\n",
      "\n",
      "Ks_2sampResult(statistic=0.06666666666666665, pvalue=0.8820145641581103)\n",
      "\n",
      "\n"
     ]
    }
   ],
   "source": [
    "def calc_stats(res):\n",
    "    # get specific variable to compare\n",
    "    all_values = list(res.items())\n",
    "    samples = list(combinations(all_values, 2))\n",
    "    for sample in samples:\n",
    "        print(sample[0][0], \"vs \",  sample[1][0])\n",
    "        print(\"\\n\")\n",
    "        print(stats.ks_2samp(sample[0][1], sample[1][1]))  \n",
    "        print(\"\\n\")\n",
    "\n",
    "calc_stats(episode_count)"
   ]
  },
  {
   "cell_type": "code",
   "execution_count": null,
   "metadata": {},
   "outputs": [],
   "source": []
  }
 ],
 "metadata": {
  "kernelspec": {
   "display_name": "Python [default]",
   "language": "python",
   "name": "python3"
  },
  "language_info": {
   "codemirror_mode": {
    "name": "ipython",
    "version": 3
   },
   "file_extension": ".py",
   "mimetype": "text/x-python",
   "name": "python",
   "nbconvert_exporter": "python",
   "pygments_lexer": "ipython3",
   "version": "3.6.6"
  },
  "varInspector": {
   "cols": {
    "lenName": 16,
    "lenType": 16,
    "lenVar": 40
   },
   "kernels_config": {
    "python": {
     "delete_cmd_postfix": "",
     "delete_cmd_prefix": "del ",
     "library": "var_list.py",
     "varRefreshCmd": "print(var_dic_list())"
    },
    "r": {
     "delete_cmd_postfix": ") ",
     "delete_cmd_prefix": "rm(",
     "library": "var_list.r",
     "varRefreshCmd": "cat(var_dic_list()) "
    }
   },
   "types_to_exclude": [
    "module",
    "function",
    "builtin_function_or_method",
    "instance",
    "_Feature"
   ],
   "window_display": false
  }
 },
 "nbformat": 4,
 "nbformat_minor": 2
}
