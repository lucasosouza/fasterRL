{
 "cells": [
  {
   "cell_type": "code",
   "execution_count": 1,
   "metadata": {},
   "outputs": [],
   "source": [
    "import numpy as np\n",
    "import gym"
   ]
  },
  {
   "cell_type": "code",
   "execution_count": 2,
   "metadata": {},
   "outputs": [],
   "source": [
    "env = gym.make(\"CartPole-v0\")\n",
    "space = env.observation_space"
   ]
  },
  {
   "cell_type": "code",
   "execution_count": 3,
   "metadata": {},
   "outputs": [
    {
     "data": {
      "text/plain": [
       "Box(4,)"
      ]
     },
     "execution_count": 3,
     "metadata": {},
     "output_type": "execute_result"
    }
   ],
   "source": [
    "space"
   ]
  },
  {
   "cell_type": "code",
   "execution_count": 48,
   "metadata": {},
   "outputs": [
    {
     "name": "stdout",
     "output_type": "stream",
     "text": [
      "-4.8 4.8\n",
      "-3.4028235e+38 3.4028235e+38\n",
      "-0.41887903 0.41887903\n",
      "-3.4028235e+38 3.4028235e+38\n"
     ]
    }
   ],
   "source": [
    "state_bins = []\n",
    "n_bins = 10\n",
    "\n",
    "# regular continuous environments\n",
    "for i in range(space.shape[0]):\n",
    "    low, high = space.low[i], space.high[i]\n",
    "    print(low, high)\n",
    "    bins = np.histogram_bin_edges([low, high], n_bins)\n",
    "    state_bins.append(bins[1:-1])\n"
   ]
  },
  {
   "cell_type": "code",
   "execution_count": 49,
   "metadata": {},
   "outputs": [
    {
     "data": {
      "text/plain": [
       "[array([-3.8400002 , -2.88      , -1.9200001 , -0.96000004,  0.        ,\n",
       "         0.96000004,  1.9200001 ,  2.88      ,  3.8400002 ], dtype=float32),\n",
       " array([-2.7222588e+38, -2.0416941e+38, -1.3611294e+38, -6.8056469e+37,\n",
       "         0.0000000e+00,  6.8056469e+37,  1.3611294e+38,  2.0416941e+38,\n",
       "         2.7222588e+38], dtype=float32),\n",
       " array([-0.3351032 , -0.25132743, -0.1675516 , -0.0837758 ,  0.        ,\n",
       "         0.0837758 ,  0.1675516 ,  0.25132743,  0.3351032 ], dtype=float32),\n",
       " array([-2.7222588e+38, -2.0416941e+38, -1.3611294e+38, -6.8056469e+37,\n",
       "         0.0000000e+00,  6.8056469e+37,  1.3611294e+38,  2.0416941e+38,\n",
       "         2.7222588e+38], dtype=float32)]"
      ]
     },
     "execution_count": 49,
     "metadata": {},
     "output_type": "execute_result"
    }
   ],
   "source": [
    "state_bins"
   ]
  },
  {
   "cell_type": "code",
   "execution_count": 53,
   "metadata": {},
   "outputs": [
    {
     "data": {
      "text/plain": [
       "array([-2.8822618e+00,  2.5582157e+38, -1.6251749e-01, -2.3985379e+38],\n",
       "      dtype=float32)"
      ]
     },
     "execution_count": 53,
     "metadata": {},
     "output_type": "execute_result"
    }
   ],
   "source": [
    "# sample = space.sample()\n",
    "sample"
   ]
  },
  {
   "cell_type": "code",
   "execution_count": 156,
   "metadata": {},
   "outputs": [
    {
     "data": {
      "text/plain": [
       "(4, 2)"
      ]
     },
     "execution_count": 156,
     "metadata": {},
     "output_type": "execute_result"
    }
   ],
   "source": [
    "env.observation_space.shape + (env.action_space.n,)"
   ]
  },
  {
   "cell_type": "code",
   "execution_count": 163,
   "metadata": {},
   "outputs": [
    {
     "ename": "TypeError",
     "evalue": "'int' object is not iterable",
     "output_type": "error",
     "traceback": [
      "\u001b[0;31m---------------------------------------------------------------------------\u001b[0m",
      "\u001b[0;31mTypeError\u001b[0m                                 Traceback (most recent call last)",
      "\u001b[0;32m<ipython-input-163-69b6b14cc30a>\u001b[0m in \u001b[0;36m<module>\u001b[0;34m()\u001b[0m\n\u001b[0;32m----> 1\u001b[0;31m \u001b[0mtuple\u001b[0m\u001b[0;34m(\u001b[0m\u001b[0;36m1\u001b[0m\u001b[0;34m)\u001b[0m\u001b[0;34m\u001b[0m\u001b[0m\n\u001b[0m",
      "\u001b[0;31mTypeError\u001b[0m: 'int' object is not iterable"
     ]
    }
   ],
   "source": [
    "tuple(1)"
   ]
  },
  {
   "cell_type": "code",
   "execution_count": 180,
   "metadata": {},
   "outputs": [
    {
     "data": {
      "text/plain": [
       "(1, 2, 3)"
      ]
     },
     "execution_count": 180,
     "metadata": {},
     "output_type": "execute_result"
    }
   ],
   "source": [
    "tuple([1,2,3])"
   ]
  },
  {
   "cell_type": "code",
   "execution_count": 178,
   "metadata": {},
   "outputs": [
    {
     "data": {
      "text/plain": [
       "(1, 4)"
      ]
     },
     "execution_count": 178,
     "metadata": {},
     "output_type": "execute_result"
    }
   ],
   "source": [
    "np.zeros(shape=(1,) + (4,)).shape"
   ]
  },
  {
   "cell_type": "code",
   "execution_count": 175,
   "metadata": {},
   "outputs": [
    {
     "name": "stdout",
     "output_type": "stream",
     "text": [
      "2\n"
     ]
    }
   ],
   "source": [
    "if hasattr(env.action_space, 'n'):\n",
    "    print(env.action_space.n)"
   ]
  },
  {
   "cell_type": "code",
   "execution_count": 171,
   "metadata": {},
   "outputs": [
    {
     "data": {
      "text/plain": [
       "gym.spaces.discrete.Discrete"
      ]
     },
     "execution_count": 171,
     "metadata": {},
     "output_type": "execute_result"
    }
   ],
   "source": [
    "type(env.action_space)"
   ]
  },
  {
   "cell_type": "code",
   "execution_count": 170,
   "metadata": {},
   "outputs": [
    {
     "data": {
      "text/plain": [
       "gym.spaces.box.Box"
      ]
     },
     "execution_count": 170,
     "metadata": {},
     "output_type": "execute_result"
    }
   ],
   "source": [
    "type(env.observation_space)"
   ]
  },
  {
   "cell_type": "code",
   "execution_count": null,
   "metadata": {},
   "outputs": [],
   "source": [
    "check if variabl"
   ]
  },
  {
   "cell_type": "code",
   "execution_count": 56,
   "metadata": {},
   "outputs": [
    {
     "data": {
      "text/plain": [
       "'1831'"
      ]
     },
     "execution_count": 56,
     "metadata": {},
     "output_type": "execute_result"
    }
   ],
   "source": [
    "''.join([str(np.digitize(s, b)) for s,b in zip(sample, state_bins)])\n",
    "# can have that in a dictionary\n",
    "# or it might just be easier to have a matrix notation?\n",
    "# having a position is faster than searching for a hash indeed\n",
    "# if I have 4 variables with 10 bins each, that gives me 10**4 possible positions.\n",
    "# which I can also do b"
   ]
  },
  {
   "cell_type": "code",
   "execution_count": 31,
   "metadata": {},
   "outputs": [
    {
     "data": {
      "text/plain": [
       "array([-5., -4., -3., -2., -1.,  0.,  1.,  2.,  3.,  4.,  5.])"
      ]
     },
     "execution_count": 31,
     "metadata": {},
     "output_type": "execute_result"
    }
   ],
   "source": [
    "np.linspace(-5, +5., n_bins+1)"
   ]
  },
  {
   "cell_type": "code",
   "execution_count": 35,
   "metadata": {},
   "outputs": [
    {
     "data": {
      "text/plain": [
       "array([-5., -4., -3., -2., -1.,  0.,  1.,  2.,  3.,  4.,  5.])"
      ]
     },
     "execution_count": 35,
     "metadata": {},
     "output_type": "execute_result"
    }
   ],
   "source": [
    "np.histogram_bin_edges([-5, -3, 0, 5.], n_bins)"
   ]
  },
  {
   "cell_type": "markdown",
   "metadata": {},
   "source": [
    "The good thing about using histogram is that I can use multiple values. Essentialy the result is the same as using linear spaces, with a little bit more flexibility, so I would prefer this option in implementation"
   ]
  },
  {
   "cell_type": "code",
   "execution_count": 14,
   "metadata": {},
   "outputs": [
    {
     "data": {
      "text/plain": [
       "array([-5., -4., -3., -2., -1.,  0.,  1.,  2.,  3.,  4.,  5.])"
      ]
     },
     "execution_count": 14,
     "metadata": {},
     "output_type": "execute_result"
    }
   ],
   "source": [
    "np.histogram_bin_edges([-5., 5.], n_bins)"
   ]
  },
  {
   "cell_type": "code",
   "execution_count": 12,
   "metadata": {},
   "outputs": [],
   "source": [
    "samples = []\n",
    "n_samples = 1000\n",
    "for s in range(n_samples):\n",
    "    samples.append(space.sample())\n",
    "samples = np.array(samples)"
   ]
  },
  {
   "cell_type": "code",
   "execution_count": 13,
   "metadata": {},
   "outputs": [
    {
     "data": {
      "text/plain": [
       "array([-3.3978778e+38, -2.7178372e+38, -2.0377966e+38, -1.3577560e+38,\n",
       "       -6.7771542e+37,  2.3251754e+35,  6.8236577e+37,  1.3624064e+38,\n",
       "        2.0424470e+38,  2.7224876e+38,  3.4025282e+38], dtype=float32)"
      ]
     },
     "execution_count": 13,
     "metadata": {},
     "output_type": "execute_result"
    }
   ],
   "source": [
    "np.histogram_bin_edges(samples[:, 1], n_bins)"
   ]
  },
  {
   "cell_type": "code",
   "execution_count": 7,
   "metadata": {},
   "outputs": [],
   "source": [
    "samples_fa = []\n",
    "env.reset()\n",
    "for s in range(n_samples):\n",
    "    state, _, done, _ = env.step(env.action_space.sample())\n",
    "    samples_fa.append(state)\n",
    "    if done:\n",
    "        env.reset()\n",
    "        \n",
    "samples_fa = np.array(samples_fa)"
   ]
  },
  {
   "cell_type": "code",
   "execution_count": 8,
   "metadata": {},
   "outputs": [
    {
     "data": {
      "text/plain": [
       "array([-1.53189302, -1.20674347, -0.88159392, -0.55644437, -0.23129482,\n",
       "        0.09385474,  0.41900429,  0.74415384,  1.06930339,  1.39445294,\n",
       "        1.71960249])"
      ]
     },
     "execution_count": 8,
     "metadata": {},
     "output_type": "execute_result"
    }
   ],
   "source": [
    "np.histogram_bin_edges(samples_fa[:, 1], n_bins)"
   ]
  },
  {
   "cell_type": "code",
   "execution_count": null,
   "metadata": {},
   "outputs": [],
   "source": [
    "# the range allowed is not a good indicative of the actual range\n",
    "# but how to know the actual range?\n"
   ]
  },
  {
   "cell_type": "code",
   "execution_count": 50,
   "metadata": {},
   "outputs": [
    {
     "data": {
      "text/plain": [
       "array([ 6.5322781e-01,  2.8964605e+38, -3.5936800e-01, -2.8098522e+38],\n",
       "      dtype=float32)"
      ]
     },
     "execution_count": 50,
     "metadata": {},
     "output_type": "execute_result"
    }
   ],
   "source": [
    "state = space.sample()\n",
    "state"
   ]
  },
  {
   "cell_type": "code",
   "execution_count": 37,
   "metadata": {},
   "outputs": [
    {
     "data": {
      "text/plain": [
       "999"
      ]
     },
     "execution_count": 37,
     "metadata": {},
     "output_type": "execute_result"
    }
   ],
   "source": [
    "s"
   ]
  },
  {
   "cell_type": "code",
   "execution_count": 62,
   "metadata": {},
   "outputs": [
    {
     "data": {
      "text/plain": [
       "array(0)"
      ]
     },
     "execution_count": 62,
     "metadata": {},
     "output_type": "execute_result"
    }
   ],
   "source": [
    "np.digitize(-4., state_bins, right=True)"
   ]
  },
  {
   "cell_type": "code",
   "execution_count": null,
   "metadata": {},
   "outputs": [],
   "source": [
    "for idx in range(len(state)):\n",
    "    place = np.digitize(state[idx], state_bins[idx], right=True)))\n"
   ]
  },
  {
   "cell_type": "code",
   "execution_count": 9,
   "metadata": {},
   "outputs": [
    {
     "data": {
      "text/plain": [
       "[array([-3.84000015, -2.88000011, -1.92000008, -0.96000004,  0.        ,\n",
       "         0.96000004,  1.92000008,  2.88000011,  3.84000015,  4.80000019]),\n",
       " array([-2.72225877e+38, -2.04169408e+38, -1.36112939e+38, -6.80564693e+37,\n",
       "         0.00000000e+00,  6.80564693e+37,  1.36112939e+38,  2.04169408e+38,\n",
       "         2.72225877e+38,  3.40282347e+38]),\n",
       " array([-0.33510323, -0.25132742, -0.16755161, -0.08377581,  0.        ,\n",
       "         0.08377581,  0.16755161,  0.25132742,  0.33510323,  0.41887903]),\n",
       " array([-2.72225877e+38, -2.04169408e+38, -1.36112939e+38, -6.80564693e+37,\n",
       "         0.00000000e+00,  6.80564693e+37,  1.36112939e+38,  2.04169408e+38,\n",
       "         2.72225877e+38,  3.40282347e+38])]"
      ]
     },
     "execution_count": 9,
     "metadata": {},
     "output_type": "execute_result"
    }
   ],
   "source": [
    "state_bins"
   ]
  },
  {
   "cell_type": "code",
   "execution_count": 25,
   "metadata": {},
   "outputs": [
    {
     "name": "stdout",
     "output_type": "stream",
     "text": [
      "100\n"
     ]
    }
   ],
   "source": []
  },
  {
   "cell_type": "code",
   "execution_count": 58,
   "metadata": {},
   "outputs": [],
   "source": [
    "m = np.zeros((10,10,10,10))"
   ]
  },
  {
   "cell_type": "code",
   "execution_count": 61,
   "metadata": {},
   "outputs": [
    {
     "ename": "ValueError",
     "evalue": "Input object to FillWithScalar is not a scalar",
     "output_type": "error",
     "traceback": [
      "\u001b[0;31m---------------------------------------------------------------------------\u001b[0m",
      "\u001b[0;31mValueError\u001b[0m                                Traceback (most recent call last)",
      "\u001b[0;32m<ipython-input-61-78cab3d92ccd>\u001b[0m in \u001b[0;36m<module>\u001b[0;34m()\u001b[0m\n\u001b[0;32m----> 1\u001b[0;31m \u001b[0mm\u001b[0m\u001b[0;34m.\u001b[0m\u001b[0mfill\u001b[0m\u001b[0;34m(\u001b[0m\u001b[0;34m[\u001b[0m\u001b[0;34m]\u001b[0m\u001b[0;34m)\u001b[0m\u001b[0;34m\u001b[0m\u001b[0m\n\u001b[0m",
      "\u001b[0;31mValueError\u001b[0m: Input object to FillWithScalar is not a scalar"
     ]
    }
   ],
   "source": [
    "m.fill([])"
   ]
  },
  {
   "cell_type": "markdown",
   "metadata": {},
   "source": [
    "### Matrix Approach for Storing Experiences"
   ]
  },
  {
   "cell_type": "markdown",
   "metadata": {},
   "source": [
    "Why a matrix? Allows for bins with different sizes, which the other approach does not"
   ]
  },
  {
   "cell_type": "code",
   "execution_count": 131,
   "metadata": {},
   "outputs": [],
   "source": [
    "bin_sizes = [2,3,10,2]"
   ]
  },
  {
   "cell_type": "code",
   "execution_count": 132,
   "metadata": {},
   "outputs": [],
   "source": [
    "ranges = []\n",
    "for bs in bin_sizes:\n",
    "    ranges.append(range(bs))"
   ]
  },
  {
   "cell_type": "code",
   "execution_count": 135,
   "metadata": {},
   "outputs": [
    {
     "data": {
      "text/plain": [
       "120"
      ]
     },
     "execution_count": 135,
     "metadata": {},
     "output_type": "execute_result"
    }
   ],
   "source": [
    "from itertools import product\n",
    "all_positions = list(product(*ranges))\n",
    "len(all_positions)"
   ]
  },
  {
   "cell_type": "code",
   "execution_count": 138,
   "metadata": {},
   "outputs": [],
   "source": [
    "m2 = np.full(bin_sizes, list)\n",
    "for p in all_positions:\n",
    "    m2[p] = []"
   ]
  },
  {
   "cell_type": "code",
   "execution_count": 142,
   "metadata": {},
   "outputs": [],
   "source": [
    "m2[all_positions[0]].append(2)"
   ]
  },
  {
   "cell_type": "code",
   "execution_count": 181,
   "metadata": {},
   "outputs": [
    {
     "ename": "SyntaxError",
     "evalue": "invalid syntax (<ipython-input-181-97946106d11f>, line 1)",
     "output_type": "error",
     "traceback": [
      "\u001b[0;36m  File \u001b[0;32m\"<ipython-input-181-97946106d11f>\"\u001b[0;36m, line \u001b[0;32m1\u001b[0m\n\u001b[0;31m    a -\u001b[0m\n\u001b[0m       ^\u001b[0m\n\u001b[0;31mSyntaxError\u001b[0m\u001b[0;31m:\u001b[0m invalid syntax\n"
     ]
    }
   ],
   "source": [
    "a -"
   ]
  },
  {
   "cell_type": "code",
   "execution_count": 182,
   "metadata": {},
   "outputs": [],
   "source": [
    "a = None or 10"
   ]
  },
  {
   "cell_type": "code",
   "execution_count": 183,
   "metadata": {},
   "outputs": [
    {
     "data": {
      "text/plain": [
       "10"
      ]
     },
     "execution_count": 183,
     "metadata": {},
     "output_type": "execute_result"
    }
   ],
   "source": [
    "a"
   ]
  },
  {
   "cell_type": "markdown",
   "metadata": {},
   "source": [
    "## Handling q-table as matrix"
   ]
  },
  {
   "cell_type": "code",
   "execution_count": 184,
   "metadata": {},
   "outputs": [],
   "source": [
    "m = np.zeros((5,5))"
   ]
  },
  {
   "cell_type": "code",
   "execution_count": 185,
   "metadata": {},
   "outputs": [
    {
     "data": {
      "text/plain": [
       "array([[0., 0., 0., 0., 0.],\n",
       "       [0., 0., 0., 0., 0.],\n",
       "       [0., 0., 0., 0., 0.],\n",
       "       [0., 0., 0., 0., 0.],\n",
       "       [0., 0., 0., 0., 0.]])"
      ]
     },
     "execution_count": 185,
     "metadata": {},
     "output_type": "execute_result"
    }
   ],
   "source": [
    "m"
   ]
  },
  {
   "cell_type": "code",
   "execution_count": 191,
   "metadata": {},
   "outputs": [
    {
     "data": {
      "text/plain": [
       "[(1, 0.0), (0, 0.0), (2, 0.0), (3, 0.0), (4, 0.0)]"
      ]
     },
     "execution_count": 191,
     "metadata": {},
     "output_type": "execute_result"
    }
   ],
   "source": [
    "a = list(enumerate(m[0]))\n",
    "np.random.shuffle(a)\n",
    "a\n"
   ]
  },
  {
   "cell_type": "code",
   "execution_count": 206,
   "metadata": {},
   "outputs": [
    {
     "data": {
      "text/plain": [
       "[(2, 0.0), (0, 0.0), (3, 0.0), (1, 0.0), (4, 0.0)]"
      ]
     },
     "execution_count": 206,
     "metadata": {},
     "output_type": "execute_result"
    }
   ],
   "source": [
    "np.random.shuffle(a)\n",
    "a"
   ]
  },
  {
   "cell_type": "markdown",
   "metadata": {},
   "source": [
    "## Handling the edges in action discretizer"
   ]
  },
  {
   "cell_type": "code",
   "execution_count": 208,
   "metadata": {},
   "outputs": [
    {
     "data": {
      "text/plain": [
       "array([-4.8000002e+00, -3.4028235e+38, -4.1887903e-01, -3.4028235e+38],\n",
       "      dtype=float32)"
      ]
     },
     "execution_count": 208,
     "metadata": {},
     "output_type": "execute_result"
    }
   ],
   "source": [
    "env.observation_space.low"
   ]
  },
  {
   "cell_type": "code",
   "execution_count": 210,
   "metadata": {},
   "outputs": [
    {
     "data": {
      "text/plain": [
       "[array([-3.8400002 , -2.88      , -1.9200001 , -0.96000004,  0.        ,\n",
       "         0.96000004,  1.9200001 ,  2.88      ,  3.8400002 ], dtype=float32),\n",
       " array([-2.7222588e+38, -2.0416941e+38, -1.3611294e+38, -6.8056469e+37,\n",
       "         0.0000000e+00,  6.8056469e+37,  1.3611294e+38,  2.0416941e+38,\n",
       "         2.7222588e+38], dtype=float32),\n",
       " array([-0.3351032 , -0.25132743, -0.1675516 , -0.0837758 ,  0.        ,\n",
       "         0.0837758 ,  0.1675516 ,  0.25132743,  0.3351032 ], dtype=float32),\n",
       " array([-2.7222588e+38, -2.0416941e+38, -1.3611294e+38, -6.8056469e+37,\n",
       "         0.0000000e+00,  6.8056469e+37,  1.3611294e+38,  2.0416941e+38,\n",
       "         2.7222588e+38], dtype=float32)]"
      ]
     },
     "execution_count": 210,
     "metadata": {},
     "output_type": "execute_result"
    }
   ],
   "source": [
    "state_bins"
   ]
  },
  {
   "cell_type": "code",
   "execution_count": 223,
   "metadata": {},
   "outputs": [
    {
     "data": {
      "text/plain": [
       "0.31062437474148186"
      ]
     },
     "execution_count": 223,
     "metadata": {},
     "output_type": "execute_result"
    }
   ],
   "source": [
    "np.random.uniform(low=0.1, high=0.5)"
   ]
  },
  {
   "cell_type": "markdown",
   "metadata": {},
   "source": [
    "## Converting indices from flatenned to array"
   ]
  },
  {
   "cell_type": "code",
   "execution_count": 230,
   "metadata": {},
   "outputs": [],
   "source": [
    "m = np.random.random((3,3,2))"
   ]
  },
  {
   "cell_type": "code",
   "execution_count": 231,
   "metadata": {},
   "outputs": [
    {
     "data": {
      "text/plain": [
       "array([[[0.58530634, 0.53319085],\n",
       "        [0.4682592 , 0.69498205],\n",
       "        [0.13731083, 0.47027022]],\n",
       "\n",
       "       [[0.49638962, 0.45755495],\n",
       "        [0.93133414, 0.0531618 ],\n",
       "        [0.32118027, 0.69028205]],\n",
       "\n",
       "       [[0.52803746, 0.75931338],\n",
       "        [0.12626082, 0.46757376],\n",
       "        [0.92789199, 0.48048213]]])"
      ]
     },
     "execution_count": 231,
     "metadata": {},
     "output_type": "execute_result"
    }
   ],
   "source": [
    "m"
   ]
  },
  {
   "cell_type": "code",
   "execution_count": 234,
   "metadata": {},
   "outputs": [
    {
     "data": {
      "text/plain": [
       "0.12626081572584025"
      ]
     },
     "execution_count": 234,
     "metadata": {},
     "output_type": "execute_result"
    }
   ],
   "source": [
    "m[2,1,0]"
   ]
  },
  {
   "cell_type": "code",
   "execution_count": 232,
   "metadata": {},
   "outputs": [],
   "source": [
    "f = m.flatten()"
   ]
  },
  {
   "cell_type": "code",
   "execution_count": 236,
   "metadata": {},
   "outputs": [
    {
     "data": {
      "text/plain": [
       "array([0.58530634, 0.53319085, 0.4682592 , 0.69498205, 0.13731083,\n",
       "       0.47027022, 0.49638962, 0.45755495, 0.93133414, 0.0531618 ,\n",
       "       0.32118027, 0.69028205, 0.52803746, 0.75931338, 0.12626082,\n",
       "       0.46757376, 0.92789199, 0.48048213])"
      ]
     },
     "execution_count": 236,
     "metadata": {},
     "output_type": "execute_result"
    }
   ],
   "source": [
    "f"
   ]
  },
  {
   "cell_type": "code",
   "execution_count": 235,
   "metadata": {},
   "outputs": [
    {
     "data": {
      "text/plain": [
       "0.12626081572584025"
      ]
     },
     "execution_count": 235,
     "metadata": {},
     "output_type": "execute_result"
    }
   ],
   "source": [
    "f[14]"
   ]
  },
  {
   "cell_type": "code",
   "execution_count": 248,
   "metadata": {},
   "outputs": [],
   "source": [
    "dim_sizes = [int(np.prod(size[i+1:])) for i in range(len(size))]"
   ]
  },
  {
   "cell_type": "code",
   "execution_count": 249,
   "metadata": {},
   "outputs": [
    {
     "data": {
      "text/plain": [
       "[6, 2, 1]"
      ]
     },
     "execution_count": 249,
     "metadata": {},
     "output_type": "execute_result"
    }
   ],
   "source": [
    "dim_sizes"
   ]
  },
  {
   "cell_type": "code",
   "execution_count": 266,
   "metadata": {},
   "outputs": [
    {
     "data": {
      "text/plain": [
       "[1, 5, 0]"
      ]
     },
     "execution_count": 266,
     "metadata": {},
     "output_type": "execute_result"
    }
   ],
   "source": [
    "size = (10,18,1)\n",
    "dim_sizes = [int(np.prod(size[i+1:])) for i in range(len(size))]\n",
    "position = 23\n",
    "vec = []\n",
    "for ds in dim_sizes:\n",
    "    vec.append(position // ds)\n",
    "    position = position % ds\n",
    "\n",
    "vec"
   ]
  },
  {
   "cell_type": "code",
   "execution_count": 254,
   "metadata": {},
   "outputs": [
    {
     "data": {
      "text/plain": [
       "array([[[0.29198098],\n",
       "        [0.2279634 ],\n",
       "        [0.57367537],\n",
       "        [0.93155115],\n",
       "        [0.18302308],\n",
       "        [0.83884435],\n",
       "        [0.13248477],\n",
       "        [0.75793793],\n",
       "        [0.93848628],\n",
       "        [0.56008806],\n",
       "        [0.37161432],\n",
       "        [0.7342732 ],\n",
       "        [0.15747513],\n",
       "        [0.87849261],\n",
       "        [0.26507715],\n",
       "        [0.98402244],\n",
       "        [0.00460441],\n",
       "        [0.29269728]],\n",
       "\n",
       "       [[0.25815156],\n",
       "        [0.09080665],\n",
       "        [0.82237483],\n",
       "        [0.46825844],\n",
       "        [0.23247984],\n",
       "        [0.0106575 ],\n",
       "        [0.24370618],\n",
       "        [0.24288097],\n",
       "        [0.40445084],\n",
       "        [0.70395593],\n",
       "        [0.07118733],\n",
       "        [0.65669668],\n",
       "        [0.9974324 ],\n",
       "        [0.97925327],\n",
       "        [0.95293906],\n",
       "        [0.54299267],\n",
       "        [0.86610272],\n",
       "        [0.34507423]],\n",
       "\n",
       "       [[0.67516929],\n",
       "        [0.93352053],\n",
       "        [0.84942291],\n",
       "        [0.36319739],\n",
       "        [0.15650647],\n",
       "        [0.64905023],\n",
       "        [0.93523422],\n",
       "        [0.92358908],\n",
       "        [0.74246806],\n",
       "        [0.7353223 ],\n",
       "        [0.22674747],\n",
       "        [0.44059171],\n",
       "        [0.3422679 ],\n",
       "        [0.93729675],\n",
       "        [0.97984681],\n",
       "        [0.41881588],\n",
       "        [0.86710544],\n",
       "        [0.36241954]],\n",
       "\n",
       "       [[0.38549653],\n",
       "        [0.09198214],\n",
       "        [0.64541722],\n",
       "        [0.63564858],\n",
       "        [0.62345017],\n",
       "        [0.34448751],\n",
       "        [0.47746475],\n",
       "        [0.85813954],\n",
       "        [0.26535648],\n",
       "        [0.09652111],\n",
       "        [0.70517011],\n",
       "        [0.09488485],\n",
       "        [0.76193791],\n",
       "        [0.87243206],\n",
       "        [0.2852428 ],\n",
       "        [0.08705619],\n",
       "        [0.28785879],\n",
       "        [0.01819249]],\n",
       "\n",
       "       [[0.37572639],\n",
       "        [0.98896709],\n",
       "        [0.55602938],\n",
       "        [0.04556523],\n",
       "        [0.79710403],\n",
       "        [0.7284197 ],\n",
       "        [0.20867489],\n",
       "        [0.90345123],\n",
       "        [0.23995599],\n",
       "        [0.70424727],\n",
       "        [0.45904252],\n",
       "        [0.34018511],\n",
       "        [0.77995634],\n",
       "        [0.59482408],\n",
       "        [0.04275154],\n",
       "        [0.57340583],\n",
       "        [0.83397577],\n",
       "        [0.33455912]],\n",
       "\n",
       "       [[0.72760117],\n",
       "        [0.21755285],\n",
       "        [0.48105515],\n",
       "        [0.2007862 ],\n",
       "        [0.0055692 ],\n",
       "        [0.94872797],\n",
       "        [0.75096656],\n",
       "        [0.35660927],\n",
       "        [0.83972629],\n",
       "        [0.90854736],\n",
       "        [0.22555878],\n",
       "        [0.38990239],\n",
       "        [0.12402162],\n",
       "        [0.34373763],\n",
       "        [0.41121053],\n",
       "        [0.83797611],\n",
       "        [0.99833295],\n",
       "        [0.32094119]],\n",
       "\n",
       "       [[0.04217002],\n",
       "        [0.20290482],\n",
       "        [0.97369396],\n",
       "        [0.48061923],\n",
       "        [0.89582762],\n",
       "        [0.43791054],\n",
       "        [0.26530095],\n",
       "        [0.38019434],\n",
       "        [0.83348346],\n",
       "        [0.72880317],\n",
       "        [0.56125802],\n",
       "        [0.61964051],\n",
       "        [0.09481428],\n",
       "        [0.13312033],\n",
       "        [0.80906032],\n",
       "        [0.54931217],\n",
       "        [0.19371978],\n",
       "        [0.07060608]],\n",
       "\n",
       "       [[0.29192814],\n",
       "        [0.20888092],\n",
       "        [0.53729311],\n",
       "        [0.40462691],\n",
       "        [0.33558026],\n",
       "        [0.75527861],\n",
       "        [0.26016896],\n",
       "        [0.53089023],\n",
       "        [0.51124919],\n",
       "        [0.19811792],\n",
       "        [0.42221842],\n",
       "        [0.6516884 ],\n",
       "        [0.14446248],\n",
       "        [0.13125441],\n",
       "        [0.89161138],\n",
       "        [0.27991171],\n",
       "        [0.99198477],\n",
       "        [0.57778659]],\n",
       "\n",
       "       [[0.68460243],\n",
       "        [0.1580158 ],\n",
       "        [0.52985066],\n",
       "        [0.29328491],\n",
       "        [0.93447045],\n",
       "        [0.91722638],\n",
       "        [0.90799842],\n",
       "        [0.74571876],\n",
       "        [0.35838084],\n",
       "        [0.48034707],\n",
       "        [0.71121864],\n",
       "        [0.95146971],\n",
       "        [0.36349167],\n",
       "        [0.13694275],\n",
       "        [0.13033624],\n",
       "        [0.50994564],\n",
       "        [0.04053749],\n",
       "        [0.72750948]],\n",
       "\n",
       "       [[0.43217013],\n",
       "        [0.30516752],\n",
       "        [0.33755908],\n",
       "        [0.69603122],\n",
       "        [0.24487925],\n",
       "        [0.05310633],\n",
       "        [0.41554875],\n",
       "        [0.54536591],\n",
       "        [0.70395347],\n",
       "        [0.16692145],\n",
       "        [0.99032758],\n",
       "        [0.85981858],\n",
       "        [0.54323336],\n",
       "        [0.78747821],\n",
       "        [0.27943657],\n",
       "        [0.51474632],\n",
       "        [0.01659366],\n",
       "        [0.59115416]]])"
      ]
     },
     "execution_count": 254,
     "metadata": {},
     "output_type": "execute_result"
    }
   ],
   "source": [
    "m = np.random.random(size)\n",
    "m"
   ]
  },
  {
   "cell_type": "code",
   "execution_count": 258,
   "metadata": {},
   "outputs": [
    {
     "data": {
      "text/plain": [
       "0.010657502508262473"
      ]
     },
     "execution_count": 258,
     "metadata": {},
     "output_type": "execute_result"
    }
   ],
   "source": [
    "m.flatten()[23]"
   ]
  },
  {
   "cell_type": "code",
   "execution_count": 260,
   "metadata": {},
   "outputs": [
    {
     "data": {
      "text/plain": [
       "0.010657502508262473"
      ]
     },
     "execution_count": 260,
     "metadata": {},
     "output_type": "execute_result"
    }
   ],
   "source": [
    "m[1,5,0]"
   ]
  },
  {
   "cell_type": "code",
   "execution_count": 261,
   "metadata": {},
   "outputs": [],
   "source": [
    "a = np.random.random((2,2))"
   ]
  },
  {
   "cell_type": "code",
   "execution_count": 264,
   "metadata": {},
   "outputs": [
    {
     "data": {
      "text/plain": [
       "4"
      ]
     },
     "execution_count": 264,
     "metadata": {},
     "output_type": "execute_result"
    }
   ],
   "source": [
    "np.prod((2,2))"
   ]
  },
  {
   "cell_type": "code",
   "execution_count": 265,
   "metadata": {},
   "outputs": [
    {
     "ename": "TypeError",
     "evalue": "'int' object is not iterable",
     "output_type": "error",
     "traceback": [
      "\u001b[0;31m---------------------------------------------------------------------------\u001b[0m",
      "\u001b[0;31mTypeError\u001b[0m                                 Traceback (most recent call last)",
      "\u001b[0;32m<ipython-input-265-0db093100852>\u001b[0m in \u001b[0;36m<module>\u001b[0;34m()\u001b[0m\n\u001b[0;32m----> 1\u001b[0;31m \u001b[0mtuple\u001b[0m\u001b[0;34m(\u001b[0m\u001b[0;36m2\u001b[0m\u001b[0;34m)\u001b[0m\u001b[0;34m\u001b[0m\u001b[0m\n\u001b[0m",
      "\u001b[0;31mTypeError\u001b[0m: 'int' object is not iterable"
     ]
    }
   ],
   "source": [
    "tuple(2)"
   ]
  },
  {
   "cell_type": "code",
   "execution_count": null,
   "metadata": {},
   "outputs": [],
   "source": []
  }
 ],
 "metadata": {
  "kernelspec": {
   "display_name": "Python 3",
   "language": "python",
   "name": "python3"
  },
  "language_info": {
   "codemirror_mode": {
    "name": "ipython",
    "version": 3
   },
   "file_extension": ".py",
   "mimetype": "text/x-python",
   "name": "python",
   "nbconvert_exporter": "python",
   "pygments_lexer": "ipython3",
   "version": "3.6.5"
  },
  "varInspector": {
   "cols": {
    "lenName": 16,
    "lenType": 16,
    "lenVar": 40
   },
   "kernels_config": {
    "python": {
     "delete_cmd_postfix": "",
     "delete_cmd_prefix": "del ",
     "library": "var_list.py",
     "varRefreshCmd": "print(var_dic_list())"
    },
    "r": {
     "delete_cmd_postfix": ") ",
     "delete_cmd_prefix": "rm(",
     "library": "var_list.r",
     "varRefreshCmd": "cat(var_dic_list()) "
    }
   },
   "types_to_exclude": [
    "module",
    "function",
    "builtin_function_or_method",
    "instance",
    "_Feature"
   ],
   "window_display": false
  }
 },
 "nbformat": 4,
 "nbformat_minor": 2
}
