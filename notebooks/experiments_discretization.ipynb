{
 "cells": [
  {
   "cell_type": "code",
   "execution_count": 1,
   "metadata": {},
   "outputs": [],
   "source": [
    "import numpy as np\n",
    "import gym"
   ]
  },
  {
   "cell_type": "code",
   "execution_count": 2,
   "metadata": {},
   "outputs": [],
   "source": [
    "env = gym.make(\"CartPole-v0\")\n",
    "space = env.observation_space"
   ]
  },
  {
   "cell_type": "code",
   "execution_count": 3,
   "metadata": {},
   "outputs": [
    {
     "data": {
      "text/plain": [
       "Box(4,)"
      ]
     },
     "execution_count": 3,
     "metadata": {},
     "output_type": "execute_result"
    }
   ],
   "source": [
    "space"
   ]
  },
  {
   "cell_type": "code",
   "execution_count": 48,
   "metadata": {},
   "outputs": [
    {
     "name": "stdout",
     "output_type": "stream",
     "text": [
      "-4.8 4.8\n",
      "-3.4028235e+38 3.4028235e+38\n",
      "-0.41887903 0.41887903\n",
      "-3.4028235e+38 3.4028235e+38\n"
     ]
    }
   ],
   "source": [
    "state_bins = []\n",
    "n_bins = 10\n",
    "\n",
    "# regular continuous environments\n",
    "for i in range(space.shape[0]):\n",
    "    low, high = space.low[i], space.high[i]\n",
    "    print(low, high)\n",
    "    bins = np.histogram_bin_edges([low, high], n_bins)\n",
    "    state_bins.append(bins[1:-1])\n"
   ]
  },
  {
   "cell_type": "code",
   "execution_count": 348,
   "metadata": {},
   "outputs": [],
   "source": [
    "mininf, maxinf = space.low[1], space.high[1]"
   ]
  },
  {
   "cell_type": "code",
   "execution_count": 357,
   "metadata": {},
   "outputs": [],
   "source": [
    "a = space.high\n",
    "a[a>1e6] = 1e6"
   ]
  },
  {
   "cell_type": "code",
   "execution_count": 390,
   "metadata": {},
   "outputs": [
    {
     "data": {
      "text/plain": [
       "array([-0.03169112,  0.02962376, -0.0153354 , -0.04306965])"
      ]
     },
     "execution_count": 390,
     "metadata": {},
     "output_type": "execute_result"
    }
   ],
   "source": [
    "env.reset()"
   ]
  },
  {
   "cell_type": "code",
   "execution_count": 358,
   "metadata": {},
   "outputs": [
    {
     "data": {
      "text/plain": [
       "array([4.8000002e+00, 1.0000000e+06, 4.1887903e-01, 1.0000000e+06],\n",
       "      dtype=float32)"
      ]
     },
     "execution_count": 358,
     "metadata": {},
     "output_type": "execute_result"
    }
   ],
   "source": [
    "a"
   ]
  },
  {
   "cell_type": "code",
   "execution_count": 339,
   "metadata": {},
   "outputs": [
    {
     "data": {
      "text/plain": [
       "[array([-3.8400002 , -2.88      , -1.9200001 , -0.96000004,  0.        ,\n",
       "         0.96000004,  1.9200001 ,  2.88      ,  3.8400002 ], dtype=float32),\n",
       " array([-2.7222588e+38, -2.0416941e+38, -1.3611294e+38, -6.8056469e+37,\n",
       "         0.0000000e+00,  6.8056469e+37,  1.3611294e+38,  2.0416941e+38,\n",
       "         2.7222588e+38], dtype=float32),\n",
       " array([-0.3351032 , -0.25132743, -0.1675516 , -0.0837758 ,  0.        ,\n",
       "         0.0837758 ,  0.1675516 ,  0.25132743,  0.3351032 ], dtype=float32),\n",
       " array([-2.7222588e+38, -2.0416941e+38, -1.3611294e+38, -6.8056469e+37,\n",
       "         0.0000000e+00,  6.8056469e+37,  1.3611294e+38,  2.0416941e+38,\n",
       "         2.7222588e+38], dtype=float32)]"
      ]
     },
     "execution_count": 339,
     "metadata": {},
     "output_type": "execute_result"
    }
   ],
   "source": [
    "state_bins"
   ]
  },
  {
   "cell_type": "code",
   "execution_count": 340,
   "metadata": {},
   "outputs": [
    {
     "data": {
      "text/plain": [
       "array([-2.7222588e+38, -2.0416941e+38, -1.3611294e+38, -6.8056469e+37,\n",
       "        0.0000000e+00,  6.8056469e+37,  1.3611294e+38,  2.0416941e+38,\n",
       "        2.7222588e+38], dtype=float32)"
      ]
     },
     "execution_count": 340,
     "metadata": {},
     "output_type": "execute_result"
    }
   ],
   "source": [
    "state_bins[1]"
   ]
  },
  {
   "cell_type": "code",
   "execution_count": 346,
   "metadata": {},
   "outputs": [
    {
     "data": {
      "text/plain": [
       "array([-3.2667106e+38, -2.4500329e+38, -1.6333553e+38, -8.1667766e+37,\n",
       "        0.0000000e+00,  8.1667766e+37,  1.6333553e+38,  2.4500329e+38,\n",
       "        3.2667106e+38], dtype=float32)"
      ]
     },
     "execution_count": 346,
     "metadata": {},
     "output_type": "execute_result"
    }
   ],
   "source": [
    "state_bins[1] * 1.2"
   ]
  },
  {
   "cell_type": "code",
   "execution_count": 53,
   "metadata": {},
   "outputs": [
    {
     "data": {
      "text/plain": [
       "array([-2.8822618e+00,  2.5582157e+38, -1.6251749e-01, -2.3985379e+38],\n",
       "      dtype=float32)"
      ]
     },
     "execution_count": 53,
     "metadata": {},
     "output_type": "execute_result"
    }
   ],
   "source": [
    "# sample = space.sample()\n",
    "sample"
   ]
  },
  {
   "cell_type": "code",
   "execution_count": 156,
   "metadata": {},
   "outputs": [
    {
     "data": {
      "text/plain": [
       "(4, 2)"
      ]
     },
     "execution_count": 156,
     "metadata": {},
     "output_type": "execute_result"
    }
   ],
   "source": [
    "env.observation_space.shape + (env.action_space.n,)"
   ]
  },
  {
   "cell_type": "code",
   "execution_count": 163,
   "metadata": {},
   "outputs": [
    {
     "ename": "TypeError",
     "evalue": "'int' object is not iterable",
     "output_type": "error",
     "traceback": [
      "\u001b[0;31m---------------------------------------------------------------------------\u001b[0m",
      "\u001b[0;31mTypeError\u001b[0m                                 Traceback (most recent call last)",
      "\u001b[0;32m<ipython-input-163-69b6b14cc30a>\u001b[0m in \u001b[0;36m<module>\u001b[0;34m()\u001b[0m\n\u001b[0;32m----> 1\u001b[0;31m \u001b[0mtuple\u001b[0m\u001b[0;34m(\u001b[0m\u001b[0;36m1\u001b[0m\u001b[0;34m)\u001b[0m\u001b[0;34m\u001b[0m\u001b[0m\n\u001b[0m",
      "\u001b[0;31mTypeError\u001b[0m: 'int' object is not iterable"
     ]
    }
   ],
   "source": [
    "tuple(1)"
   ]
  },
  {
   "cell_type": "code",
   "execution_count": 180,
   "metadata": {},
   "outputs": [
    {
     "data": {
      "text/plain": [
       "(1, 2, 3)"
      ]
     },
     "execution_count": 180,
     "metadata": {},
     "output_type": "execute_result"
    }
   ],
   "source": [
    "tuple([1,2,3])"
   ]
  },
  {
   "cell_type": "code",
   "execution_count": 178,
   "metadata": {},
   "outputs": [
    {
     "data": {
      "text/plain": [
       "(1, 4)"
      ]
     },
     "execution_count": 178,
     "metadata": {},
     "output_type": "execute_result"
    }
   ],
   "source": [
    "np.zeros(shape=(1,) + (4,)).shape"
   ]
  },
  {
   "cell_type": "code",
   "execution_count": 175,
   "metadata": {},
   "outputs": [
    {
     "name": "stdout",
     "output_type": "stream",
     "text": [
      "2\n"
     ]
    }
   ],
   "source": [
    "if hasattr(env.action_space, 'n'):\n",
    "    print(env.action_space.n)"
   ]
  },
  {
   "cell_type": "code",
   "execution_count": 171,
   "metadata": {},
   "outputs": [
    {
     "data": {
      "text/plain": [
       "gym.spaces.discrete.Discrete"
      ]
     },
     "execution_count": 171,
     "metadata": {},
     "output_type": "execute_result"
    }
   ],
   "source": [
    "type(env.action_space)"
   ]
  },
  {
   "cell_type": "code",
   "execution_count": 170,
   "metadata": {},
   "outputs": [
    {
     "data": {
      "text/plain": [
       "gym.spaces.box.Box"
      ]
     },
     "execution_count": 170,
     "metadata": {},
     "output_type": "execute_result"
    }
   ],
   "source": [
    "type(env.observation_space)"
   ]
  },
  {
   "cell_type": "code",
   "execution_count": null,
   "metadata": {},
   "outputs": [],
   "source": [
    "check if variabl"
   ]
  },
  {
   "cell_type": "code",
   "execution_count": 56,
   "metadata": {},
   "outputs": [
    {
     "data": {
      "text/plain": [
       "'1831'"
      ]
     },
     "execution_count": 56,
     "metadata": {},
     "output_type": "execute_result"
    }
   ],
   "source": [
    "''.join([str(np.digitize(s, b)) for s,b in zip(sample, state_bins)])\n",
    "# can have that in a dictionary\n",
    "# or it might just be easier to have a matrix notation?\n",
    "# having a position is faster than searching for a hash indeed\n",
    "# if I have 4 variables with 10 bins each, that gives me 10**4 possible positions.\n",
    "# which I can also do b"
   ]
  },
  {
   "cell_type": "code",
   "execution_count": 31,
   "metadata": {},
   "outputs": [
    {
     "data": {
      "text/plain": [
       "array([-5., -4., -3., -2., -1.,  0.,  1.,  2.,  3.,  4.,  5.])"
      ]
     },
     "execution_count": 31,
     "metadata": {},
     "output_type": "execute_result"
    }
   ],
   "source": [
    "np.linspace(-5, +5., n_bins+1)"
   ]
  },
  {
   "cell_type": "code",
   "execution_count": 35,
   "metadata": {},
   "outputs": [
    {
     "data": {
      "text/plain": [
       "array([-5., -4., -3., -2., -1.,  0.,  1.,  2.,  3.,  4.,  5.])"
      ]
     },
     "execution_count": 35,
     "metadata": {},
     "output_type": "execute_result"
    }
   ],
   "source": [
    "np.histogram_bin_edges([-5, -3, 0, 5.], n_bins)"
   ]
  },
  {
   "cell_type": "markdown",
   "metadata": {},
   "source": [
    "The good thing about using histogram is that I can use multiple values. Essentialy the result is the same as using linear spaces, with a little bit more flexibility, so I would prefer this option in implementation"
   ]
  },
  {
   "cell_type": "code",
   "execution_count": 14,
   "metadata": {},
   "outputs": [
    {
     "data": {
      "text/plain": [
       "array([-5., -4., -3., -2., -1.,  0.,  1.,  2.,  3.,  4.,  5.])"
      ]
     },
     "execution_count": 14,
     "metadata": {},
     "output_type": "execute_result"
    }
   ],
   "source": [
    "np.histogram_bin_edges([-5., 5.], n_bins)"
   ]
  },
  {
   "cell_type": "code",
   "execution_count": 12,
   "metadata": {},
   "outputs": [],
   "source": [
    "samples = []\n",
    "n_samples = 1000\n",
    "for s in range(n_samples):\n",
    "    samples.append(space.sample())\n",
    "samples = np.array(samples)"
   ]
  },
  {
   "cell_type": "code",
   "execution_count": 13,
   "metadata": {},
   "outputs": [
    {
     "data": {
      "text/plain": [
       "array([-3.3978778e+38, -2.7178372e+38, -2.0377966e+38, -1.3577560e+38,\n",
       "       -6.7771542e+37,  2.3251754e+35,  6.8236577e+37,  1.3624064e+38,\n",
       "        2.0424470e+38,  2.7224876e+38,  3.4025282e+38], dtype=float32)"
      ]
     },
     "execution_count": 13,
     "metadata": {},
     "output_type": "execute_result"
    }
   ],
   "source": [
    "np.histogram_bin_edges(samples[:, 1], n_bins)"
   ]
  },
  {
   "cell_type": "code",
   "execution_count": 7,
   "metadata": {},
   "outputs": [],
   "source": [
    "samples_fa = []\n",
    "env.reset()\n",
    "for s in range(n_samples):\n",
    "    state, _, done, _ = env.step(env.action_space.sample())\n",
    "    samples_fa.append(state)\n",
    "    if done:\n",
    "        env.reset()\n",
    "        \n",
    "samples_fa = np.array(samples_fa)"
   ]
  },
  {
   "cell_type": "code",
   "execution_count": 8,
   "metadata": {},
   "outputs": [
    {
     "data": {
      "text/plain": [
       "array([-1.53189302, -1.20674347, -0.88159392, -0.55644437, -0.23129482,\n",
       "        0.09385474,  0.41900429,  0.74415384,  1.06930339,  1.39445294,\n",
       "        1.71960249])"
      ]
     },
     "execution_count": 8,
     "metadata": {},
     "output_type": "execute_result"
    }
   ],
   "source": [
    "np.histogram_bin_edges(samples_fa[:, 1], n_bins)"
   ]
  },
  {
   "cell_type": "code",
   "execution_count": null,
   "metadata": {},
   "outputs": [],
   "source": [
    "# the range allowed is not a good indicative of the actual range\n",
    "# but how to know the actual range?\n"
   ]
  },
  {
   "cell_type": "code",
   "execution_count": 50,
   "metadata": {},
   "outputs": [
    {
     "data": {
      "text/plain": [
       "array([ 6.5322781e-01,  2.8964605e+38, -3.5936800e-01, -2.8098522e+38],\n",
       "      dtype=float32)"
      ]
     },
     "execution_count": 50,
     "metadata": {},
     "output_type": "execute_result"
    }
   ],
   "source": [
    "state = space.sample()\n",
    "state"
   ]
  },
  {
   "cell_type": "code",
   "execution_count": 37,
   "metadata": {},
   "outputs": [
    {
     "data": {
      "text/plain": [
       "999"
      ]
     },
     "execution_count": 37,
     "metadata": {},
     "output_type": "execute_result"
    }
   ],
   "source": [
    "s"
   ]
  },
  {
   "cell_type": "code",
   "execution_count": 62,
   "metadata": {},
   "outputs": [
    {
     "data": {
      "text/plain": [
       "array(0)"
      ]
     },
     "execution_count": 62,
     "metadata": {},
     "output_type": "execute_result"
    }
   ],
   "source": [
    "np.digitize(-4., state_bins, right=True)"
   ]
  },
  {
   "cell_type": "code",
   "execution_count": null,
   "metadata": {},
   "outputs": [],
   "source": [
    "for idx in range(len(state)):\n",
    "    place = np.digitize(state[idx], state_bins[idx], right=True)))\n"
   ]
  },
  {
   "cell_type": "code",
   "execution_count": 9,
   "metadata": {},
   "outputs": [
    {
     "data": {
      "text/plain": [
       "[array([-3.84000015, -2.88000011, -1.92000008, -0.96000004,  0.        ,\n",
       "         0.96000004,  1.92000008,  2.88000011,  3.84000015,  4.80000019]),\n",
       " array([-2.72225877e+38, -2.04169408e+38, -1.36112939e+38, -6.80564693e+37,\n",
       "         0.00000000e+00,  6.80564693e+37,  1.36112939e+38,  2.04169408e+38,\n",
       "         2.72225877e+38,  3.40282347e+38]),\n",
       " array([-0.33510323, -0.25132742, -0.16755161, -0.08377581,  0.        ,\n",
       "         0.08377581,  0.16755161,  0.25132742,  0.33510323,  0.41887903]),\n",
       " array([-2.72225877e+38, -2.04169408e+38, -1.36112939e+38, -6.80564693e+37,\n",
       "         0.00000000e+00,  6.80564693e+37,  1.36112939e+38,  2.04169408e+38,\n",
       "         2.72225877e+38,  3.40282347e+38])]"
      ]
     },
     "execution_count": 9,
     "metadata": {},
     "output_type": "execute_result"
    }
   ],
   "source": [
    "state_bins"
   ]
  },
  {
   "cell_type": "code",
   "execution_count": 25,
   "metadata": {},
   "outputs": [
    {
     "name": "stdout",
     "output_type": "stream",
     "text": [
      "100\n"
     ]
    }
   ],
   "source": []
  },
  {
   "cell_type": "code",
   "execution_count": 58,
   "metadata": {},
   "outputs": [],
   "source": [
    "m = np.zeros((10,10,10,10))"
   ]
  },
  {
   "cell_type": "code",
   "execution_count": 61,
   "metadata": {},
   "outputs": [
    {
     "ename": "ValueError",
     "evalue": "Input object to FillWithScalar is not a scalar",
     "output_type": "error",
     "traceback": [
      "\u001b[0;31m---------------------------------------------------------------------------\u001b[0m",
      "\u001b[0;31mValueError\u001b[0m                                Traceback (most recent call last)",
      "\u001b[0;32m<ipython-input-61-78cab3d92ccd>\u001b[0m in \u001b[0;36m<module>\u001b[0;34m()\u001b[0m\n\u001b[0;32m----> 1\u001b[0;31m \u001b[0mm\u001b[0m\u001b[0;34m.\u001b[0m\u001b[0mfill\u001b[0m\u001b[0;34m(\u001b[0m\u001b[0;34m[\u001b[0m\u001b[0;34m]\u001b[0m\u001b[0;34m)\u001b[0m\u001b[0;34m\u001b[0m\u001b[0m\n\u001b[0m",
      "\u001b[0;31mValueError\u001b[0m: Input object to FillWithScalar is not a scalar"
     ]
    }
   ],
   "source": [
    "m.fill([])"
   ]
  },
  {
   "cell_type": "markdown",
   "metadata": {},
   "source": [
    "### Matrix Approach for Storing Experiences"
   ]
  },
  {
   "cell_type": "markdown",
   "metadata": {},
   "source": [
    "Why a matrix? Allows for bins with different sizes, which the other approach does not"
   ]
  },
  {
   "cell_type": "code",
   "execution_count": 131,
   "metadata": {},
   "outputs": [],
   "source": [
    "bin_sizes = [2,3,10,2]"
   ]
  },
  {
   "cell_type": "code",
   "execution_count": 132,
   "metadata": {},
   "outputs": [],
   "source": [
    "ranges = []\n",
    "for bs in bin_sizes:\n",
    "    ranges.append(range(bs))"
   ]
  },
  {
   "cell_type": "code",
   "execution_count": 135,
   "metadata": {},
   "outputs": [
    {
     "data": {
      "text/plain": [
       "120"
      ]
     },
     "execution_count": 135,
     "metadata": {},
     "output_type": "execute_result"
    }
   ],
   "source": [
    "from itertools import product\n",
    "all_positions = list(product(*ranges))\n",
    "len(all_positions)"
   ]
  },
  {
   "cell_type": "code",
   "execution_count": 271,
   "metadata": {},
   "outputs": [
    {
     "ename": "ValueError",
     "evalue": "could not broadcast input array from shape (0) into shape (2,3,10,2)",
     "output_type": "error",
     "traceback": [
      "\u001b[0;31m---------------------------------------------------------------------------\u001b[0m",
      "\u001b[0;31mValueError\u001b[0m                                Traceback (most recent call last)",
      "\u001b[0;32m<ipython-input-271-ad629f212264>\u001b[0m in \u001b[0;36m<module>\u001b[0;34m()\u001b[0m\n\u001b[0;32m----> 1\u001b[0;31m \u001b[0mm2\u001b[0m \u001b[0;34m=\u001b[0m \u001b[0mnp\u001b[0m\u001b[0;34m.\u001b[0m\u001b[0mfull\u001b[0m\u001b[0;34m(\u001b[0m\u001b[0mbin_sizes\u001b[0m\u001b[0;34m,\u001b[0m \u001b[0mlist\u001b[0m\u001b[0;34m(\u001b[0m\u001b[0;34m)\u001b[0m\u001b[0;34m)\u001b[0m\u001b[0;34m\u001b[0m\u001b[0m\n\u001b[0m",
      "\u001b[0;32m~/anaconda/envs/rl/lib/python3.6/site-packages/numpy/core/numeric.py\u001b[0m in \u001b[0;36mfull\u001b[0;34m(shape, fill_value, dtype, order)\u001b[0m\n\u001b[1;32m    308\u001b[0m         \u001b[0mdtype\u001b[0m \u001b[0;34m=\u001b[0m \u001b[0marray\u001b[0m\u001b[0;34m(\u001b[0m\u001b[0mfill_value\u001b[0m\u001b[0;34m)\u001b[0m\u001b[0;34m.\u001b[0m\u001b[0mdtype\u001b[0m\u001b[0;34m\u001b[0m\u001b[0m\n\u001b[1;32m    309\u001b[0m     \u001b[0ma\u001b[0m \u001b[0;34m=\u001b[0m \u001b[0mempty\u001b[0m\u001b[0;34m(\u001b[0m\u001b[0mshape\u001b[0m\u001b[0;34m,\u001b[0m \u001b[0mdtype\u001b[0m\u001b[0;34m,\u001b[0m \u001b[0morder\u001b[0m\u001b[0;34m)\u001b[0m\u001b[0;34m\u001b[0m\u001b[0m\n\u001b[0;32m--> 310\u001b[0;31m     \u001b[0mmultiarray\u001b[0m\u001b[0;34m.\u001b[0m\u001b[0mcopyto\u001b[0m\u001b[0;34m(\u001b[0m\u001b[0ma\u001b[0m\u001b[0;34m,\u001b[0m \u001b[0mfill_value\u001b[0m\u001b[0;34m,\u001b[0m \u001b[0mcasting\u001b[0m\u001b[0;34m=\u001b[0m\u001b[0;34m'unsafe'\u001b[0m\u001b[0;34m)\u001b[0m\u001b[0;34m\u001b[0m\u001b[0m\n\u001b[0m\u001b[1;32m    311\u001b[0m     \u001b[0;32mreturn\u001b[0m \u001b[0ma\u001b[0m\u001b[0;34m\u001b[0m\u001b[0m\n\u001b[1;32m    312\u001b[0m \u001b[0;34m\u001b[0m\u001b[0m\n",
      "\u001b[0;31mValueError\u001b[0m: could not broadcast input array from shape (0) into shape (2,3,10,2)"
     ]
    }
   ],
   "source": [
    "m2 = np.full(bin_sizes, list())\n"
   ]
  },
  {
   "cell_type": "code",
   "execution_count": 274,
   "metadata": {},
   "outputs": [
    {
     "data": {
      "text/plain": [
       "120"
      ]
     },
     "execution_count": 274,
     "metadata": {},
     "output_type": "execute_result"
    }
   ],
   "source": [
    "len(m2.flatten())"
   ]
  },
  {
   "cell_type": "code",
   "execution_count": 279,
   "metadata": {},
   "outputs": [],
   "source": [
    "m3 = np.array([[1,2,3,4],[5,6,7,8]])"
   ]
  },
  {
   "cell_type": "code",
   "execution_count": 298,
   "metadata": {},
   "outputs": [],
   "source": [
    "m3 = np.random.random((3,4,5,6))"
   ]
  },
  {
   "cell_type": "code",
   "execution_count": 299,
   "metadata": {},
   "outputs": [
    {
     "data": {
      "text/plain": [
       "(3, 4, 5, 6)"
      ]
     },
     "execution_count": 299,
     "metadata": {},
     "output_type": "execute_result"
    }
   ],
   "source": [
    "m3.shape"
   ]
  },
  {
   "cell_type": "code",
   "execution_count": 300,
   "metadata": {},
   "outputs": [
    {
     "data": {
      "text/plain": [
       "array([[[[7.36278584e-01, 6.41073348e-01, 4.56874670e-01,\n",
       "          9.83852043e-01, 1.50665887e-01, 2.79346051e-01],\n",
       "         [6.47112005e-01, 7.26167470e-01, 4.68476881e-01,\n",
       "          1.75677456e-01, 7.30895624e-01, 3.21165668e-01],\n",
       "         [5.85025897e-01, 6.10749848e-01, 6.41355480e-01,\n",
       "          5.12696689e-01, 3.58697939e-01, 5.78420371e-01],\n",
       "         [5.26722223e-02, 5.65301935e-01, 8.05650530e-01,\n",
       "          4.34722019e-01, 1.26226790e-03, 1.28194936e-01],\n",
       "         [6.76273650e-02, 8.65066826e-01, 4.12594848e-01,\n",
       "          7.30721740e-01, 1.85555638e-01, 3.10983755e-01]],\n",
       "\n",
       "        [[4.64867136e-01, 6.80836346e-01, 9.23091181e-01,\n",
       "          2.12321662e-01, 9.88657617e-01, 2.48826055e-01],\n",
       "         [5.50180247e-02, 8.71553424e-01, 2.98552695e-01,\n",
       "          3.32918821e-01, 8.94554503e-01, 4.25341022e-02],\n",
       "         [6.09807332e-01, 5.75165588e-01, 3.20506805e-01,\n",
       "          7.34482042e-01, 9.03353440e-01, 4.87575366e-01],\n",
       "         [5.58023609e-01, 2.84349990e-01, 9.50537275e-02,\n",
       "          8.03414628e-01, 1.81661985e-01, 6.68752175e-01],\n",
       "         [7.12563656e-01, 2.58924118e-01, 8.07442053e-01,\n",
       "          1.34132000e-02, 9.86269892e-01, 9.20109906e-01]],\n",
       "\n",
       "        [[9.51597882e-01, 6.21523685e-01, 2.60654546e-01,\n",
       "          7.54605548e-01, 6.76619790e-01, 7.02490843e-01],\n",
       "         [2.42800492e-01, 8.29126442e-01, 7.07794018e-01,\n",
       "          2.20075976e-01, 4.02727881e-01, 8.29866436e-01],\n",
       "         [9.66962821e-01, 9.03278803e-01, 8.25571284e-01,\n",
       "          2.31145645e-01, 1.46041689e-01, 1.04377108e-01],\n",
       "         [3.19175544e-01, 3.84627493e-02, 7.20447497e-02,\n",
       "          1.99556486e-01, 4.45824572e-01, 2.23889147e-01],\n",
       "         [1.91952336e-01, 1.27039578e-01, 4.27934945e-01,\n",
       "          1.97736157e-01, 1.19926426e-01, 4.01716067e-01]],\n",
       "\n",
       "        [[1.76754404e-01, 8.05304088e-01, 4.90074095e-01,\n",
       "          8.58944854e-01, 1.61458581e-01, 9.19979324e-01],\n",
       "         [2.25017212e-01, 5.47787875e-01, 4.84511940e-01,\n",
       "          5.40615728e-01, 3.25492977e-01, 5.61316902e-01],\n",
       "         [6.10620299e-01, 6.37649508e-01, 9.04927049e-01,\n",
       "          8.38203170e-01, 5.13755627e-01, 5.92670774e-01],\n",
       "         [3.08383008e-01, 9.00271879e-01, 8.26810470e-01,\n",
       "          6.35370118e-01, 1.73778189e-01, 7.14761510e-01],\n",
       "         [2.31815746e-01, 2.19956589e-01, 6.52971015e-01,\n",
       "          8.29397308e-01, 6.12280629e-01, 6.68112096e-01]]],\n",
       "\n",
       "\n",
       "       [[[8.84962173e-02, 7.97284611e-02, 4.73684787e-01,\n",
       "          5.61151165e-01, 1.86546273e-01, 8.33974905e-01],\n",
       "         [7.64296234e-01, 8.80769401e-01, 2.51740342e-01,\n",
       "          2.15892670e-01, 4.89196164e-01, 9.42590739e-01],\n",
       "         [4.37128411e-01, 3.61917036e-01, 6.23518264e-01,\n",
       "          8.38689701e-02, 1.82367465e-01, 7.97803994e-01],\n",
       "         [8.24793445e-01, 7.57769834e-01, 2.14731347e-01,\n",
       "          5.57858896e-01, 1.85625649e-01, 6.65839687e-01],\n",
       "         [1.21339141e-01, 4.06416378e-01, 5.39276543e-01,\n",
       "          6.44670257e-02, 3.72121980e-01, 8.21784878e-01]],\n",
       "\n",
       "        [[9.61999709e-01, 4.03395040e-02, 2.62268286e-02,\n",
       "          6.41760244e-01, 8.34535480e-01, 9.30779299e-01],\n",
       "         [3.09895739e-02, 5.54385740e-01, 6.01482911e-01,\n",
       "          3.48651319e-01, 2.02538472e-01, 6.29997516e-01],\n",
       "         [4.17210249e-02, 6.05540287e-01, 3.86396671e-01,\n",
       "          6.08527626e-01, 5.81348455e-01, 6.12904883e-01],\n",
       "         [9.66122270e-01, 7.65397403e-02, 2.67071354e-01,\n",
       "          8.06916666e-01, 6.12172286e-03, 1.80796728e-01],\n",
       "         [2.49409626e-01, 9.06727163e-01, 3.34463219e-01,\n",
       "          1.37362825e-01, 4.94946244e-01, 7.10898572e-01]],\n",
       "\n",
       "        [[3.83588972e-01, 7.94643049e-01, 3.69409938e-01,\n",
       "          2.60923305e-01, 7.26888739e-01, 2.59074523e-01],\n",
       "         [3.89458134e-01, 6.90636035e-01, 3.18512731e-01,\n",
       "          3.51871014e-01, 2.41437252e-01, 6.15520656e-01],\n",
       "         [8.93767213e-01, 7.73482367e-01, 5.22082409e-01,\n",
       "          7.56244766e-01, 6.76920125e-02, 5.96818200e-01],\n",
       "         [9.17763166e-01, 2.04956609e-01, 9.34090486e-01,\n",
       "          5.03111570e-01, 6.04379694e-01, 5.29131878e-01],\n",
       "         [8.49814328e-01, 7.37220677e-01, 2.95663915e-01,\n",
       "          1.09227074e-01, 1.18764192e-01, 9.17787363e-01]],\n",
       "\n",
       "        [[3.54799756e-01, 8.58417718e-02, 9.96804203e-01,\n",
       "          7.09328004e-01, 5.45803219e-02, 3.32103360e-01],\n",
       "         [4.91909521e-01, 1.60902012e-01, 5.76971409e-01,\n",
       "          1.20592555e-01, 2.18403449e-01, 1.13444480e-01],\n",
       "         [7.79618553e-01, 5.77046981e-01, 1.90016088e-01,\n",
       "          2.76420316e-01, 4.49427020e-01, 5.86688529e-01],\n",
       "         [2.19092498e-01, 7.92045948e-04, 4.12103328e-01,\n",
       "          1.86651353e-02, 2.29578963e-03, 2.77725569e-01],\n",
       "         [3.02465477e-01, 1.27644119e-01, 3.97642043e-01,\n",
       "          6.50552769e-01, 4.08672773e-01, 7.10701962e-01]]],\n",
       "\n",
       "\n",
       "       [[[6.62523107e-02, 9.37716472e-01, 2.80323704e-01,\n",
       "          5.33577540e-01, 1.19950489e-01, 7.69344550e-01],\n",
       "         [8.47891419e-01, 5.64709156e-01, 5.82718934e-01,\n",
       "          7.37918983e-01, 7.33633134e-02, 8.34183756e-01],\n",
       "         [7.60781016e-01, 4.05057388e-01, 4.22587034e-01,\n",
       "          1.14630725e-01, 4.06615579e-01, 4.92122393e-01],\n",
       "         [8.59081866e-01, 8.49010793e-01, 9.82138081e-01,\n",
       "          8.80969208e-01, 2.06762473e-01, 3.41854228e-01],\n",
       "         [9.12233844e-01, 1.67251961e-01, 7.29915722e-01,\n",
       "          8.48658754e-01, 5.78827483e-01, 9.81781482e-01]],\n",
       "\n",
       "        [[6.69630318e-01, 2.54460174e-01, 5.20346875e-01,\n",
       "          5.65531342e-01, 5.53924420e-01, 9.50167937e-01],\n",
       "         [1.03949781e-01, 7.36362557e-01, 1.27305921e-01,\n",
       "          5.53421059e-01, 7.77030441e-01, 2.71913872e-01],\n",
       "         [2.13666119e-02, 6.59465177e-01, 8.24554876e-01,\n",
       "          4.69624244e-01, 6.33636793e-01, 1.23428396e-01],\n",
       "         [3.71598880e-01, 3.27538710e-01, 2.66374482e-01,\n",
       "          5.71194936e-01, 2.83720938e-01, 9.82192329e-01],\n",
       "         [5.45142214e-01, 9.86209180e-01, 6.11288329e-01,\n",
       "          9.42922536e-01, 3.10096728e-01, 1.92044983e-01]],\n",
       "\n",
       "        [[9.91874098e-01, 6.83327045e-01, 2.63376533e-01,\n",
       "          3.75491689e-01, 6.29770848e-02, 3.40540140e-01],\n",
       "         [9.50389530e-01, 8.99113117e-01, 3.03065865e-01,\n",
       "          2.61223436e-01, 3.76416897e-01, 5.85613599e-01],\n",
       "         [3.66156113e-01, 4.21591324e-01, 4.73721869e-01,\n",
       "          3.80390002e-01, 8.85017151e-01, 4.96011979e-01],\n",
       "         [8.88982001e-01, 9.04226583e-01, 5.39405315e-01,\n",
       "          6.52949391e-01, 8.09233237e-01, 7.72853721e-01],\n",
       "         [7.36933085e-01, 5.03736567e-02, 4.99206652e-01,\n",
       "          1.16941065e-01, 1.92964549e-01, 1.79595971e-01]],\n",
       "\n",
       "        [[8.82763290e-01, 2.79768121e-01, 8.61834897e-01,\n",
       "          1.36249900e-01, 1.53640935e-01, 4.15534619e-01],\n",
       "         [9.03700548e-01, 8.12207567e-01, 2.29240019e-01,\n",
       "          5.51427303e-01, 8.14029185e-01, 7.74996082e-01],\n",
       "         [1.84787827e-01, 2.69850275e-02, 6.37781787e-03,\n",
       "          2.88286970e-01, 6.43664400e-01, 3.40971009e-01],\n",
       "         [8.95946759e-01, 2.43960501e-01, 2.24267489e-01,\n",
       "          6.67533602e-01, 6.88778514e-01, 1.80120042e-01],\n",
       "         [7.28527991e-01, 4.73670011e-01, 1.44685756e-01,\n",
       "          8.55183803e-01, 6.07778388e-01, 3.01986809e-01]]]])"
      ]
     },
     "execution_count": 300,
     "metadata": {},
     "output_type": "execute_result"
    }
   ],
   "source": [
    "m3"
   ]
  },
  {
   "cell_type": "code",
   "execution_count": 314,
   "metadata": {},
   "outputs": [
    {
     "data": {
      "text/plain": [
       "(3, 4, 5, 6)"
      ]
     },
     "execution_count": 314,
     "metadata": {},
     "output_type": "execute_result"
    }
   ],
   "source": [
    "m3.shape"
   ]
  },
  {
   "cell_type": "code",
   "execution_count": 409,
   "metadata": {},
   "outputs": [
    {
     "data": {
      "text/plain": [
       "array([0.88276329, 0.27976812, 0.8618349 , 0.1362499 , 0.15364094,\n",
       "       0.41553462])"
      ]
     },
     "execution_count": 409,
     "metadata": {},
     "output_type": "execute_result"
    }
   ],
   "source": [
    "m3[(2,3)][0]"
   ]
  },
  {
   "cell_type": "code",
   "execution_count": 410,
   "metadata": {},
   "outputs": [],
   "source": [
    "m3[(2,3)][0] += 1."
   ]
  },
  {
   "cell_type": "code",
   "execution_count": 411,
   "metadata": {},
   "outputs": [
    {
     "data": {
      "text/plain": [
       "array([1.88276329, 1.27976812, 1.8618349 , 1.1362499 , 1.15364094,\n",
       "       1.41553462])"
      ]
     },
     "execution_count": 411,
     "metadata": {},
     "output_type": "execute_result"
    }
   ],
   "source": [
    "m3[(2,3)][0]"
   ]
  },
  {
   "cell_type": "code",
   "execution_count": 328,
   "metadata": {},
   "outputs": [
    {
     "data": {
      "text/plain": [
       "array([0.46575475, 0.43457264, 0.60168116, 0.61557223, 0.50474626])"
      ]
     },
     "execution_count": 328,
     "metadata": {},
     "output_type": "execute_result"
    }
   ],
   "source": [
    "np.mean(m3[1,2], axis=-1)"
   ]
  },
  {
   "cell_type": "code",
   "execution_count": 334,
   "metadata": {},
   "outputs": [
    {
     "data": {
      "text/plain": [
       "array([4.8000002e+00, 3.4028235e+38, 4.1887903e-01, 3.4028235e+38],\n",
       "      dtype=float32)"
      ]
     },
     "execution_count": 334,
     "metadata": {},
     "output_type": "execute_result"
    }
   ],
   "source": [
    "space.high"
   ]
  },
  {
   "cell_type": "code",
   "execution_count": 335,
   "metadata": {},
   "outputs": [
    {
     "data": {
      "text/plain": [
       "array([-4.8000002e+00, -3.4028235e+38, -4.1887903e-01, -3.4028235e+38],\n",
       "      dtype=float32)"
      ]
     },
     "execution_count": 335,
     "metadata": {},
     "output_type": "execute_result"
    }
   ],
   "source": [
    "space.low"
   ]
  },
  {
   "cell_type": "code",
   "execution_count": 336,
   "metadata": {},
   "outputs": [
    {
     "name": "stderr",
     "output_type": "stream",
     "text": [
      "/Users/lucasosouza/anaconda/envs/rl/lib/python3.6/site-packages/ipykernel_launcher.py:1: RuntimeWarning: overflow encountered in subtract\n",
      "  \"\"\"Entry point for launching an IPython kernel.\n"
     ]
    },
    {
     "data": {
      "text/plain": [
       "array([9.6       ,        inf, 0.83775806,        inf], dtype=float32)"
      ]
     },
     "execution_count": 336,
     "metadata": {},
     "output_type": "execute_result"
    }
   ],
   "source": [
    "space.high - space.low"
   ]
  },
  {
   "cell_type": "code",
   "execution_count": 329,
   "metadata": {},
   "outputs": [],
   "source": [
    "m4 = np.random.random(10)"
   ]
  },
  {
   "cell_type": "code",
   "execution_count": 338,
   "metadata": {},
   "outputs": [
    {
     "data": {
      "text/plain": [
       "array([-0.98779951, -0.30610133, -0.40867579, -0.76247292, -0.5613671 ,\n",
       "       -0.77666499, -0.51094383, -0.89479975, -0.0947812 , -0.82783595])"
      ]
     },
     "execution_count": 338,
     "metadata": {},
     "output_type": "execute_result"
    }
   ],
   "source": [
    "m4 * -1.05"
   ]
  },
  {
   "cell_type": "code",
   "execution_count": 402,
   "metadata": {},
   "outputs": [
    {
     "data": {
      "text/plain": [
       "array([0.91776317, 0.20495661, 0.93409049, 0.50311157, 0.60437969,\n",
       "       0.52913188])"
      ]
     },
     "execution_count": 402,
     "metadata": {},
     "output_type": "execute_result"
    }
   ],
   "source": [
    "m3[1][2, 3]"
   ]
  },
  {
   "cell_type": "code",
   "execution_count": 403,
   "metadata": {},
   "outputs": [
    {
     "data": {
      "text/plain": [
       "array([0.91776317, 0.20495661, 0.93409049, 0.50311157, 0.60437969,\n",
       "       0.52913188])"
      ]
     },
     "execution_count": 403,
     "metadata": {},
     "output_type": "execute_result"
    }
   ],
   "source": [
    "m3[1, 2, 3]"
   ]
  },
  {
   "cell_type": "code",
   "execution_count": 308,
   "metadata": {},
   "outputs": [
    {
     "data": {
      "text/plain": [
       "array([0.71914528, 0.36731825, 0.2932812 , 0.49973632, 0.58157828,\n",
       "       0.40272171])"
      ]
     },
     "execution_count": 308,
     "metadata": {},
     "output_type": "execute_result"
    }
   ],
   "source": [
    "np.mean(m3[:][(2, 3)], axis=0)"
   ]
  },
  {
   "cell_type": "code",
   "execution_count": 309,
   "metadata": {},
   "outputs": [
    {
     "data": {
      "text/plain": [
       "array([0.70864024, 0.38254865, 0.51518018, 0.45187248, 0.6198125 ,\n",
       "       0.50862492])"
      ]
     },
     "execution_count": 309,
     "metadata": {},
     "output_type": "execute_result"
    }
   ],
   "source": [
    "np.mean(m3[:, 2, 3, :], axis=0)"
   ]
  },
  {
   "cell_type": "code",
   "execution_count": 292,
   "metadata": {},
   "outputs": [
    {
     "data": {
      "text/plain": [
       "(4, 5)"
      ]
     },
     "execution_count": 292,
     "metadata": {},
     "output_type": "execute_result"
    }
   ],
   "source": [
    "np.mean(m3, axis=0).shape"
   ]
  },
  {
   "cell_type": "code",
   "execution_count": 138,
   "metadata": {},
   "outputs": [],
   "source": [
    "m2 = np.full(bin_sizes, tuple)\n",
    "for p in all_positions:\n",
    "    m2[p] = []"
   ]
  },
  {
   "cell_type": "code",
   "execution_count": 269,
   "metadata": {},
   "outputs": [
    {
     "ename": "AttributeError",
     "evalue": "type object 'tuple' has no attribute 'append'",
     "output_type": "error",
     "traceback": [
      "\u001b[0;31m---------------------------------------------------------------------------\u001b[0m",
      "\u001b[0;31mAttributeError\u001b[0m                            Traceback (most recent call last)",
      "\u001b[0;32m<ipython-input-269-04b289bfd772>\u001b[0m in \u001b[0;36m<module>\u001b[0;34m()\u001b[0m\n\u001b[0;32m----> 1\u001b[0;31m \u001b[0mm2\u001b[0m\u001b[0;34m[\u001b[0m\u001b[0mall_positions\u001b[0m\u001b[0;34m[\u001b[0m\u001b[0;36m0\u001b[0m\u001b[0;34m]\u001b[0m\u001b[0;34m]\u001b[0m\u001b[0;34m.\u001b[0m\u001b[0mappend\u001b[0m\u001b[0;34m(\u001b[0m\u001b[0;36m2\u001b[0m\u001b[0;34m)\u001b[0m\u001b[0;34m\u001b[0m\u001b[0m\n\u001b[0m",
      "\u001b[0;31mAttributeError\u001b[0m: type object 'tuple' has no attribute 'append'"
     ]
    }
   ],
   "source": [
    "m2[all_positions[0]].append(2)"
   ]
  },
  {
   "cell_type": "code",
   "execution_count": 181,
   "metadata": {},
   "outputs": [
    {
     "ename": "SyntaxError",
     "evalue": "invalid syntax (<ipython-input-181-97946106d11f>, line 1)",
     "output_type": "error",
     "traceback": [
      "\u001b[0;36m  File \u001b[0;32m\"<ipython-input-181-97946106d11f>\"\u001b[0;36m, line \u001b[0;32m1\u001b[0m\n\u001b[0;31m    a -\u001b[0m\n\u001b[0m       ^\u001b[0m\n\u001b[0;31mSyntaxError\u001b[0m\u001b[0;31m:\u001b[0m invalid syntax\n"
     ]
    }
   ],
   "source": [
    "a -"
   ]
  },
  {
   "cell_type": "code",
   "execution_count": 182,
   "metadata": {},
   "outputs": [],
   "source": [
    "a = None or 10"
   ]
  },
  {
   "cell_type": "code",
   "execution_count": 183,
   "metadata": {},
   "outputs": [
    {
     "data": {
      "text/plain": [
       "10"
      ]
     },
     "execution_count": 183,
     "metadata": {},
     "output_type": "execute_result"
    }
   ],
   "source": [
    "a"
   ]
  },
  {
   "cell_type": "markdown",
   "metadata": {},
   "source": [
    "## Handling q-table as matrix"
   ]
  },
  {
   "cell_type": "code",
   "execution_count": 184,
   "metadata": {},
   "outputs": [],
   "source": [
    "m = np.zeros((5,5))"
   ]
  },
  {
   "cell_type": "code",
   "execution_count": 185,
   "metadata": {},
   "outputs": [
    {
     "data": {
      "text/plain": [
       "array([[0., 0., 0., 0., 0.],\n",
       "       [0., 0., 0., 0., 0.],\n",
       "       [0., 0., 0., 0., 0.],\n",
       "       [0., 0., 0., 0., 0.],\n",
       "       [0., 0., 0., 0., 0.]])"
      ]
     },
     "execution_count": 185,
     "metadata": {},
     "output_type": "execute_result"
    }
   ],
   "source": [
    "m"
   ]
  },
  {
   "cell_type": "code",
   "execution_count": 191,
   "metadata": {},
   "outputs": [
    {
     "data": {
      "text/plain": [
       "[(1, 0.0), (0, 0.0), (2, 0.0), (3, 0.0), (4, 0.0)]"
      ]
     },
     "execution_count": 191,
     "metadata": {},
     "output_type": "execute_result"
    }
   ],
   "source": [
    "a = list(enumerate(m[0]))\n",
    "np.random.shuffle(a)\n",
    "a\n"
   ]
  },
  {
   "cell_type": "code",
   "execution_count": 206,
   "metadata": {},
   "outputs": [
    {
     "data": {
      "text/plain": [
       "[(2, 0.0), (0, 0.0), (3, 0.0), (1, 0.0), (4, 0.0)]"
      ]
     },
     "execution_count": 206,
     "metadata": {},
     "output_type": "execute_result"
    }
   ],
   "source": [
    "np.random.shuffle(a)\n",
    "a"
   ]
  },
  {
   "cell_type": "markdown",
   "metadata": {},
   "source": [
    "## Handling the edges in action discretizer"
   ]
  },
  {
   "cell_type": "code",
   "execution_count": 208,
   "metadata": {},
   "outputs": [
    {
     "data": {
      "text/plain": [
       "array([-4.8000002e+00, -3.4028235e+38, -4.1887903e-01, -3.4028235e+38],\n",
       "      dtype=float32)"
      ]
     },
     "execution_count": 208,
     "metadata": {},
     "output_type": "execute_result"
    }
   ],
   "source": [
    "env.observation_space.low"
   ]
  },
  {
   "cell_type": "code",
   "execution_count": 210,
   "metadata": {},
   "outputs": [
    {
     "data": {
      "text/plain": [
       "[array([-3.8400002 , -2.88      , -1.9200001 , -0.96000004,  0.        ,\n",
       "         0.96000004,  1.9200001 ,  2.88      ,  3.8400002 ], dtype=float32),\n",
       " array([-2.7222588e+38, -2.0416941e+38, -1.3611294e+38, -6.8056469e+37,\n",
       "         0.0000000e+00,  6.8056469e+37,  1.3611294e+38,  2.0416941e+38,\n",
       "         2.7222588e+38], dtype=float32),\n",
       " array([-0.3351032 , -0.25132743, -0.1675516 , -0.0837758 ,  0.        ,\n",
       "         0.0837758 ,  0.1675516 ,  0.25132743,  0.3351032 ], dtype=float32),\n",
       " array([-2.7222588e+38, -2.0416941e+38, -1.3611294e+38, -6.8056469e+37,\n",
       "         0.0000000e+00,  6.8056469e+37,  1.3611294e+38,  2.0416941e+38,\n",
       "         2.7222588e+38], dtype=float32)]"
      ]
     },
     "execution_count": 210,
     "metadata": {},
     "output_type": "execute_result"
    }
   ],
   "source": [
    "state_bins"
   ]
  },
  {
   "cell_type": "code",
   "execution_count": 223,
   "metadata": {},
   "outputs": [
    {
     "data": {
      "text/plain": [
       "0.31062437474148186"
      ]
     },
     "execution_count": 223,
     "metadata": {},
     "output_type": "execute_result"
    }
   ],
   "source": [
    "np.random.uniform(low=0.1, high=0.5)"
   ]
  },
  {
   "cell_type": "markdown",
   "metadata": {},
   "source": [
    "## Converting indices from flatenned to array"
   ]
  },
  {
   "cell_type": "code",
   "execution_count": 230,
   "metadata": {},
   "outputs": [],
   "source": [
    "m = np.random.random((3,3,2))"
   ]
  },
  {
   "cell_type": "code",
   "execution_count": 231,
   "metadata": {},
   "outputs": [
    {
     "data": {
      "text/plain": [
       "array([[[0.58530634, 0.53319085],\n",
       "        [0.4682592 , 0.69498205],\n",
       "        [0.13731083, 0.47027022]],\n",
       "\n",
       "       [[0.49638962, 0.45755495],\n",
       "        [0.93133414, 0.0531618 ],\n",
       "        [0.32118027, 0.69028205]],\n",
       "\n",
       "       [[0.52803746, 0.75931338],\n",
       "        [0.12626082, 0.46757376],\n",
       "        [0.92789199, 0.48048213]]])"
      ]
     },
     "execution_count": 231,
     "metadata": {},
     "output_type": "execute_result"
    }
   ],
   "source": [
    "m"
   ]
  },
  {
   "cell_type": "code",
   "execution_count": 234,
   "metadata": {},
   "outputs": [
    {
     "data": {
      "text/plain": [
       "0.12626081572584025"
      ]
     },
     "execution_count": 234,
     "metadata": {},
     "output_type": "execute_result"
    }
   ],
   "source": [
    "m[2,1,0]"
   ]
  },
  {
   "cell_type": "code",
   "execution_count": 232,
   "metadata": {},
   "outputs": [],
   "source": [
    "f = m.flatten()"
   ]
  },
  {
   "cell_type": "code",
   "execution_count": 236,
   "metadata": {},
   "outputs": [
    {
     "data": {
      "text/plain": [
       "array([0.58530634, 0.53319085, 0.4682592 , 0.69498205, 0.13731083,\n",
       "       0.47027022, 0.49638962, 0.45755495, 0.93133414, 0.0531618 ,\n",
       "       0.32118027, 0.69028205, 0.52803746, 0.75931338, 0.12626082,\n",
       "       0.46757376, 0.92789199, 0.48048213])"
      ]
     },
     "execution_count": 236,
     "metadata": {},
     "output_type": "execute_result"
    }
   ],
   "source": [
    "f"
   ]
  },
  {
   "cell_type": "code",
   "execution_count": 235,
   "metadata": {},
   "outputs": [
    {
     "data": {
      "text/plain": [
       "0.12626081572584025"
      ]
     },
     "execution_count": 235,
     "metadata": {},
     "output_type": "execute_result"
    }
   ],
   "source": [
    "f[14]"
   ]
  },
  {
   "cell_type": "code",
   "execution_count": 248,
   "metadata": {},
   "outputs": [],
   "source": [
    "dim_sizes = [int(np.prod(size[i+1:])) for i in range(len(size))]"
   ]
  },
  {
   "cell_type": "code",
   "execution_count": 249,
   "metadata": {},
   "outputs": [
    {
     "data": {
      "text/plain": [
       "[6, 2, 1]"
      ]
     },
     "execution_count": 249,
     "metadata": {},
     "output_type": "execute_result"
    }
   ],
   "source": [
    "dim_sizes"
   ]
  },
  {
   "cell_type": "code",
   "execution_count": 266,
   "metadata": {},
   "outputs": [
    {
     "data": {
      "text/plain": [
       "[1, 5, 0]"
      ]
     },
     "execution_count": 266,
     "metadata": {},
     "output_type": "execute_result"
    }
   ],
   "source": [
    "size = (10,18,1)\n",
    "dim_sizes = [int(np.prod(size[i+1:])) for i in range(len(size))]\n",
    "position = 23\n",
    "vec = []\n",
    "for ds in dim_sizes:\n",
    "    vec.append(position // ds)\n",
    "    position = position % ds\n",
    "\n",
    "vec"
   ]
  },
  {
   "cell_type": "code",
   "execution_count": 254,
   "metadata": {},
   "outputs": [
    {
     "data": {
      "text/plain": [
       "array([[[0.29198098],\n",
       "        [0.2279634 ],\n",
       "        [0.57367537],\n",
       "        [0.93155115],\n",
       "        [0.18302308],\n",
       "        [0.83884435],\n",
       "        [0.13248477],\n",
       "        [0.75793793],\n",
       "        [0.93848628],\n",
       "        [0.56008806],\n",
       "        [0.37161432],\n",
       "        [0.7342732 ],\n",
       "        [0.15747513],\n",
       "        [0.87849261],\n",
       "        [0.26507715],\n",
       "        [0.98402244],\n",
       "        [0.00460441],\n",
       "        [0.29269728]],\n",
       "\n",
       "       [[0.25815156],\n",
       "        [0.09080665],\n",
       "        [0.82237483],\n",
       "        [0.46825844],\n",
       "        [0.23247984],\n",
       "        [0.0106575 ],\n",
       "        [0.24370618],\n",
       "        [0.24288097],\n",
       "        [0.40445084],\n",
       "        [0.70395593],\n",
       "        [0.07118733],\n",
       "        [0.65669668],\n",
       "        [0.9974324 ],\n",
       "        [0.97925327],\n",
       "        [0.95293906],\n",
       "        [0.54299267],\n",
       "        [0.86610272],\n",
       "        [0.34507423]],\n",
       "\n",
       "       [[0.67516929],\n",
       "        [0.93352053],\n",
       "        [0.84942291],\n",
       "        [0.36319739],\n",
       "        [0.15650647],\n",
       "        [0.64905023],\n",
       "        [0.93523422],\n",
       "        [0.92358908],\n",
       "        [0.74246806],\n",
       "        [0.7353223 ],\n",
       "        [0.22674747],\n",
       "        [0.44059171],\n",
       "        [0.3422679 ],\n",
       "        [0.93729675],\n",
       "        [0.97984681],\n",
       "        [0.41881588],\n",
       "        [0.86710544],\n",
       "        [0.36241954]],\n",
       "\n",
       "       [[0.38549653],\n",
       "        [0.09198214],\n",
       "        [0.64541722],\n",
       "        [0.63564858],\n",
       "        [0.62345017],\n",
       "        [0.34448751],\n",
       "        [0.47746475],\n",
       "        [0.85813954],\n",
       "        [0.26535648],\n",
       "        [0.09652111],\n",
       "        [0.70517011],\n",
       "        [0.09488485],\n",
       "        [0.76193791],\n",
       "        [0.87243206],\n",
       "        [0.2852428 ],\n",
       "        [0.08705619],\n",
       "        [0.28785879],\n",
       "        [0.01819249]],\n",
       "\n",
       "       [[0.37572639],\n",
       "        [0.98896709],\n",
       "        [0.55602938],\n",
       "        [0.04556523],\n",
       "        [0.79710403],\n",
       "        [0.7284197 ],\n",
       "        [0.20867489],\n",
       "        [0.90345123],\n",
       "        [0.23995599],\n",
       "        [0.70424727],\n",
       "        [0.45904252],\n",
       "        [0.34018511],\n",
       "        [0.77995634],\n",
       "        [0.59482408],\n",
       "        [0.04275154],\n",
       "        [0.57340583],\n",
       "        [0.83397577],\n",
       "        [0.33455912]],\n",
       "\n",
       "       [[0.72760117],\n",
       "        [0.21755285],\n",
       "        [0.48105515],\n",
       "        [0.2007862 ],\n",
       "        [0.0055692 ],\n",
       "        [0.94872797],\n",
       "        [0.75096656],\n",
       "        [0.35660927],\n",
       "        [0.83972629],\n",
       "        [0.90854736],\n",
       "        [0.22555878],\n",
       "        [0.38990239],\n",
       "        [0.12402162],\n",
       "        [0.34373763],\n",
       "        [0.41121053],\n",
       "        [0.83797611],\n",
       "        [0.99833295],\n",
       "        [0.32094119]],\n",
       "\n",
       "       [[0.04217002],\n",
       "        [0.20290482],\n",
       "        [0.97369396],\n",
       "        [0.48061923],\n",
       "        [0.89582762],\n",
       "        [0.43791054],\n",
       "        [0.26530095],\n",
       "        [0.38019434],\n",
       "        [0.83348346],\n",
       "        [0.72880317],\n",
       "        [0.56125802],\n",
       "        [0.61964051],\n",
       "        [0.09481428],\n",
       "        [0.13312033],\n",
       "        [0.80906032],\n",
       "        [0.54931217],\n",
       "        [0.19371978],\n",
       "        [0.07060608]],\n",
       "\n",
       "       [[0.29192814],\n",
       "        [0.20888092],\n",
       "        [0.53729311],\n",
       "        [0.40462691],\n",
       "        [0.33558026],\n",
       "        [0.75527861],\n",
       "        [0.26016896],\n",
       "        [0.53089023],\n",
       "        [0.51124919],\n",
       "        [0.19811792],\n",
       "        [0.42221842],\n",
       "        [0.6516884 ],\n",
       "        [0.14446248],\n",
       "        [0.13125441],\n",
       "        [0.89161138],\n",
       "        [0.27991171],\n",
       "        [0.99198477],\n",
       "        [0.57778659]],\n",
       "\n",
       "       [[0.68460243],\n",
       "        [0.1580158 ],\n",
       "        [0.52985066],\n",
       "        [0.29328491],\n",
       "        [0.93447045],\n",
       "        [0.91722638],\n",
       "        [0.90799842],\n",
       "        [0.74571876],\n",
       "        [0.35838084],\n",
       "        [0.48034707],\n",
       "        [0.71121864],\n",
       "        [0.95146971],\n",
       "        [0.36349167],\n",
       "        [0.13694275],\n",
       "        [0.13033624],\n",
       "        [0.50994564],\n",
       "        [0.04053749],\n",
       "        [0.72750948]],\n",
       "\n",
       "       [[0.43217013],\n",
       "        [0.30516752],\n",
       "        [0.33755908],\n",
       "        [0.69603122],\n",
       "        [0.24487925],\n",
       "        [0.05310633],\n",
       "        [0.41554875],\n",
       "        [0.54536591],\n",
       "        [0.70395347],\n",
       "        [0.16692145],\n",
       "        [0.99032758],\n",
       "        [0.85981858],\n",
       "        [0.54323336],\n",
       "        [0.78747821],\n",
       "        [0.27943657],\n",
       "        [0.51474632],\n",
       "        [0.01659366],\n",
       "        [0.59115416]]])"
      ]
     },
     "execution_count": 254,
     "metadata": {},
     "output_type": "execute_result"
    }
   ],
   "source": [
    "m = np.random.random(size)\n",
    "m"
   ]
  },
  {
   "cell_type": "code",
   "execution_count": 258,
   "metadata": {},
   "outputs": [
    {
     "data": {
      "text/plain": [
       "0.010657502508262473"
      ]
     },
     "execution_count": 258,
     "metadata": {},
     "output_type": "execute_result"
    }
   ],
   "source": [
    "m.flatten()[23]"
   ]
  },
  {
   "cell_type": "code",
   "execution_count": 260,
   "metadata": {},
   "outputs": [
    {
     "data": {
      "text/plain": [
       "0.010657502508262473"
      ]
     },
     "execution_count": 260,
     "metadata": {},
     "output_type": "execute_result"
    }
   ],
   "source": [
    "m[1,5,0]"
   ]
  },
  {
   "cell_type": "code",
   "execution_count": 261,
   "metadata": {},
   "outputs": [],
   "source": [
    "a = np.random.random((2,2))"
   ]
  },
  {
   "cell_type": "code",
   "execution_count": 264,
   "metadata": {},
   "outputs": [
    {
     "data": {
      "text/plain": [
       "4"
      ]
     },
     "execution_count": 264,
     "metadata": {},
     "output_type": "execute_result"
    }
   ],
   "source": [
    "np.prod((2,2))"
   ]
  },
  {
   "cell_type": "code",
   "execution_count": 265,
   "metadata": {},
   "outputs": [
    {
     "ename": "TypeError",
     "evalue": "'int' object is not iterable",
     "output_type": "error",
     "traceback": [
      "\u001b[0;31m---------------------------------------------------------------------------\u001b[0m",
      "\u001b[0;31mTypeError\u001b[0m                                 Traceback (most recent call last)",
      "\u001b[0;32m<ipython-input-265-0db093100852>\u001b[0m in \u001b[0;36m<module>\u001b[0;34m()\u001b[0m\n\u001b[0;32m----> 1\u001b[0;31m \u001b[0mtuple\u001b[0m\u001b[0;34m(\u001b[0m\u001b[0;36m2\u001b[0m\u001b[0;34m)\u001b[0m\u001b[0;34m\u001b[0m\u001b[0m\n\u001b[0m",
      "\u001b[0;31mTypeError\u001b[0m: 'int' object is not iterable"
     ]
    }
   ],
   "source": [
    "tuple(2)"
   ]
  },
  {
   "cell_type": "code",
   "execution_count": 392,
   "metadata": {},
   "outputs": [
    {
     "data": {
      "text/plain": [
       "[3, 4, 5, 6]"
      ]
     },
     "execution_count": 392,
     "metadata": {},
     "output_type": "execute_result"
    }
   ],
   "source": [
    "[3, 4] + [5, 6]"
   ]
  },
  {
   "cell_type": "code",
   "execution_count": 393,
   "metadata": {},
   "outputs": [
    {
     "data": {
      "text/plain": [
       "array([ 8, 10])"
      ]
     },
     "execution_count": 393,
     "metadata": {},
     "output_type": "execute_result"
    }
   ],
   "source": [
    "np.array([3, 4]) + np.array([5, 6])"
   ]
  },
  {
   "cell_type": "code",
   "execution_count": 396,
   "metadata": {},
   "outputs": [
    {
     "data": {
      "text/plain": [
       "array([4., 5.])"
      ]
     },
     "execution_count": 396,
     "metadata": {},
     "output_type": "execute_result"
    }
   ],
   "source": [
    "np.mean([[3, 4], [5, 6]], axis=0)"
   ]
  },
  {
   "cell_type": "code",
   "execution_count": 415,
   "metadata": {},
   "outputs": [],
   "source": [
    "arquivo = [\n",
    "    {'trilha': 10},\n",
    "    {'trilha': 9},\n",
    "    {'trilha': 8},\n",
    "    {'trilha': 7},\n",
    "    {'trilha': 1},\n",
    "    {'trilha': 1},\n",
    "    {'trilha': 2},\n",
    "    {'trilha': 3},\n",
    "    {'trilha': 2},\n",
    "]"
   ]
  },
  {
   "cell_type": "code",
   "execution_count": 416,
   "metadata": {},
   "outputs": [],
   "source": [
    "counter = {}\n",
    "for obj in arquivo: \n",
    "    qtd_trilhas = obj['trilha']\n",
    "    if qtd_trilhas in counter:\n",
    "        counter[qtd_trilhas] +=1\n",
    "    else:\n",
    "        counter[qtd_trilhas] = 1"
   ]
  },
  {
   "cell_type": "code",
   "execution_count": 420,
   "metadata": {},
   "outputs": [],
   "source": [
    "res = []\n",
    "for qtd_trilhas, qtd_items in counter.items():\n",
    "    res.append({'x': qtd_trilhas, 'y': qtd_items})"
   ]
  },
  {
   "cell_type": "code",
   "execution_count": 421,
   "metadata": {},
   "outputs": [
    {
     "data": {
      "text/plain": [
       "[{'x': 10, 'y': 1},\n",
       " {'x': 9, 'y': 1},\n",
       " {'x': 8, 'y': 1},\n",
       " {'x': 7, 'y': 1},\n",
       " {'x': 1, 'y': 2},\n",
       " {'x': 2, 'y': 2},\n",
       " {'x': 3, 'y': 1}]"
      ]
     },
     "execution_count": 421,
     "metadata": {},
     "output_type": "execute_result"
    }
   ],
   "source": [
    "res"
   ]
  },
  {
   "cell_type": "code",
   "execution_count": null,
   "metadata": {},
   "outputs": [],
   "source": []
  },
  {
   "cell_type": "code",
   "execution_count": null,
   "metadata": {},
   "outputs": [],
   "source": []
  }
 ],
 "metadata": {
  "kernelspec": {
   "display_name": "Python 3",
   "language": "python",
   "name": "python3"
  },
  "language_info": {
   "codemirror_mode": {
    "name": "ipython",
    "version": 3
   },
   "file_extension": ".py",
   "mimetype": "text/x-python",
   "name": "python",
   "nbconvert_exporter": "python",
   "pygments_lexer": "ipython3",
   "version": "3.6.5"
  },
  "varInspector": {
   "cols": {
    "lenName": 16,
    "lenType": 16,
    "lenVar": 40
   },
   "kernels_config": {
    "python": {
     "delete_cmd_postfix": "",
     "delete_cmd_prefix": "del ",
     "library": "var_list.py",
     "varRefreshCmd": "print(var_dic_list())"
    },
    "r": {
     "delete_cmd_postfix": ") ",
     "delete_cmd_prefix": "rm(",
     "library": "var_list.r",
     "varRefreshCmd": "cat(var_dic_list()) "
    }
   },
   "types_to_exclude": [
    "module",
    "function",
    "builtin_function_or_method",
    "instance",
    "_Feature"
   ],
   "window_display": false
  }
 },
 "nbformat": 4,
 "nbformat_minor": 2
}
