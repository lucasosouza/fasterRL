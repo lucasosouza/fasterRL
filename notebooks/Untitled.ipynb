{
 "cells": [
  {
   "cell_type": "code",
   "execution_count": 2,
   "metadata": {},
   "outputs": [],
   "source": [
    "import numpy as np\n",
    "from skimage.measure import block_reduce\n"
   ]
  },
  {
   "cell_type": "code",
   "execution_count": 13,
   "metadata": {},
   "outputs": [],
   "source": [
    "img = np.random.random((84,84,3))"
   ]
  },
  {
   "cell_type": "code",
   "execution_count": 14,
   "metadata": {},
   "outputs": [],
   "source": [
    "reduced_img = block_reduce(img, block_size=(21,21,3), func=np.mean)"
   ]
  },
  {
   "cell_type": "code",
   "execution_count": 15,
   "metadata": {},
   "outputs": [
    {
     "data": {
      "text/plain": [
       "array([[[0.49200853],\n",
       "        [0.50668611],\n",
       "        [0.50362106],\n",
       "        [0.4944429 ]],\n",
       "\n",
       "       [[0.50604463],\n",
       "        [0.50285201],\n",
       "        [0.48915562],\n",
       "        [0.49288927]],\n",
       "\n",
       "       [[0.48367011],\n",
       "        [0.50161972],\n",
       "        [0.50196619],\n",
       "        [0.48020704]],\n",
       "\n",
       "       [[0.48603944],\n",
       "        [0.49457138],\n",
       "        [0.50406972],\n",
       "        [0.49466967]]])"
      ]
     },
     "execution_count": 15,
     "metadata": {},
     "output_type": "execute_result"
    }
   ],
   "source": [
    "reduced_img"
   ]
  },
  {
   "cell_type": "code",
   "execution_count": 8,
   "metadata": {},
   "outputs": [
    {
     "data": {
      "text/plain": [
       "(4, 4, 1)"
      ]
     },
     "execution_count": 8,
     "metadata": {},
     "output_type": "execute_result"
    }
   ],
   "source": [
    "reduced_img.shape"
   ]
  },
  {
   "cell_type": "code",
   "execution_count": 16,
   "metadata": {},
   "outputs": [],
   "source": [
    "reduced_img = np.random.random((4,4,1))"
   ]
  },
  {
   "cell_type": "code",
   "execution_count": 18,
   "metadata": {},
   "outputs": [
    {
     "data": {
      "text/plain": [
       "array([[[0.34881105],\n",
       "        [0.07467916],\n",
       "        [0.95983748],\n",
       "        [0.61629268]],\n",
       "\n",
       "       [[0.24716262],\n",
       "        [0.84462447],\n",
       "        [0.7098001 ],\n",
       "        [0.79483223]],\n",
       "\n",
       "       [[0.23019664],\n",
       "        [0.07895014],\n",
       "        [0.9621921 ],\n",
       "        [0.73276165]],\n",
       "\n",
       "       [[0.1725944 ],\n",
       "        [0.71840431],\n",
       "        [0.54152682],\n",
       "        [0.43266724]]])"
      ]
     },
     "execution_count": 18,
     "metadata": {},
     "output_type": "execute_result"
    }
   ],
   "source": [
    "reduced_img"
   ]
  },
  {
   "cell_type": "code",
   "execution_count": 19,
   "metadata": {},
   "outputs": [
    {
     "data": {
      "text/plain": [
       "[0.08720276201923385,\n",
       " 0.018669789686386107,\n",
       " 0.23995937039009815,\n",
       " 0.15407317065053078,\n",
       " 0.061790655690466295,\n",
       " 0.2111561172654473,\n",
       " 0.17745002606127958,\n",
       " 0.19870805655503304,\n",
       " 0.05754916092711465,\n",
       " 0.019737535742884116,\n",
       " 0.2405480238854482,\n",
       " 0.1831904122180999,\n",
       " 0.043148600229592354,\n",
       " 0.1796010785005281,\n",
       " 0.13538170513069045,\n",
       " 0.10816681029460853]"
      ]
     },
     "execution_count": 19,
     "metadata": {},
     "output_type": "execute_result"
    }
   ],
   "source": [
    "discretize_factor = 4\n",
    "list(map(lambda x:x/discretize_factor, reduced_img.ravel()))"
   ]
  },
  {
   "cell_type": "code",
   "execution_count": 10,
   "metadata": {},
   "outputs": [
    {
     "data": {
      "text/plain": [
       "0.25"
      ]
     },
     "execution_count": 10,
     "metadata": {},
     "output_type": "execute_result"
    }
   ],
   "source": [
    "discretize_factor = 1/4\n",
    "discretize_factor"
   ]
  },
  {
   "cell_type": "code",
   "execution_count": 20,
   "metadata": {},
   "outputs": [],
   "source": [
    "m = reduced_img.ravel()"
   ]
  },
  {
   "cell_type": "code",
   "execution_count": 28,
   "metadata": {},
   "outputs": [],
   "source": [
    "m[0] = 1"
   ]
  },
  {
   "cell_type": "code",
   "execution_count": 29,
   "metadata": {},
   "outputs": [],
   "source": [
    "m[1] = 0"
   ]
  },
  {
   "cell_type": "code",
   "execution_count": 35,
   "metadata": {},
   "outputs": [],
   "source": [
    "m[2] = 0.25\n",
    "m[3] = 0.50\n",
    "m[4] = 0.74999"
   ]
  },
  {
   "cell_type": "code",
   "execution_count": 36,
   "metadata": {},
   "outputs": [
    {
     "data": {
      "text/plain": [
       "array([1.        , 0.        , 0.25      , 0.5       , 0.74999   ,\n",
       "       0.84462447, 0.7098001 , 0.79483223, 0.23019664, 0.07895014,\n",
       "       0.9621921 , 0.73276165, 0.1725944 , 0.71840431, 0.54152682,\n",
       "       0.43266724])"
      ]
     },
     "execution_count": 36,
     "metadata": {},
     "output_type": "execute_result"
    }
   ],
   "source": [
    "m"
   ]
  },
  {
   "cell_type": "code",
   "execution_count": 43,
   "metadata": {},
   "outputs": [
    {
     "data": {
      "text/plain": [
       "'3012232300320221'"
      ]
     },
     "execution_count": 43,
     "metadata": {},
     "output_type": "execute_result"
    }
   ],
   "source": [
    "''.join(map(lambda x:str(x), np.digitize(m , [0.25,0.5,0.75])))"
   ]
  },
  {
   "cell_type": "code",
   "execution_count": 41,
   "metadata": {},
   "outputs": [
    {
     "data": {
      "text/plain": [
       "'2'"
      ]
     },
     "execution_count": 41,
     "metadata": {},
     "output_type": "execute_result"
    }
   ],
   "source": [
    "str(np.digitize(m , [0.25,0.5,0.75])[6])"
   ]
  },
  {
   "cell_type": "code",
   "execution_count": null,
   "metadata": {},
   "outputs": [],
   "source": []
  }
 ],
 "metadata": {
  "kernelspec": {
   "display_name": "Python [conda env:marlo]",
   "language": "python",
   "name": "conda-env-marlo-py"
  },
  "language_info": {
   "codemirror_mode": {
    "name": "ipython",
    "version": 3
   },
   "file_extension": ".py",
   "mimetype": "text/x-python",
   "name": "python",
   "nbconvert_exporter": "python",
   "pygments_lexer": "ipython3",
   "version": "3.6.6"
  }
 },
 "nbformat": 4,
 "nbformat_minor": 2
}
