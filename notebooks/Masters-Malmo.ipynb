{
 "cells": [
  {
   "cell_type": "markdown",
   "metadata": {},
   "source": [
    "# Experiment Report"
   ]
  },
  {
   "cell_type": "code",
   "execution_count": 2,
   "metadata": {},
   "outputs": [],
   "source": [
    "import os\n",
    "import numpy as np\n",
    "np.warnings.filterwarnings('ignore')\n",
    "\n",
    "import pandas as pd\n",
    "import matplotlib.pyplot as plt\n",
    "from matplotlib.ticker import FormatStrFormatter\n",
    "\n",
    "import seaborn as sns\n",
    "import json\n",
    "%matplotlib inline\n",
    "\n",
    "# statistics\n",
    "from scipy import stats\n",
    "from itertools import product, combinations"
   ]
  },
  {
   "cell_type": "code",
   "execution_count": 4,
   "metadata": {},
   "outputs": [],
   "source": [
    "results = {}\n",
    "root = \"/Users/lucasosouza/Documents/dissertacao/\"\n",
    "root_results = \"results/\"\n",
    "results_paths = [\"masters-marlo/\"]\n",
    "for results_path in results_paths:\n",
    "    experiments = [f for f in os.listdir(root+root_results+results_path) if f[-4:] == 'json']\n",
    "    for exp in experiments:\n",
    "        exp_name = exp[:-5]\n",
    "        with open( root+root_results+results_path+exp, 'r') as f:\n",
    "            data = json.load(f)\n",
    "            if exp_name in results:\n",
    "                for metric, values in data.items():\n",
    "                    results[exp_name][metric].extend(values)\n",
    "            else:\n",
    "                results[exp_name] = data                "
   ]
  },
  {
   "cell_type": "code",
   "execution_count": 5,
   "metadata": {},
   "outputs": [
    {
     "data": {
      "text/plain": [
       "['dqn_sharing.json',\n",
       " 'dqn_prio_sharing.json',\n",
       " 'dqn_prio_focus_sharing.json',\n",
       " 'dqn_focus_sharing.json',\n",
       " 'dqn.json',\n",
       " 'dqn_prio.json']"
      ]
     },
     "execution_count": 5,
     "metadata": {},
     "output_type": "execute_result"
    }
   ],
   "source": [
    "experiments"
   ]
  },
  {
   "cell_type": "code",
   "execution_count": 6,
   "metadata": {},
   "outputs": [],
   "source": [
    "episode_count = {}\n",
    "for exp in experiments:\n",
    "    exp_name = exp[:-5]\n",
    "    episode_count[exp_name] = results[exp_name]['episodes_to_complete']"
   ]
  },
  {
   "cell_type": "code",
   "execution_count": 7,
   "metadata": {},
   "outputs": [
    {
     "name": "stdout",
     "output_type": "stream",
     "text": [
      "dqn_sharing: 0\n",
      "dqn_prio_sharing: 0\n",
      "dqn_prio_focus_sharing: 0\n",
      "dqn_focus_sharing: 0\n",
      "dqn: 0\n",
      "dqn_prio: 0\n"
     ]
    }
   ],
   "source": [
    "for key, data in episode_count.items():\n",
    "    print(\"{}: {}\".format(key, sorted(data).count(1000)))"
   ]
  },
  {
   "cell_type": "code",
   "execution_count": 8,
   "metadata": {},
   "outputs": [
    {
     "data": {
      "text/plain": [
       "{'dqn_sharing': [100,\n",
       "  100,\n",
       "  100,\n",
       "  100,\n",
       "  100,\n",
       "  100,\n",
       "  100,\n",
       "  100,\n",
       "  100,\n",
       "  100,\n",
       "  13,\n",
       "  100,\n",
       "  100,\n",
       "  100,\n",
       "  100,\n",
       "  100,\n",
       "  73,\n",
       "  100,\n",
       "  100,\n",
       "  100],\n",
       " 'dqn_prio_sharing': [43,\n",
       "  6,\n",
       "  17,\n",
       "  12,\n",
       "  33,\n",
       "  31,\n",
       "  15,\n",
       "  22,\n",
       "  31,\n",
       "  26,\n",
       "  44,\n",
       "  28,\n",
       "  24,\n",
       "  34,\n",
       "  42,\n",
       "  34,\n",
       "  17,\n",
       "  25,\n",
       "  11,\n",
       "  8],\n",
       " 'dqn_prio_focus_sharing': [6,\n",
       "  6,\n",
       "  8,\n",
       "  6,\n",
       "  7,\n",
       "  6,\n",
       "  6,\n",
       "  5,\n",
       "  6,\n",
       "  6,\n",
       "  6,\n",
       "  6,\n",
       "  7,\n",
       "  6,\n",
       "  6,\n",
       "  6,\n",
       "  6,\n",
       "  8,\n",
       "  6,\n",
       "  6],\n",
       " 'dqn_focus_sharing': [16,\n",
       "  31,\n",
       "  58,\n",
       "  45,\n",
       "  35,\n",
       "  30,\n",
       "  100,\n",
       "  100,\n",
       "  40,\n",
       "  53,\n",
       "  100,\n",
       "  21,\n",
       "  100,\n",
       "  35,\n",
       "  100,\n",
       "  61,\n",
       "  100,\n",
       "  100,\n",
       "  100,\n",
       "  100],\n",
       " 'dqn': [100,\n",
       "  84,\n",
       "  39,\n",
       "  33,\n",
       "  46,\n",
       "  42,\n",
       "  42,\n",
       "  74,\n",
       "  65,\n",
       "  70,\n",
       "  100,\n",
       "  88,\n",
       "  96,\n",
       "  96,\n",
       "  100,\n",
       "  100,\n",
       "  100,\n",
       "  100,\n",
       "  100,\n",
       "  100],\n",
       " 'dqn_prio': [6,\n",
       "  21,\n",
       "  20,\n",
       "  12,\n",
       "  7,\n",
       "  6,\n",
       "  17,\n",
       "  6,\n",
       "  7,\n",
       "  9,\n",
       "  12,\n",
       "  6,\n",
       "  16,\n",
       "  6,\n",
       "  7,\n",
       "  6,\n",
       "  11,\n",
       "  6,\n",
       "  24,\n",
       "  6]}"
      ]
     },
     "execution_count": 8,
     "metadata": {},
     "output_type": "execute_result"
    }
   ],
   "source": [
    "episode_count"
   ]
  },
  {
   "cell_type": "code",
   "execution_count": 9,
   "metadata": {},
   "outputs": [
    {
     "name": "stdout",
     "output_type": "stream",
     "text": [
      "means\n",
      "94.3\n",
      "25.15\n",
      "6.25\n",
      "66.25\n",
      "78.75\n",
      "10.55\n",
      "\n",
      "deviations\n",
      "19.555306185278717\n",
      "11.257330944766615\n",
      "0.698212002188447\n",
      "32.20694800815501\n",
      "24.551731099863407\n",
      "5.748695504199191\n"
     ]
    }
   ],
   "source": [
    "print(\"means\")\n",
    "for k,v in episode_count.items():\n",
    "    print(np.mean(v))\n",
    "\n",
    "print(\"\\ndeviations\")\n",
    "for k,v in episode_count.items():\n",
    "    print(np.std(v))\n"
   ]
  },
  {
   "cell_type": "code",
   "execution_count": 10,
   "metadata": {},
   "outputs": [],
   "source": [
    "steps_count = {}\n",
    "for exp in experiments:\n",
    "    exp_name = exp[:-5]\n",
    "    steps_count[exp_name] = results[exp_name]['average_steps']"
   ]
  },
  {
   "cell_type": "code",
   "execution_count": 11,
   "metadata": {},
   "outputs": [
    {
     "name": "stdout",
     "output_type": "stream",
     "text": [
      "means\n",
      "135.29163329820867\n",
      "28.579722263956864\n",
      "22.294642857142854\n",
      "37.560993559000124\n",
      "36.6958818323764\n",
      "25.913693977591038\n",
      "\n",
      "deviations\n",
      "106.47402097177226\n",
      "5.580691831583672\n",
      "7.320635482596276\n",
      "16.847005380218473\n",
      "16.48265134054216\n",
      "4.221864120846951\n"
     ]
    }
   ],
   "source": [
    "## NUM STEPS\n",
    "print(\"means\")\n",
    "for k,v in steps_count.items():\n",
    "    print(np.mean(v))\n",
    "\n",
    "print(\"\\ndeviations\")\n",
    "for k,v in steps_count.items():\n",
    "    print(np.std(v))\n",
    "\n",
    "    "
   ]
  },
  {
   "cell_type": "code",
   "execution_count": 12,
   "metadata": {},
   "outputs": [],
   "source": [
    "rewards_count = {}\n",
    "for exp in experiments:\n",
    "    exp_name = exp[:-5]\n",
    "    rewards_count[exp_name] = results[exp_name]['average_rewards']"
   ]
  },
  {
   "cell_type": "code",
   "execution_count": 13,
   "metadata": {},
   "outputs": [
    {
     "name": "stdout",
     "output_type": "stream",
     "text": [
      "means\n",
      "-1.0434192246534857\n",
      "0.17553810374069723\n",
      "0.24745773785648742\n",
      "0.08033857299038108\n",
      "0.09489438697540749\n",
      "0.2065866750702358\n",
      "\n",
      "deviations\n",
      "1.228331597771231\n",
      "0.06687722528962112\n",
      "0.08719767178689804\n",
      "0.19885103481502703\n",
      "0.19363029042631102\n",
      "0.046911804867060744\n"
     ]
    }
   ],
   "source": [
    "## NUM STEPS\n",
    "print(\"means\")\n",
    "for k,v in rewards_count.items():\n",
    "    print(np.mean(v))\n",
    "\n",
    "print(\"\\ndeviations\")\n",
    "for k,v in rewards_count.items():\n",
    "    print(np.std(v))\n",
    "\n",
    "    "
   ]
  },
  {
   "cell_type": "code",
   "execution_count": 14,
   "metadata": {},
   "outputs": [
    {
     "data": {
      "text/plain": [
       "['dqn_sharing.json',\n",
       " 'dqn_prio_sharing.json',\n",
       " 'dqn_prio_focus_sharing.json',\n",
       " 'dqn_focus_sharing.json',\n",
       " 'dqn.json',\n",
       " 'dqn_prio.json']"
      ]
     },
     "execution_count": 14,
     "metadata": {},
     "output_type": "execute_result"
    }
   ],
   "source": [
    "experiments"
   ]
  },
  {
   "cell_type": "code",
   "execution_count": 15,
   "metadata": {},
   "outputs": [
    {
     "data": {
      "text/plain": [
       "dict_keys(['dqn_sharing', 'dqn_prio_sharing', 'dqn_prio_focus_sharing', 'dqn_focus_sharing', 'dqn', 'dqn_prio'])"
      ]
     },
     "execution_count": 15,
     "metadata": {},
     "output_type": "execute_result"
    }
   ],
   "source": [
    "results.keys()"
   ]
  },
  {
   "cell_type": "code",
   "execution_count": 16,
   "metadata": {},
   "outputs": [],
   "source": [
    "experiments_labels = {\n",
    "    'dqn_sharing': 'DQN + Naive ES',\n",
    "    'dqn_prio_sharing': 'DQN-PR + Prioritized ES', \n",
    "    'dqn_prio_focus_sharing': 'DQN-PR + Prioritized Focused ES', \n",
    "    'dqn_focus_sharing': 'DQN + Focused ES', \n",
    "    'dqn': 'DQN',\n",
    "    'dqn_prio': 'DQN-PR',\n",
    "}"
   ]
  },
  {
   "cell_type": "code",
   "execution_count": 20,
   "metadata": {},
   "outputs": [],
   "source": [
    "# format plots\n",
    "import matplotlib\n",
    "matplotlib.rc('xtick', labelsize=14)\n",
    "matplotlib.rc('ytick', labelsize=14)\n",
    "plt.rcParams.update({'font.size': 14})\n",
    "plt.rcParams.update({\"axes.grid\": True, \"grid.linewidth\": 0.75})\n"
   ]
  },
  {
   "cell_type": "code",
   "execution_count": 73,
   "metadata": {},
   "outputs": [],
   "source": [
    "def plot_multi(results, combinations, colors):\n",
    "    # https://matplotlib.org/examples/pylab_examples/subplots_demo.html\n",
    "    \n",
    "    f, axes = plt.subplots(len(combinations), 1, sharex=True, figsize=(10,10))\n",
    "    f.subplots_adjust(hspace=0.1)\n",
    "\n",
    "    for idx, comb in enumerate(combinations):\n",
    "        for exp_id, color in zip(comb, colors):\n",
    "            sns.distplot(results[exp_id], label=experiments_labels[exp_id], color=color, ax=axes[idx], kde=True, bins=np.arange(0,101,10))\n",
    "\n",
    "            axes[idx].xaxis.grid(True)\n",
    "            axes[idx].yaxis.grid(False)\n",
    "            axes[idx].set_yticks(np.arange(0,0.11,0.02));    \n",
    "\n",
    "            axes[idx].legend()\n",
    "\n",
    "        axes[idx].yaxis.set_major_formatter(FormatStrFormatter('%.3f'))            \n",
    "\n",
    "    # plt.xlabel(\"Number of episodes to complete trial\")\n",
    "    f.text(0.5, 0.065, 'Number of episodes required to complete task', ha='center')\n",
    "    f.text(0.02, 0.5, 'Frequency', va='center', rotation='vertical')\n",
    "    plt.ylim((0,0.1));\n",
    "    # plt.yticks(np.arange(0,0.11,0.02));    \n",
    "    plt.xlim((0,100));"
   ]
  },
  {
   "cell_type": "code",
   "execution_count": 101,
   "metadata": {},
   "outputs": [
    {
     "data": {
      "image/png": "[encoded data removed]",
      "text/plain": [
       "<Figure size 720x720 with 2 Axes>"
      ]
     },
     "metadata": {},
     "output_type": "display_data"
    }
   ],
   "source": [
    "plot_multi(episode_count, (['dqn', 'dqn_sharing'], ['dqn', 'dqn_focus_sharing']), ['#003FFF', '#03ED3A'])\n",
    "plt.savefig('singleVSmulti-Malmo.png', dpi=200, bbox_inches='tight')"
   ]
  },
  {
   "cell_type": "code",
   "execution_count": 102,
   "metadata": {},
   "outputs": [
    {
     "data": {
      "image/png": "[encoded data removed]",
      "text/plain": [
       "<Figure size 720x720 with 2 Axes>"
      ]
     },
     "metadata": {},
     "output_type": "display_data"
    }
   ],
   "source": [
    "plot_multi(episode_count, (['dqn_prio', 'dqn_prio_sharing'], ['dqn_prio', 'dqn_prio_focus_sharing']), ['#003FFF', '#03ED3A'])\n",
    "plt.savefig('singleVSmulti-prio-Malmo.png', dpi=200, bbox_inches='tight')"
   ]
  },
  {
   "cell_type": "code",
   "execution_count": 47,
   "metadata": {},
   "outputs": [
    {
     "data": {
      "image/png": "[encoded data removed]",
      "text/plain": [
       "<Figure size 720x360 with 1 Axes>"
      ]
     },
     "metadata": {},
     "output_type": "display_data"
    }
   ],
   "source": [
    "plot_single(episode_count, (['dqn_prio', 'dqn_prio']), ['#003FFF', '#03ED3A'])\n",
    "plt.savefig('singleVSmulti-prio.png', dpi=200, bbox_inches='tight')"
   ]
  },
  {
   "cell_type": "code",
   "execution_count": 46,
   "metadata": {},
   "outputs": [],
   "source": [
    "def plot_single(results, selected_experiments, colors):\n",
    "    plt.figure(figsize=(10,5))\n",
    "    # plt.xticks(np.arange(0,300000,50000))\n",
    "    plt.grid(axis='y')\n",
    "    for exp_id, color in zip(selected_experiments, colors):\n",
    "        # exp_label = experiments[exp_name]\n",
    "        sns.distplot(results[exp_id], label=experiments_labels[exp_id], color=color,  bins=np.arange(0,101,10))\n",
    "        \n",
    "    plt.legend()\n",
    "    plt.xlabel(\"Number of episodes required to complete task\", labelpad=9)\n",
    "    plt.ylabel(\"Frequency\", labelpad=10)\n",
    "    plt.xlim((0,100))\n",
    "\n",
    "    # plt.ylim(0, 0.06)\n",
    "        \n"
   ]
  },
  {
   "cell_type": "code",
   "execution_count": 43,
   "metadata": {},
   "outputs": [
    {
     "data": {
      "image/png": "[encoded data removed]",
      "text/plain": [
       "<Figure size 720x360 with 1 Axes>"
      ]
     },
     "metadata": {},
     "output_type": "display_data"
    }
   ],
   "source": [
    "plot_single(episode_count, ['dqn_focus_sharing', 'dqn_prio_focus_sharing'], ['#003FFF', '#03ED3A'])\n",
    "plt.savefig('multiComparison.png', dpi=200, bbox_inches='tight')"
   ]
  },
  {
   "cell_type": "code",
   "execution_count": 76,
   "metadata": {},
   "outputs": [],
   "source": [
    "graph = {}"
   ]
  },
  {
   "cell_type": "code",
   "execution_count": 77,
   "metadata": {},
   "outputs": [
    {
     "name": "stdout",
     "output_type": "stream",
     "text": [
      "dqn_sharing 94.3\n",
      "dqn_prio_sharing 25.15\n",
      "dqn_prio_focus_sharing 6.25\n",
      "dqn_focus_sharing 66.25\n",
      "dqn 78.75\n",
      "dqn_prio 10.55\n"
     ]
    }
   ],
   "source": [
    "for k,v in episode_count.items():\n",
    "    print(k, np.mean(v))\n"
   ]
  },
  {
   "cell_type": "code",
   "execution_count": 78,
   "metadata": {},
   "outputs": [],
   "source": [
    "graph['ETC Mean'] = []\n",
    "for k,v in episode_count.items():\n",
    "    graph['ETC Mean'].append(np.mean(v))\n",
    "\n",
    "graph['ETC Deviation'] = []\n",
    "for k,v in episode_count.items():\n",
    "    graph['ETC Deviation'].append(np.std(v))"
   ]
  },
  {
   "cell_type": "code",
   "execution_count": 82,
   "metadata": {},
   "outputs": [],
   "source": [
    "graph['Trials Failed'] = []\n",
    "for k,v in episode_count.items():\n",
    "    graph['Trials Failed'].append(sorted(v).count(100))\n",
    "    "
   ]
  },
  {
   "cell_type": "code",
   "execution_count": 83,
   "metadata": {},
   "outputs": [
    {
     "data": {
      "text/plain": [
       "dict_values(['DQN + Naive ES', 'DQN-PR + Prioritized ES', 'DQN-PR + Prioritized Focused ES', 'DQN + Focused ES', 'DQN', 'DQN-PR'])"
      ]
     },
     "execution_count": 83,
     "metadata": {},
     "output_type": "execute_result"
    }
   ],
   "source": [
    "experiments_labels.values()"
   ]
  },
  {
   "cell_type": "code",
   "execution_count": 90,
   "metadata": {},
   "outputs": [
    {
     "data": {
      "text/html": [
       "<div>\n",
       "<style scoped>\n",
       "    .dataframe tbody tr th:only-of-type {\n",
       "        vertical-align: middle;\n",
       "    }\n",
       "\n",
       "    .dataframe tbody tr th {\n",
       "        vertical-align: top;\n",
       "    }\n",
       "\n",
       "    .dataframe thead th {\n",
       "        text-align: right;\n",
       "    }\n",
       "</style>\n",
       "<table border=\"1\" class=\"dataframe\">\n",
       "  <thead>\n",
       "    <tr style=\"text-align: left;\">\n",
       "      <th></th>\n",
       "      <th>ETC Mean</th>\n",
       "      <th>ETC Deviation</th>\n",
       "      <th>Trials Failed</th>\n",
       "    </tr>\n",
       "  </thead>\n",
       "  <tbody>\n",
       "    <tr>\n",
       "      <th>DQN</th>\n",
       "      <td>78.75</td>\n",
       "      <td>24.55</td>\n",
       "      <td>8</td>\n",
       "    </tr>\n",
       "    <tr>\n",
       "      <th>DQN + Focused ES</th>\n",
       "      <td>66.25</td>\n",
       "      <td>32.21</td>\n",
       "      <td>9</td>\n",
       "    </tr>\n",
       "    <tr>\n",
       "      <th>DQN + Naive ES</th>\n",
       "      <td>94.30</td>\n",
       "      <td>19.56</td>\n",
       "      <td>18</td>\n",
       "    </tr>\n",
       "    <tr>\n",
       "      <th>DQN-PR</th>\n",
       "      <td>10.55</td>\n",
       "      <td>5.75</td>\n",
       "      <td>0</td>\n",
       "    </tr>\n",
       "    <tr>\n",
       "      <th>DQN-PR + Prioritized ES</th>\n",
       "      <td>25.15</td>\n",
       "      <td>11.26</td>\n",
       "      <td>0</td>\n",
       "    </tr>\n",
       "    <tr>\n",
       "      <th>DQN-PR + Prioritized Focused ES</th>\n",
       "      <td>6.25</td>\n",
       "      <td>0.70</td>\n",
       "      <td>0</td>\n",
       "    </tr>\n",
       "  </tbody>\n",
       "</table>\n",
       "</div>"
      ],
      "text/plain": [
       "                                 ETC Mean  ETC Deviation  Trials Failed\n",
       "DQN                              78.75     24.55           8           \n",
       "DQN + Focused ES                 66.25     32.21           9           \n",
       "DQN + Naive ES                   94.30     19.56          18           \n",
       "DQN-PR                           10.55      5.75           0           \n",
       "DQN-PR + Prioritized ES          25.15     11.26           0           \n",
       "DQN-PR + Prioritized Focused ES   6.25      0.70           0           "
      ]
     },
     "execution_count": 90,
     "metadata": {},
     "output_type": "execute_result"
    }
   ],
   "source": [
    "pd.set_option(\"display.colheader_justify\",\"left\")\n",
    "df = pd.DataFrame.from_dict(graph)\n",
    "df = df.transpose()\n",
    "df.columns=[experiments_labels[e] for e in episode_count.keys()]\n",
    "df = df.transpose()\n",
    "df['ETC Mean'] = df['ETC Mean'].round(decimals=2)\n",
    "df['ETC Deviation'] = df['ETC Deviation'].round(decimals=2)\n",
    "df['Trials Failed'] = pd.to_numeric(df['Trials Failed'], downcast='integer')\n",
    "df.style.set_properties(**{'text-align': 'center'})\n",
    "# df = df.sort_values(by='ETC Mean')\n",
    "df = df.sort_index()\n",
    "df.head(10)"
   ]
  },
  {
   "cell_type": "code",
   "execution_count": 91,
   "metadata": {},
   "outputs": [],
   "source": [
    "# calculate improvements \n",
    "col = 'ETC Improvement' \n",
    "metric = 'ETC Mean'\n",
    "df[col] = 0\n",
    "\n",
    "base_key = 'DQN-PR'\n",
    "for key in ['DQN-PR', 'DQN-PR + Prioritized Focused ES','DQN-PR + Prioritized ES']:\n",
    "    df.loc[key, col] = (100*(df.loc[base_key, metric]-df.loc[key, metric])/df.loc[base_key, metric]).round(2)\n",
    "    \n",
    "base_key = 'DQN'\n",
    "for key in ['DQN', 'DQN + Focused ES','DQN + Naive ES']:\n",
    "    df.loc[key, col] = (100*(df.loc[base_key, metric]-df.loc[key, metric])/df.loc[base_key, metric]).round(2)\n",
    "    \n"
   ]
  },
  {
   "cell_type": "code",
   "execution_count": 99,
   "metadata": {},
   "outputs": [
    {
     "data": {
      "text/html": [
       "<div>\n",
       "<style scoped>\n",
       "    .dataframe tbody tr th:only-of-type {\n",
       "        vertical-align: middle;\n",
       "    }\n",
       "\n",
       "    .dataframe tbody tr th {\n",
       "        vertical-align: top;\n",
       "    }\n",
       "\n",
       "    .dataframe thead th {\n",
       "        text-align: right;\n",
       "    }\n",
       "</style>\n",
       "<table border=\"1\" class=\"dataframe\">\n",
       "  <thead>\n",
       "    <tr style=\"text-align: left;\">\n",
       "      <th></th>\n",
       "      <th>ETC Mean</th>\n",
       "      <th>ETC Deviation</th>\n",
       "      <th>Trials Failed</th>\n",
       "      <th>ETC Improvement</th>\n",
       "    </tr>\n",
       "  </thead>\n",
       "  <tbody>\n",
       "    <tr>\n",
       "      <th>DQN</th>\n",
       "      <td>78.75</td>\n",
       "      <td>24.55</td>\n",
       "      <td>8</td>\n",
       "      <td>0.00</td>\n",
       "    </tr>\n",
       "    <tr>\n",
       "      <th>DQN + Focused ES</th>\n",
       "      <td>66.25</td>\n",
       "      <td>32.21</td>\n",
       "      <td>9</td>\n",
       "      <td>15.87</td>\n",
       "    </tr>\n",
       "    <tr>\n",
       "      <th>DQN + Naive ES</th>\n",
       "      <td>94.30</td>\n",
       "      <td>19.56</td>\n",
       "      <td>18</td>\n",
       "      <td>-19.75</td>\n",
       "    </tr>\n",
       "    <tr>\n",
       "      <th>DQN-PR</th>\n",
       "      <td>10.55</td>\n",
       "      <td>5.75</td>\n",
       "      <td>0</td>\n",
       "      <td>0.00</td>\n",
       "    </tr>\n",
       "    <tr>\n",
       "      <th>DQN-PR + Prioritized ES</th>\n",
       "      <td>25.15</td>\n",
       "      <td>11.26</td>\n",
       "      <td>0</td>\n",
       "      <td>-138.39</td>\n",
       "    </tr>\n",
       "    <tr>\n",
       "      <th>DQN-PR + Prioritized Focused ES</th>\n",
       "      <td>6.25</td>\n",
       "      <td>0.70</td>\n",
       "      <td>0</td>\n",
       "      <td>40.76</td>\n",
       "    </tr>\n",
       "  </tbody>\n",
       "</table>\n",
       "</div>"
      ],
      "text/plain": [
       "                                 ETC Mean  ETC Deviation  Trials Failed  \\\n",
       "DQN                              78.75     24.55           8              \n",
       "DQN + Focused ES                 66.25     32.21           9              \n",
       "DQN + Naive ES                   94.30     19.56          18              \n",
       "DQN-PR                           10.55      5.75           0              \n",
       "DQN-PR + Prioritized ES          25.15     11.26           0              \n",
       "DQN-PR + Prioritized Focused ES   6.25      0.70           0              \n",
       "\n",
       "                                 ETC Improvement  \n",
       "DQN                                0.00           \n",
       "DQN + Focused ES                  15.87           \n",
       "DQN + Naive ES                   -19.75           \n",
       "DQN-PR                             0.00           \n",
       "DQN-PR + Prioritized ES         -138.39           \n",
       "DQN-PR + Prioritized Focused ES   40.76           "
      ]
     },
     "execution_count": 99,
     "metadata": {},
     "output_type": "execute_result"
    }
   ],
   "source": [
    "df.head(10)"
   ]
  },
  {
   "cell_type": "code",
   "execution_count": 100,
   "metadata": {},
   "outputs": [
    {
     "name": "stdout",
     "output_type": "stream",
     "text": [
      "\\begin{tabular}{lrrrr}\n",
      "\\toprule\n",
      "{} &  ETC Mean &  ETC Deviation &  Trials Failed &  ETC Improvement \\\\\n",
      "\\midrule\n",
      "DQN                             &  78.75    &  24.55         &   8            &    0.00          \\\\\n",
      "DQN + Focused ES                &  66.25    &  32.21         &   9            &   15.87          \\\\\n",
      "DQN + Naive ES                  &  94.30    &  19.56         &  18            &  -19.75          \\\\\n",
      "DQN-PR                          &  10.55    &   5.75         &   0            &    0.00          \\\\\n",
      "DQN-PR + Prioritized ES         &  25.15    &  11.26         &   0            & -138.39          \\\\\n",
      "DQN-PR + Prioritized Focused ES &   6.25    &   0.70         &   0            &   40.76          \\\\\n",
      "\\bottomrule\n",
      "\\end{tabular}\n",
      "\n"
     ]
    }
   ],
   "source": [
    "print(df.to_latex())"
   ]
  },
  {
   "cell_type": "code",
   "execution_count": null,
   "metadata": {},
   "outputs": [],
   "source": [
    "# add number of episodes failed"
   ]
  },
  {
   "cell_type": "code",
   "execution_count": 103,
   "metadata": {},
   "outputs": [
    {
     "name": "stdout",
     "output_type": "stream",
     "text": [
      "dqn_sharing vs  dqn_prio_sharing\n",
      "\n",
      "\n",
      "Ks_2sampResult(statistic=0.95, pvalue=4.740626972386828e-09)\n",
      "\n",
      "\n",
      "dqn_sharing vs  dqn_prio_focus_sharing\n",
      "\n",
      "\n",
      "Ks_2sampResult(statistic=1.0, pvalue=5.546615975073734e-10)\n",
      "\n",
      "\n",
      "dqn_sharing vs  dqn_focus_sharing\n",
      "\n",
      "\n",
      "Ks_2sampResult(statistic=0.5, pvalue=0.008161678659143069)\n",
      "\n",
      "\n",
      "dqn_sharing vs  dqn\n",
      "\n",
      "\n",
      "Ks_2sampResult(statistic=0.5, pvalue=0.008161678659143069)\n",
      "\n",
      "\n",
      "dqn_sharing vs  dqn_prio\n",
      "\n",
      "\n",
      "Ks_2sampResult(statistic=0.95, pvalue=4.740626972386828e-09)\n",
      "\n",
      "\n",
      "dqn_prio_sharing vs  dqn_prio_focus_sharing\n",
      "\n",
      "\n",
      "Ks_2sampResult(statistic=0.9, pvalue=3.629597429424607e-08)\n",
      "\n",
      "\n",
      "dqn_prio_sharing vs  dqn_focus_sharing\n",
      "\n",
      "\n",
      "Ks_2sampResult(statistic=0.65, pvalue=0.0001833144473939013)\n",
      "\n",
      "\n",
      "dqn_prio_sharing vs  dqn\n",
      "\n",
      "\n",
      "Ks_2sampResult(statistic=0.8, pvalue=1.5294975345128762e-06)\n",
      "\n",
      "\n",
      "dqn_prio_sharing vs  dqn_prio\n",
      "\n",
      "\n",
      "Ks_2sampResult(statistic=0.6, pvalue=0.0007252860301701252)\n",
      "\n",
      "\n",
      "dqn_prio_focus_sharing vs  dqn_focus_sharing\n",
      "\n",
      "\n",
      "Ks_2sampResult(statistic=1.0, pvalue=5.546615975073734e-10)\n",
      "\n",
      "\n",
      "dqn_prio_focus_sharing vs  dqn\n",
      "\n",
      "\n",
      "Ks_2sampResult(statistic=1.0, pvalue=5.546615975073734e-10)\n",
      "\n",
      "\n",
      "dqn_prio_focus_sharing vs  dqn_prio\n",
      "\n",
      "\n",
      "Ks_2sampResult(statistic=0.44999999999999996, pvalue=0.023213275854449614)\n",
      "\n",
      "\n",
      "dqn_focus_sharing vs  dqn\n",
      "\n",
      "\n",
      "Ks_2sampResult(statistic=0.30000000000000004, pvalue=0.2752688672674211)\n",
      "\n",
      "\n",
      "dqn_focus_sharing vs  dqn_prio\n",
      "\n",
      "\n",
      "Ks_2sampResult(statistic=0.9, pvalue=3.629597429424607e-08)\n",
      "\n",
      "\n",
      "dqn vs  dqn_prio\n",
      "\n",
      "\n",
      "Ks_2sampResult(statistic=1.0, pvalue=5.546615975073734e-10)\n",
      "\n",
      "\n"
     ]
    }
   ],
   "source": [
    "def calc_stats(res):\n",
    "    # get specific variable to compare\n",
    "    all_values = list(res.items())\n",
    "    samples = list(combinations(all_values, 2))\n",
    "    for sample in samples:\n",
    "        print(sample[0][0], \"vs \",  sample[1][0])\n",
    "        print(\"\\n\")\n",
    "        print(stats.ks_2samp(sample[0][1], sample[1][1]))  \n",
    "        print(\"\\n\")\n",
    "\n",
    "calc_stats(episode_count)"
   ]
  },
  {
   "cell_type": "code",
   "execution_count": null,
   "metadata": {},
   "outputs": [],
   "source": []
  }
 ],
 "metadata": {
  "kernelspec": {
   "display_name": "Python 3",
   "language": "python",
   "name": "python3"
  },
  "language_info": {
   "codemirror_mode": {
    "name": "ipython",
    "version": 3
   },
   "file_extension": ".py",
   "mimetype": "text/x-python",
   "name": "python",
   "nbconvert_exporter": "python",
   "pygments_lexer": "ipython3",
   "version": "3.6.5"
  },
  "varInspector": {
   "cols": {
    "lenName": 16,
    "lenType": 16,
    "lenVar": 40
   },
   "kernels_config": {
    "python": {
     "delete_cmd_postfix": "",
     "delete_cmd_prefix": "del ",
     "library": "var_list.py",
     "varRefreshCmd": "print(var_dic_list())"
    },
    "r": {
     "delete_cmd_postfix": ") ",
     "delete_cmd_prefix": "rm(",
     "library": "var_list.r",
     "varRefreshCmd": "cat(var_dic_list()) "
    }
   },
   "types_to_exclude": [
    "module",
    "function",
    "builtin_function_or_method",
    "instance",
    "_Feature"
   ],
   "window_display": false
  }
 },
 "nbformat": 4,
 "nbformat_minor": 2
}
